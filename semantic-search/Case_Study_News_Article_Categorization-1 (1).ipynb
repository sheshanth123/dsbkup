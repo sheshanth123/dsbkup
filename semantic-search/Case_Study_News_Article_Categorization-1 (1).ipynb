{
  "cells": [
    {
      "cell_type": "markdown",
      "source": [
        "<center><p float=\"center\">\n",
        "  <img src=\"https://upload.wikimedia.org/wikipedia/commons/e/e9/4_RGB_McCombs_School_Brand_Branded.png\" width=\"300\" height=\"100\"/>\n",
        "  <img src=\"https://mma.prnewswire.com/media/1458111/Great_Learning_Logo.jpg?p=facebook\" width=\"200\" height=\"100\"/>\n",
        "</p></center>\n",
        "\n",
        "<h1><center><font size=10>Artificial Intelligence and Machine Learning</center></font></h1>\n",
        "<h1><center>Introduction to Natural Language Processing - Week 3</center></h1>"
      ],
      "metadata": {
        "id": "egcQ3iww-5r-"
      }
    },
    {
      "cell_type": "markdown",
      "source": [
        "<center><p float=\"center\">\n",
        "  <img src=\"https://images.pexels.com/photos/4185957/pexels-photo-4185957.jpeg?auto=compress&cs=tinysrgb&w=1260&h=750&dpr=1\" width=\"720\"/>\n",
        "</p></center>\n",
        "\n",
        "<center><font size=6>News Article Categorization</font></center>"
      ],
      "metadata": {
        "id": "KI4_2mwl_ARc"
      }
    },
    {
      "cell_type": "markdown",
      "metadata": {
        "id": "MjncuDf2qugI"
      },
      "source": [
        "## **Problem Statement**"
      ]
    },
    {
      "cell_type": "markdown",
      "metadata": {
        "id": "x9VSf2D_F5iU"
      },
      "source": [
        "### Business Context"
      ]
    },
    {
      "cell_type": "markdown",
      "source": [
        "In the dynamic landscape of the media and news industry, the ability to swiftly categorize and curate content has become a strategic imperative. The vast volume of information demands efficient systems to organize and present content to the audience.\n",
        "\n",
        "The media industry, being the pulse of information dissemination, grapples with the continuous influx of news articles spanning diverse topics. Ensuring that the right articles reach the right audience promptly is not just a logistical necessity but a critical component in retaining and engaging audiences in an age of information overload.\n",
        "\n",
        "Common Industry Challenges:\n",
        "Amidst the ceaseless flow of news, organizations encounter challenges such as:\n",
        "- Information Overload: The sheer volume of news articles makes manual categorization impractical.\n",
        "- Timeliness: Delays in categorizing news articles can result in outdated or misplaced content."
      ],
      "metadata": {
        "id": "RLApwDNbFDEK"
      }
    },
    {
      "cell_type": "markdown",
      "metadata": {
        "id": "MzSKXh2LsOvd"
      },
      "source": [
        "### Problem Definition"
      ]
    },
    {
      "cell_type": "markdown",
      "source": [
        "E-news Express, a news aggregation startup, faces the challenge of categorizing the news articles collected. With news articles covering sports, entertainment, politics, and more, the need for an advanced and automated system to categorize them has become increasingly evident. The manual efforts required for categorizing such a diverse range of news articles are substantial, and human errors in the categorization of news articles can lead to reputational damage for the startup. There is also the factor of delays and potential inaccuracies. To streamline and optimize this process, the organization recognizes the imperative of adopting cutting-edge technologies, particularly machine learning, to automate and enhance the categorization of content.\n",
        "\n",
        "As a data scientist on the E-news Express data team, the task is to analyze the text in news articles and build an unsupervised learning model for categorizing them. The categorization done by the model can then be validated against human-defined labels to check the overall accuracy of the AI system. The goal is to optimize the categorization process, ensuring timely and personalized delivery."
      ],
      "metadata": {
        "id": "PdEWl1qZFNWM"
      }
    },
    {
      "cell_type": "markdown",
      "metadata": {
        "id": "saFx1pbT_zTP"
      },
      "source": [
        "### Data Dictionary"
      ]
    },
    {
      "cell_type": "markdown",
      "source": [
        "- **Text**: The main body of the news article"
      ],
      "metadata": {
        "id": "5rJpifbLGVDe"
      }
    },
    {
      "cell_type": "markdown",
      "metadata": {
        "id": "svwbW6qDUB_B"
      },
      "source": [
        "## **Installing and importing the necessary libraries**"
      ]
    },
    {
      "cell_type": "code",
      "execution_count": 1,
      "metadata": {
        "id": "EvO3P-BZT-ZV"
      },
      "outputs": [],
      "source": [
        "# installing the sentence-transformers library\n",
        "!pip install -U sentence-transformers -q"
      ]
    },
    {
      "cell_type": "code",
      "source": [
        "# to read and manipulate the data\n",
        "import pandas as pd\n",
        "import numpy as np\n",
        "pd.set_option('max_colwidth', None)    # setting column to the maximum column width as per the data\n",
        "\n",
        "# to visualise data\n",
        "import matplotlib.pyplot as plt\n",
        "import seaborn as sns\n",
        "\n",
        "# to compute distances\n",
        "from scipy.spatial.distance import cdist, pdist\n",
        "from sklearn.metrics import silhouette_score\n",
        "\n",
        "# importing the PyTorch Deep Learning library\n",
        "import torch\n",
        "\n",
        "# to import the model\n",
        "from sentence_transformers import SentenceTransformer\n",
        "\n",
        "# to cluster the data\n",
        "from sklearn.cluster import KMeans\n",
        "\n",
        "# to compute metrics\n",
        "from sklearn.metrics import classification_report\n",
        "\n",
        "# to avoid displaying unnecessary warnings\n",
        "import warnings\n",
        "warnings.filterwarnings(\"ignore\")"
      ],
      "metadata": {
        "id": "47oRo-kTaR02"
      },
      "execution_count": 2,
      "outputs": []
    },
    {
      "cell_type": "markdown",
      "metadata": {
        "id": "N-PA0a0AUnrR"
      },
      "source": [
        "## **Loading the dataset**"
      ]
    },
    {
      "cell_type": "code",
      "source": [
        "from google.colab import drive\n",
        "drive.mount('/content/drive')"
      ],
      "metadata": {
        "colab": {
          "base_uri": "https://localhost:8080/"
        },
        "id": "ZVWbBVQaKwUV",
        "outputId": "9fe8e1a9-1e42-4f95-e2c8-7ebd4c115342"
      },
      "execution_count": null,
      "outputs": [
        {
          "output_type": "stream",
          "name": "stdout",
          "text": [
            "Mounted at /content/drive\n"
          ]
        }
      ]
    },
    {
      "cell_type": "code",
      "execution_count": 3,
      "metadata": {
        "id": "y7VtUDiSUp0C"
      },
      "outputs": [],
      "source": [
        "reviews = pd.read_csv(\"/content/drive/news_articles.csv\")"
      ]
    },
    {
      "cell_type": "code",
      "source": [
        "# creating a copy of the dataset\n",
        "data = reviews.copy()"
      ],
      "metadata": {
        "id": "482415eWbJ94"
      },
      "execution_count": 4,
      "outputs": []
    },
    {
      "cell_type": "markdown",
      "metadata": {
        "id": "vvlzvKeqAH-i"
      },
      "source": [
        "## **Data Overview**"
      ]
    },
    {
      "cell_type": "markdown",
      "metadata": {
        "id": "cIH4md8nAL4v"
      },
      "source": [
        "### Checking the first five rows of the data"
      ]
    },
    {
      "cell_type": "code",
      "execution_count": 5,
      "metadata": {
        "colab": {
          "base_uri": "https://localhost:8080/",
          "height": 0
        },
        "id": "MKS-Z7GiCmWX",
        "outputId": "76f19811-50ca-4af4-ff31-bd2dde8df88b"
      },
      "outputs": [
        {
          "output_type": "execute_result",
          "data": {
            "text/plain": [
              "                                                                                                                                                                                                                                                                                                                                                                                                                                                                                                                                                                                                                                                                                                                                                                                                                                                                                                                                                                                                                                                                                                                                                                                                                                                                                                                                                                                                                                                                                                                                                                                                                                                                                                                                                                                                                                                                                                                                                                                                                                                                                                                                                                                                                                                                                                                                                                                                                                                                                                                                                                                                                                                                                                                                                                                                                                                                                                                                                                                                                                                                                                                                                                                                                                                                                                             Text\n",
              "0                     Budget to set scene for election\\n \\n Gordon Brown will seek to put the economy at the centre of Labour's bid for a third term in power when he delivers his ninth Budget at 1230 GMT. He is expected to stress the importance of continued economic stability, with low unemployment and interest rates. The chancellor is expected to freeze petrol duty and raise the stamp duty threshold from Â£60,000. But the Conservatives and Lib Dems insist voters face higher taxes and more means-testing under Labour.\\n \\n Treasury officials have said there will not be a pre-election giveaway, but Mr Brown is thought to have about Â£2bn to spare.\\n \\n - Increase in the stamp duty threshold from Â£60,000 \\n  - A freeze on petrol duty \\n  - An extension of tax credit scheme for poorer families \\n  - Possible help for pensioners The stamp duty threshold rise is intended to help first time buyers - a likely theme of all three of the main parties' general election manifestos. Ten years ago, buyers had a much greater chance of avoiding stamp duty, with close to half a million properties, in England and Wales alone, selling for less than Â£60,000. Since then, average UK property prices have more than doubled while the starting threshold for stamp duty has not increased. Tax credits As a result, the number of properties incurring stamp duty has rocketed as has the government's tax take. The Liberal Democrats unveiled their own proposals to raise the stamp duty threshold to Â£150,000 in February.\\n \\n The Tories are also thought likely to propose increased thresholds, with shadow chancellor Oliver Letwin branding stamp duty a \"classic Labour stealth tax\". The Tories say whatever the chancellor gives away will be clawed back in higher taxes if Labour is returned to power. Shadow Treasury chief secretary George Osborne said: \"Everyone who looks at the British economy at the moment says there has been a sharp deterioration in the public finances, that there is a black hole,\" he said. \"If Labour is elected there will be a very substantial tax increase in the Budget after the election, of the order of around Â£10bn.\"\\n \\n But Mr Brown's former advisor Ed Balls, now a parliamentary hopeful, said an examination of Tory plans for the economy showed there would be a Â£35bn difference in investment by the end of the next parliament between the two main parties. He added: \"I don't accept there is any need for any changes to the plans we have set out to meet our spending commitments.\"\\n \\n For the Lib Dems David Laws said: \"The chancellor will no doubt tell us today how wonderfully the economy is doing,\" he said. \"But a lot of that is built on an increase in personal and consumer debt over the last few years - that makes the economy quite vulnerable potentially if interest rates ever do have to go up in a significant way.\" SNP leader Alex Salmond said his party would introduce a Â£2,000 grant for first time buyers, reduce corporation tax and introduce a citizens pension free from means testing. Plaid Cymru's economics spokesman Adam Price said he wanted help to get people on the housing ladder and an increase in the minimum wage to Â£5.60 an hour.\\n\n",
              "1                                                                                                                                                     Army chiefs in regiments decision\\n \\n Military chiefs are expected to meet to make a final decision on the future of Scotland's Army regiments.\\n \\n A committee of the Army Board, which is made up of the most senior defence figures, will discuss plans for restructuring regiments on Monday. The proposals include cutting Scotland's six single-battalion regiments to five and merging these into a super regiment. The plans have faced stiff opposition from campaigners and politicians alike. The committee's decision must be ratified by Defence Secretary Geoff Hoon and Prime Minister Tony Blair. It is expected that it will be made public next week. When ministers announced a reorganisation of the Army it drew a question mark over the futures of the Black Watch, the Kings Own Scottish Borderers, the Royal Scots, the Royal Highland Fusiliers and the Argyll and Sutherland Highlanders. In October, the Council of Scottish Colonels proposed the merger of the Royal Scots and the King's Own Scottish Borderers into a single battalion.\\n \\n Under their vision, it would be one of five in the new super regiment. The proposals to either merge or amalgamate the six regiments into a super regiment sparked a political outcry, with Labour backbenchers and opposition politicians opposing the plan. They felt the timing was insensitive because the Black Watch was in the frontline in Iraq, suffering casualties. The Save the Scottish Regiments campaigners were so angered they threatened to stand against Labour at the next general election.\\n \\n Speaking ahead of the expected Army Board meeting, a spokesman said: \"The government and the Army Board have spent the past four months attempting to trick serving soldiers and the public into thinking their planned changes for the Scottish regiments are for the good of the Army and for that of the serving soldier. \"They are very much not for the good and will destroy Scotland's regiments by moulding them into a single super regiment which will lead to severe recruitment problems, a loss of local connections to those regiments and a loss to Scotland of an important part of her heritage and, most importantly, her future - the regiments are the envy of armies around the world.\" An alternative blueprint had been put forward by Labour MP Eric Joyce, who proposed going ahead with the merger while preserving the other regiments. For a brief time, there was speculation the prime minister might consider the plan, but that now seems unlikely. Speaking in Scotland last week, Mr Blair said the aim was to preserve tradition but introduce a more effective structure and hinted that a super regiment was likely. He said: \"They don't want to get rid of the history or the traditions of the regiment or the local connections - far from it, all they want to do is make sure they can transfer people easily across regiments and deploy them more flexibly.\" The prime minister said he hoped campaigners' concerns would be taken into account but the need for effective change had to be paramount.\\n\n",
              "2  Howard denies split over ID cards\\n \\n Michael Howard has denied his shadow cabinet was split over its decision to back controversial Labour plans to introduce ID cards.\\n \\n The Tory leader said his front bench team had reached a \"collective view\" after holding a \"good discussion\", but admitted it was \"not an easy issue\". He had decided to support the plans as the police said they would help fight terror, crime and illegal immigration. The Lib Dems have pledged to oppose the bill when it is debated next Monday.\\n \\n Tory sources say senior party figures had argued vociferously against the ID card scheme. Among those reported to have serious reservations over the strategy were senior shadow cabinet members David Davis, Oliver Letwin and Tim Yeo. But Mr Howard denied Mr Yeo, his transport and environment spokesman, said the plans \"stink\". He also said he was confident shadow home secretary Mr Davis would \"set out the position very clearly\" when he stands up to debate the matter next week. Mr Howard said the police had said ID cards could \"help them foil a terror bomb plot in which people could lose their lives\". He added: \"When the police say that you have to take them seriously\".\\n \\n He acknowledged there were \"good libertarian arguments\" against the cards, but said the shadow Cabinet had weighed up all the \"conflicting interests\" before reaching its decision. \"I don't pretend that it is an easy decision but at the end of the day a decision has to be taken.\" He also denied he was afraid of looking \"soft\" on the issue, compared to Labour. The Conservatives announced their support for the government plans on Monday evening.\\n \\n Sources within the party told the BBC Mr Howard had always been in favour of ID cards, and tried to introduce them when he was Home Secretary. But the Tories insisted they would hold ministers to account over the precise purpose of the scheme.\\n \\n They said they would also press Labour over whether objectives could be met and whether the Home Office would be able to deliver them. And they pledged to assess the cost effectiveness of ID cards and whether people's privacy would be properly protected. \"It is important to remember that this bill will take a decade to come into full effect,\" a spokesman said. Lib Dem home affairs spokesman Mark Oaten has branded the ID scheme a waste of money and \"deeply flawed\". He said: \"This has all the signs of Michael Howard overruling colleagues' concerns over ID cards.\"\\n \\n The chairman of the Bar Council, Guy Mansfield QC warned there was a real risk that people on the \"margins of society\" would be driven into the hands of extremists. \"What is going to happen to young Asian men when there has been a bomb gone off somewhere? They are going to be stopped. If they haven't [ID cards] they are going to be detained.\" Tory ex-minister Douglas Hogg said he opposed the plans for ID cards branding them a \"regressive\" step which would intrude into the lives of ordinary citizens without any counterbalancing benefits. He predicted ultimately carrying the cards would become compulsory and that would lead to large numbers of Britain's ethnic minorities being stopped by police.\\n\n",
              "3                                                                             Observers to monitor UK election\\n \\n Ministers will invite international observers to check the forthcoming UK general election is fairly run.\\n \\n The move comes amid claims the poll could be marred by electoral fraud. A report by two MPs committees called on Thursday for urgent changes to the electoral registration system to combat vote rigging and boost turnout. But in a written response to Labour MP Gordon Prentice, the government said it would normally invite observers to any UK election.\\n \\n Junior constitutional affairs minister Christopher Leslie said: \"I fully expect us to repeat our previous practice of doing so once the date for the next general election is announced.\" The government has looked at ways of boosting voter turnout, which fell to 59% in the last general election in 2001.\\n \\n But trial all-postal ballots in four English regions last summer were hit by delays and some fraud allegations. Liberal Democrat peer Lord Greaves called last week for international observers at the general election - saying otherwise there could be months of court challenges \"on a scale not seen since the 19th Century\". Thursday's report was drawn up by two committees scrutinising the work of the Office of the Deputy Prime Minister (ODPM) and the Department for Constitutional Affairs (DCA). It said that, with the growth of postal voting, there was a strong case to tighten up fraud protection by requiring voters to register individually, rather than by household. It also said about three million people eligible to vote are not registered to do so.\\n \\n Figures for the 2001 general election suggest 29% of people aged between 18 and 24, and 19% of black voters were not on the electoral roll. Young people in shared accommodation are thought to miss out because no one acts as head of the household to fill in the form. ODPM committee chairman Andrew Bennett said individual voter registration, as opposed to registration by household, should be quickly introduced as it could \"dramatically reduce the chances of fraud\". But his counterpart on the DCA committee, Alan Beith, said it should be delayed \"until measures likely to increase registration have been put in place and proved effective.\" Shadow Constitutional Affairs Secretary Oliver Heald accused the government of \"dragging its feet\" over \"this badly needed measure\". \"It is vital that we move ahead with the Northern Ireland system of individual electoral registration to safeguard the integrity of the Britain's electoral system,\" he said.\\n \\n The report said individual registration should be treated carefully as 12% of voters disappeared from the electoral roll in Northern Ireland when it was introduced in 2002. The report said the government should consider fines for unregistered voters, but accepted many experts said it would be an expensive system that would be hard to enforce. It said incentives to register, such as Â£20 council tax rebate, were likely to be seen as \"gimmicks\" and risked undermining the integrity of the system, MPs said. Instead they called for \"imaginative campaigns\" to boost interest.\\n\n",
              "4                                                                                                                                                                                                                                                                                                                                                                                                                                                                                                                                                                               Kilroy names election seat target\\n \\n Ex-chat show host Robert Kilroy-Silk is to contest the Derbyshire seat of Erewash at the next general election.\\n \\n Labour's Elizabeth Blackman won the seat in 1997 and has a 6,932 majority. She says she will fight on her record \"as a hard-working constituency MP\". Mr Kilroy-Silk announced his plans a day after launching his new party, Veritas, the Latin for truth. The East Midlands MEP, who quit the UK Independence Party, wants his new group to \"change the face\" of UK politics. His choice of election constituency quashes speculation that he would stand against Defence Secretary Geoff Hoon in Ashfield, Nottinghamshire. UKIP won 31% of the vote in Erewash in last June's European elections - with Mr Kilroy-Silk among their candidates for the region. Until 1997, Erewash had been held by the Tories since 1970. Ms Blackman said she was proud of the government's achievements in the area. She declined to give her view of Mr Kilroy-Silk at this point.\\n \\n On Thursday, he told a London news conference that Veritas would avoid the old parties' \"lies and spin\". He said \"our country\" was being \"stolen from us\" by mass immigration and promised a \"firm but fair\" policy on immigration. Veritas says it hopes to contest most seats at the forthcoming general election but plans to announce detailed policies on crime, tax, pensions, health and defence over the next few weeks.\\n \\n UKIP leader Roger Knapman says he is glad to see the back of Mr Kilroy-Silk. Labour campaign spokesman Fraser Kemp said Veritas was joining \"an already crowded field on the right of British politics\". Mr Kilroy-Silk was joined in the new venture by one of UKIP's two London Assembly members, Damien Hockney, who is now Veritas' deputy leader.\\n \\n UKIP's chairman Petrina Holdsworth has said the group will just be a parody of the party the men have left. Mr Kilroy-Silk quit UKIP last week after months of tension as he vied unsuccessfully for the leadership of that party. He said he was ashamed to be a member of a UKIP whose leadership had \"gone AWOL\" after the great opportunity offered by its third place at last June's European elections. UKIP's leader, Roger Knapman, has said he is glad to see the back of Mr Kilroy-Silk. \"He has remarkable ability to influence people but, sadly, after the [European] election it became clear that he was more interested in the Robert Kilroy-Silk Party than the UK Independence Party so it was nice knowing him, now 'goodbye',\" he said. UKIP officials also argue Mr Kilroy-Silk has not been \"straightforward\" in attacking the party he once wanted to lead.\\n"
            ],
            "text/html": [
              "\n",
              "  <div id=\"df-2ab972a7-7cb9-4287-bb2b-77509ffb081d\" class=\"colab-df-container\">\n",
              "    <div>\n",
              "<style scoped>\n",
              "    .dataframe tbody tr th:only-of-type {\n",
              "        vertical-align: middle;\n",
              "    }\n",
              "\n",
              "    .dataframe tbody tr th {\n",
              "        vertical-align: top;\n",
              "    }\n",
              "\n",
              "    .dataframe thead th {\n",
              "        text-align: right;\n",
              "    }\n",
              "</style>\n",
              "<table border=\"1\" class=\"dataframe\">\n",
              "  <thead>\n",
              "    <tr style=\"text-align: right;\">\n",
              "      <th></th>\n",
              "      <th>Text</th>\n",
              "    </tr>\n",
              "  </thead>\n",
              "  <tbody>\n",
              "    <tr>\n",
              "      <th>0</th>\n",
              "      <td>Budget to set scene for election\\n \\n Gordon Brown will seek to put the economy at the centre of Labour's bid for a third term in power when he delivers his ninth Budget at 1230 GMT. He is expected to stress the importance of continued economic stability, with low unemployment and interest rates. The chancellor is expected to freeze petrol duty and raise the stamp duty threshold from Â£60,000. But the Conservatives and Lib Dems insist voters face higher taxes and more means-testing under Labour.\\n \\n Treasury officials have said there will not be a pre-election giveaway, but Mr Brown is thought to have about Â£2bn to spare.\\n \\n - Increase in the stamp duty threshold from Â£60,000 \\n  - A freeze on petrol duty \\n  - An extension of tax credit scheme for poorer families \\n  - Possible help for pensioners The stamp duty threshold rise is intended to help first time buyers - a likely theme of all three of the main parties' general election manifestos. Ten years ago, buyers had a much greater chance of avoiding stamp duty, with close to half a million properties, in England and Wales alone, selling for less than Â£60,000. Since then, average UK property prices have more than doubled while the starting threshold for stamp duty has not increased. Tax credits As a result, the number of properties incurring stamp duty has rocketed as has the government's tax take. The Liberal Democrats unveiled their own proposals to raise the stamp duty threshold to Â£150,000 in February.\\n \\n The Tories are also thought likely to propose increased thresholds, with shadow chancellor Oliver Letwin branding stamp duty a \"classic Labour stealth tax\". The Tories say whatever the chancellor gives away will be clawed back in higher taxes if Labour is returned to power. Shadow Treasury chief secretary George Osborne said: \"Everyone who looks at the British economy at the moment says there has been a sharp deterioration in the public finances, that there is a black hole,\" he said. \"If Labour is elected there will be a very substantial tax increase in the Budget after the election, of the order of around Â£10bn.\"\\n \\n But Mr Brown's former advisor Ed Balls, now a parliamentary hopeful, said an examination of Tory plans for the economy showed there would be a Â£35bn difference in investment by the end of the next parliament between the two main parties. He added: \"I don't accept there is any need for any changes to the plans we have set out to meet our spending commitments.\"\\n \\n For the Lib Dems David Laws said: \"The chancellor will no doubt tell us today how wonderfully the economy is doing,\" he said. \"But a lot of that is built on an increase in personal and consumer debt over the last few years - that makes the economy quite vulnerable potentially if interest rates ever do have to go up in a significant way.\" SNP leader Alex Salmond said his party would introduce a Â£2,000 grant for first time buyers, reduce corporation tax and introduce a citizens pension free from means testing. Plaid Cymru's economics spokesman Adam Price said he wanted help to get people on the housing ladder and an increase in the minimum wage to Â£5.60 an hour.\\n</td>\n",
              "    </tr>\n",
              "    <tr>\n",
              "      <th>1</th>\n",
              "      <td>Army chiefs in regiments decision\\n \\n Military chiefs are expected to meet to make a final decision on the future of Scotland's Army regiments.\\n \\n A committee of the Army Board, which is made up of the most senior defence figures, will discuss plans for restructuring regiments on Monday. The proposals include cutting Scotland's six single-battalion regiments to five and merging these into a super regiment. The plans have faced stiff opposition from campaigners and politicians alike. The committee's decision must be ratified by Defence Secretary Geoff Hoon and Prime Minister Tony Blair. It is expected that it will be made public next week. When ministers announced a reorganisation of the Army it drew a question mark over the futures of the Black Watch, the Kings Own Scottish Borderers, the Royal Scots, the Royal Highland Fusiliers and the Argyll and Sutherland Highlanders. In October, the Council of Scottish Colonels proposed the merger of the Royal Scots and the King's Own Scottish Borderers into a single battalion.\\n \\n Under their vision, it would be one of five in the new super regiment. The proposals to either merge or amalgamate the six regiments into a super regiment sparked a political outcry, with Labour backbenchers and opposition politicians opposing the plan. They felt the timing was insensitive because the Black Watch was in the frontline in Iraq, suffering casualties. The Save the Scottish Regiments campaigners were so angered they threatened to stand against Labour at the next general election.\\n \\n Speaking ahead of the expected Army Board meeting, a spokesman said: \"The government and the Army Board have spent the past four months attempting to trick serving soldiers and the public into thinking their planned changes for the Scottish regiments are for the good of the Army and for that of the serving soldier. \"They are very much not for the good and will destroy Scotland's regiments by moulding them into a single super regiment which will lead to severe recruitment problems, a loss of local connections to those regiments and a loss to Scotland of an important part of her heritage and, most importantly, her future - the regiments are the envy of armies around the world.\" An alternative blueprint had been put forward by Labour MP Eric Joyce, who proposed going ahead with the merger while preserving the other regiments. For a brief time, there was speculation the prime minister might consider the plan, but that now seems unlikely. Speaking in Scotland last week, Mr Blair said the aim was to preserve tradition but introduce a more effective structure and hinted that a super regiment was likely. He said: \"They don't want to get rid of the history or the traditions of the regiment or the local connections - far from it, all they want to do is make sure they can transfer people easily across regiments and deploy them more flexibly.\" The prime minister said he hoped campaigners' concerns would be taken into account but the need for effective change had to be paramount.\\n</td>\n",
              "    </tr>\n",
              "    <tr>\n",
              "      <th>2</th>\n",
              "      <td>Howard denies split over ID cards\\n \\n Michael Howard has denied his shadow cabinet was split over its decision to back controversial Labour plans to introduce ID cards.\\n \\n The Tory leader said his front bench team had reached a \"collective view\" after holding a \"good discussion\", but admitted it was \"not an easy issue\". He had decided to support the plans as the police said they would help fight terror, crime and illegal immigration. The Lib Dems have pledged to oppose the bill when it is debated next Monday.\\n \\n Tory sources say senior party figures had argued vociferously against the ID card scheme. Among those reported to have serious reservations over the strategy were senior shadow cabinet members David Davis, Oliver Letwin and Tim Yeo. But Mr Howard denied Mr Yeo, his transport and environment spokesman, said the plans \"stink\". He also said he was confident shadow home secretary Mr Davis would \"set out the position very clearly\" when he stands up to debate the matter next week. Mr Howard said the police had said ID cards could \"help them foil a terror bomb plot in which people could lose their lives\". He added: \"When the police say that you have to take them seriously\".\\n \\n He acknowledged there were \"good libertarian arguments\" against the cards, but said the shadow Cabinet had weighed up all the \"conflicting interests\" before reaching its decision. \"I don't pretend that it is an easy decision but at the end of the day a decision has to be taken.\" He also denied he was afraid of looking \"soft\" on the issue, compared to Labour. The Conservatives announced their support for the government plans on Monday evening.\\n \\n Sources within the party told the BBC Mr Howard had always been in favour of ID cards, and tried to introduce them when he was Home Secretary. But the Tories insisted they would hold ministers to account over the precise purpose of the scheme.\\n \\n They said they would also press Labour over whether objectives could be met and whether the Home Office would be able to deliver them. And they pledged to assess the cost effectiveness of ID cards and whether people's privacy would be properly protected. \"It is important to remember that this bill will take a decade to come into full effect,\" a spokesman said. Lib Dem home affairs spokesman Mark Oaten has branded the ID scheme a waste of money and \"deeply flawed\". He said: \"This has all the signs of Michael Howard overruling colleagues' concerns over ID cards.\"\\n \\n The chairman of the Bar Council, Guy Mansfield QC warned there was a real risk that people on the \"margins of society\" would be driven into the hands of extremists. \"What is going to happen to young Asian men when there has been a bomb gone off somewhere? They are going to be stopped. If they haven't [ID cards] they are going to be detained.\" Tory ex-minister Douglas Hogg said he opposed the plans for ID cards branding them a \"regressive\" step which would intrude into the lives of ordinary citizens without any counterbalancing benefits. He predicted ultimately carrying the cards would become compulsory and that would lead to large numbers of Britain's ethnic minorities being stopped by police.\\n</td>\n",
              "    </tr>\n",
              "    <tr>\n",
              "      <th>3</th>\n",
              "      <td>Observers to monitor UK election\\n \\n Ministers will invite international observers to check the forthcoming UK general election is fairly run.\\n \\n The move comes amid claims the poll could be marred by electoral fraud. A report by two MPs committees called on Thursday for urgent changes to the electoral registration system to combat vote rigging and boost turnout. But in a written response to Labour MP Gordon Prentice, the government said it would normally invite observers to any UK election.\\n \\n Junior constitutional affairs minister Christopher Leslie said: \"I fully expect us to repeat our previous practice of doing so once the date for the next general election is announced.\" The government has looked at ways of boosting voter turnout, which fell to 59% in the last general election in 2001.\\n \\n But trial all-postal ballots in four English regions last summer were hit by delays and some fraud allegations. Liberal Democrat peer Lord Greaves called last week for international observers at the general election - saying otherwise there could be months of court challenges \"on a scale not seen since the 19th Century\". Thursday's report was drawn up by two committees scrutinising the work of the Office of the Deputy Prime Minister (ODPM) and the Department for Constitutional Affairs (DCA). It said that, with the growth of postal voting, there was a strong case to tighten up fraud protection by requiring voters to register individually, rather than by household. It also said about three million people eligible to vote are not registered to do so.\\n \\n Figures for the 2001 general election suggest 29% of people aged between 18 and 24, and 19% of black voters were not on the electoral roll. Young people in shared accommodation are thought to miss out because no one acts as head of the household to fill in the form. ODPM committee chairman Andrew Bennett said individual voter registration, as opposed to registration by household, should be quickly introduced as it could \"dramatically reduce the chances of fraud\". But his counterpart on the DCA committee, Alan Beith, said it should be delayed \"until measures likely to increase registration have been put in place and proved effective.\" Shadow Constitutional Affairs Secretary Oliver Heald accused the government of \"dragging its feet\" over \"this badly needed measure\". \"It is vital that we move ahead with the Northern Ireland system of individual electoral registration to safeguard the integrity of the Britain's electoral system,\" he said.\\n \\n The report said individual registration should be treated carefully as 12% of voters disappeared from the electoral roll in Northern Ireland when it was introduced in 2002. The report said the government should consider fines for unregistered voters, but accepted many experts said it would be an expensive system that would be hard to enforce. It said incentives to register, such as Â£20 council tax rebate, were likely to be seen as \"gimmicks\" and risked undermining the integrity of the system, MPs said. Instead they called for \"imaginative campaigns\" to boost interest.\\n</td>\n",
              "    </tr>\n",
              "    <tr>\n",
              "      <th>4</th>\n",
              "      <td>Kilroy names election seat target\\n \\n Ex-chat show host Robert Kilroy-Silk is to contest the Derbyshire seat of Erewash at the next general election.\\n \\n Labour's Elizabeth Blackman won the seat in 1997 and has a 6,932 majority. She says she will fight on her record \"as a hard-working constituency MP\". Mr Kilroy-Silk announced his plans a day after launching his new party, Veritas, the Latin for truth. The East Midlands MEP, who quit the UK Independence Party, wants his new group to \"change the face\" of UK politics. His choice of election constituency quashes speculation that he would stand against Defence Secretary Geoff Hoon in Ashfield, Nottinghamshire. UKIP won 31% of the vote in Erewash in last June's European elections - with Mr Kilroy-Silk among their candidates for the region. Until 1997, Erewash had been held by the Tories since 1970. Ms Blackman said she was proud of the government's achievements in the area. She declined to give her view of Mr Kilroy-Silk at this point.\\n \\n On Thursday, he told a London news conference that Veritas would avoid the old parties' \"lies and spin\". He said \"our country\" was being \"stolen from us\" by mass immigration and promised a \"firm but fair\" policy on immigration. Veritas says it hopes to contest most seats at the forthcoming general election but plans to announce detailed policies on crime, tax, pensions, health and defence over the next few weeks.\\n \\n UKIP leader Roger Knapman says he is glad to see the back of Mr Kilroy-Silk. Labour campaign spokesman Fraser Kemp said Veritas was joining \"an already crowded field on the right of British politics\". Mr Kilroy-Silk was joined in the new venture by one of UKIP's two London Assembly members, Damien Hockney, who is now Veritas' deputy leader.\\n \\n UKIP's chairman Petrina Holdsworth has said the group will just be a parody of the party the men have left. Mr Kilroy-Silk quit UKIP last week after months of tension as he vied unsuccessfully for the leadership of that party. He said he was ashamed to be a member of a UKIP whose leadership had \"gone AWOL\" after the great opportunity offered by its third place at last June's European elections. UKIP's leader, Roger Knapman, has said he is glad to see the back of Mr Kilroy-Silk. \"He has remarkable ability to influence people but, sadly, after the [European] election it became clear that he was more interested in the Robert Kilroy-Silk Party than the UK Independence Party so it was nice knowing him, now 'goodbye',\" he said. UKIP officials also argue Mr Kilroy-Silk has not been \"straightforward\" in attacking the party he once wanted to lead.\\n</td>\n",
              "    </tr>\n",
              "  </tbody>\n",
              "</table>\n",
              "</div>\n",
              "    <div class=\"colab-df-buttons\">\n",
              "\n",
              "  <div class=\"colab-df-container\">\n",
              "    <button class=\"colab-df-convert\" onclick=\"convertToInteractive('df-2ab972a7-7cb9-4287-bb2b-77509ffb081d')\"\n",
              "            title=\"Convert this dataframe to an interactive table.\"\n",
              "            style=\"display:none;\">\n",
              "\n",
              "  <svg xmlns=\"http://www.w3.org/2000/svg\" height=\"24px\" viewBox=\"0 -960 960 960\">\n",
              "    <path d=\"M120-120v-720h720v720H120Zm60-500h600v-160H180v160Zm220 220h160v-160H400v160Zm0 220h160v-160H400v160ZM180-400h160v-160H180v160Zm440 0h160v-160H620v160ZM180-180h160v-160H180v160Zm440 0h160v-160H620v160Z\"/>\n",
              "  </svg>\n",
              "    </button>\n",
              "\n",
              "  <style>\n",
              "    .colab-df-container {\n",
              "      display:flex;\n",
              "      gap: 12px;\n",
              "    }\n",
              "\n",
              "    .colab-df-convert {\n",
              "      background-color: #E8F0FE;\n",
              "      border: none;\n",
              "      border-radius: 50%;\n",
              "      cursor: pointer;\n",
              "      display: none;\n",
              "      fill: #1967D2;\n",
              "      height: 32px;\n",
              "      padding: 0 0 0 0;\n",
              "      width: 32px;\n",
              "    }\n",
              "\n",
              "    .colab-df-convert:hover {\n",
              "      background-color: #E2EBFA;\n",
              "      box-shadow: 0px 1px 2px rgba(60, 64, 67, 0.3), 0px 1px 3px 1px rgba(60, 64, 67, 0.15);\n",
              "      fill: #174EA6;\n",
              "    }\n",
              "\n",
              "    .colab-df-buttons div {\n",
              "      margin-bottom: 4px;\n",
              "    }\n",
              "\n",
              "    [theme=dark] .colab-df-convert {\n",
              "      background-color: #3B4455;\n",
              "      fill: #D2E3FC;\n",
              "    }\n",
              "\n",
              "    [theme=dark] .colab-df-convert:hover {\n",
              "      background-color: #434B5C;\n",
              "      box-shadow: 0px 1px 3px 1px rgba(0, 0, 0, 0.15);\n",
              "      filter: drop-shadow(0px 1px 2px rgba(0, 0, 0, 0.3));\n",
              "      fill: #FFFFFF;\n",
              "    }\n",
              "  </style>\n",
              "\n",
              "    <script>\n",
              "      const buttonEl =\n",
              "        document.querySelector('#df-2ab972a7-7cb9-4287-bb2b-77509ffb081d button.colab-df-convert');\n",
              "      buttonEl.style.display =\n",
              "        google.colab.kernel.accessAllowed ? 'block' : 'none';\n",
              "\n",
              "      async function convertToInteractive(key) {\n",
              "        const element = document.querySelector('#df-2ab972a7-7cb9-4287-bb2b-77509ffb081d');\n",
              "        const dataTable =\n",
              "          await google.colab.kernel.invokeFunction('convertToInteractive',\n",
              "                                                    [key], {});\n",
              "        if (!dataTable) return;\n",
              "\n",
              "        const docLinkHtml = 'Like what you see? Visit the ' +\n",
              "          '<a target=\"_blank\" href=https://colab.research.google.com/notebooks/data_table.ipynb>data table notebook</a>'\n",
              "          + ' to learn more about interactive tables.';\n",
              "        element.innerHTML = '';\n",
              "        dataTable['output_type'] = 'display_data';\n",
              "        await google.colab.output.renderOutput(dataTable, element);\n",
              "        const docLink = document.createElement('div');\n",
              "        docLink.innerHTML = docLinkHtml;\n",
              "        element.appendChild(docLink);\n",
              "      }\n",
              "    </script>\n",
              "  </div>\n",
              "\n",
              "\n",
              "<div id=\"df-62e570df-cae4-47d8-8020-aad08be9a247\">\n",
              "  <button class=\"colab-df-quickchart\" onclick=\"quickchart('df-62e570df-cae4-47d8-8020-aad08be9a247')\"\n",
              "            title=\"Suggest charts\"\n",
              "            style=\"display:none;\">\n",
              "\n",
              "<svg xmlns=\"http://www.w3.org/2000/svg\" height=\"24px\"viewBox=\"0 0 24 24\"\n",
              "     width=\"24px\">\n",
              "    <g>\n",
              "        <path d=\"M19 3H5c-1.1 0-2 .9-2 2v14c0 1.1.9 2 2 2h14c1.1 0 2-.9 2-2V5c0-1.1-.9-2-2-2zM9 17H7v-7h2v7zm4 0h-2V7h2v10zm4 0h-2v-4h2v4z\"/>\n",
              "    </g>\n",
              "</svg>\n",
              "  </button>\n",
              "\n",
              "<style>\n",
              "  .colab-df-quickchart {\n",
              "      --bg-color: #E8F0FE;\n",
              "      --fill-color: #1967D2;\n",
              "      --hover-bg-color: #E2EBFA;\n",
              "      --hover-fill-color: #174EA6;\n",
              "      --disabled-fill-color: #AAA;\n",
              "      --disabled-bg-color: #DDD;\n",
              "  }\n",
              "\n",
              "  [theme=dark] .colab-df-quickchart {\n",
              "      --bg-color: #3B4455;\n",
              "      --fill-color: #D2E3FC;\n",
              "      --hover-bg-color: #434B5C;\n",
              "      --hover-fill-color: #FFFFFF;\n",
              "      --disabled-bg-color: #3B4455;\n",
              "      --disabled-fill-color: #666;\n",
              "  }\n",
              "\n",
              "  .colab-df-quickchart {\n",
              "    background-color: var(--bg-color);\n",
              "    border: none;\n",
              "    border-radius: 50%;\n",
              "    cursor: pointer;\n",
              "    display: none;\n",
              "    fill: var(--fill-color);\n",
              "    height: 32px;\n",
              "    padding: 0;\n",
              "    width: 32px;\n",
              "  }\n",
              "\n",
              "  .colab-df-quickchart:hover {\n",
              "    background-color: var(--hover-bg-color);\n",
              "    box-shadow: 0 1px 2px rgba(60, 64, 67, 0.3), 0 1px 3px 1px rgba(60, 64, 67, 0.15);\n",
              "    fill: var(--button-hover-fill-color);\n",
              "  }\n",
              "\n",
              "  .colab-df-quickchart-complete:disabled,\n",
              "  .colab-df-quickchart-complete:disabled:hover {\n",
              "    background-color: var(--disabled-bg-color);\n",
              "    fill: var(--disabled-fill-color);\n",
              "    box-shadow: none;\n",
              "  }\n",
              "\n",
              "  .colab-df-spinner {\n",
              "    border: 2px solid var(--fill-color);\n",
              "    border-color: transparent;\n",
              "    border-bottom-color: var(--fill-color);\n",
              "    animation:\n",
              "      spin 1s steps(1) infinite;\n",
              "  }\n",
              "\n",
              "  @keyframes spin {\n",
              "    0% {\n",
              "      border-color: transparent;\n",
              "      border-bottom-color: var(--fill-color);\n",
              "      border-left-color: var(--fill-color);\n",
              "    }\n",
              "    20% {\n",
              "      border-color: transparent;\n",
              "      border-left-color: var(--fill-color);\n",
              "      border-top-color: var(--fill-color);\n",
              "    }\n",
              "    30% {\n",
              "      border-color: transparent;\n",
              "      border-left-color: var(--fill-color);\n",
              "      border-top-color: var(--fill-color);\n",
              "      border-right-color: var(--fill-color);\n",
              "    }\n",
              "    40% {\n",
              "      border-color: transparent;\n",
              "      border-right-color: var(--fill-color);\n",
              "      border-top-color: var(--fill-color);\n",
              "    }\n",
              "    60% {\n",
              "      border-color: transparent;\n",
              "      border-right-color: var(--fill-color);\n",
              "    }\n",
              "    80% {\n",
              "      border-color: transparent;\n",
              "      border-right-color: var(--fill-color);\n",
              "      border-bottom-color: var(--fill-color);\n",
              "    }\n",
              "    90% {\n",
              "      border-color: transparent;\n",
              "      border-bottom-color: var(--fill-color);\n",
              "    }\n",
              "  }\n",
              "</style>\n",
              "\n",
              "  <script>\n",
              "    async function quickchart(key) {\n",
              "      const quickchartButtonEl =\n",
              "        document.querySelector('#' + key + ' button');\n",
              "      quickchartButtonEl.disabled = true;  // To prevent multiple clicks.\n",
              "      quickchartButtonEl.classList.add('colab-df-spinner');\n",
              "      try {\n",
              "        const charts = await google.colab.kernel.invokeFunction(\n",
              "            'suggestCharts', [key], {});\n",
              "      } catch (error) {\n",
              "        console.error('Error during call to suggestCharts:', error);\n",
              "      }\n",
              "      quickchartButtonEl.classList.remove('colab-df-spinner');\n",
              "      quickchartButtonEl.classList.add('colab-df-quickchart-complete');\n",
              "    }\n",
              "    (() => {\n",
              "      let quickchartButtonEl =\n",
              "        document.querySelector('#df-62e570df-cae4-47d8-8020-aad08be9a247 button');\n",
              "      quickchartButtonEl.style.display =\n",
              "        google.colab.kernel.accessAllowed ? 'block' : 'none';\n",
              "    })();\n",
              "  </script>\n",
              "</div>\n",
              "\n",
              "    </div>\n",
              "  </div>\n"
            ],
            "application/vnd.google.colaboratory.intrinsic+json": {
              "type": "dataframe",
              "variable_name": "data",
              "summary": "{\n  \"name\": \"data\",\n  \"rows\": 2225,\n  \"fields\": [\n    {\n      \"column\": \"Text\",\n      \"properties\": {\n        \"dtype\": \"string\",\n        \"num_unique_values\": 2127,\n        \"samples\": [\n          \"Blair congratulates Bush on win\\n \\n Tony Blair has said he looks forward to continuing his strong relationship with George Bush and working with him during his second term as president.\\n \\n Mr Bush's re-election came at a crucial time for a world that was \\\"fractured, divided and uncertain\\\", Mr Blair said. It had to be brought together, he added, saying action was needed on poverty, the Middle East and the conditions on which terrorists prey. Mr Blair said states had to work with the US to fight global terrorism.\\n \\n But there was a need to recognise it would not be defeated by \\\"military might alone but also by demonstrating the strength of our common values\\\" he added. Solving the conflict in the Middle East was the world's single most \\\"pressing political challenge\\\" of the present day, Mr Blair warned. The prime minister also urged Europe and the US to \\\"build anew their alliance\\\".\\n \\n \\\"All of us in positions of leadership, not just President Bush, have a responsibility to rise to this challenge. It is urgent that we do so.\\\" Mr Blair also paid tribute to Democrat John Kerry's campaign, saying he had helped make the presidential election \\\"a true celebration of American democracy\\\". The election of the US president was significant for the world but particularly so for Britain because of its special relationship, he added. Earlier Tory leader Michael Howard sent Mr Bush his \\\"warmest congratulations\\\", saying: \\\"We look to the president to be a unifying force for those all over the world who share our determination to defend freedom.\\\" Liberal Democrat leader Charles Kennedy welcomed the fact there had been a quick conclusion to the election, unlike in 2000.\\n \\n Mr Bush's first task was to \\\"rebuild a sense of domestic purpose\\\" within the US, he said. Mr Kennedy said: \\\"Internationally, it is to be hoped that a second term will see a more sensitive approach to relations with long-standing allies, not least for the global efforts to combat terrorism.\\\" Lib Dem foreign affairs spokesman Menzies Campbell said a win by Mr Kerry would have given Mr Blair the chance of a fresh start, adding it was almost as if there was an \\\"umbilical cord\\\" between Mr Bush and the UK premier.\\n \\n \\\"Europeans must hope that his administration will be much more multilateral in character, and that he will act swiftly to rebuild the Atlantic partnership which is so vital to security. \\\"Iraq will remain an issue of potential division for some time to come.\\\" Even before the result became clear, Mr Blair was being urged to push for action on climate change at his first meeting with whichever candidate won.\\n \\n Liberal Democrat environment spokesman Norman Baker underlined the issue of global warming during a Commons debate on Anglo-American relations on Wednesday. Environment Secretary Margaret Beckett has said the US will act on global warming despite George Bush's refusal to sign up to the Kyoto protocol on carbon emissions. Public opinion would force change, she told BBC news. But Myron Ebell, an adviser on climate change to President Bush, has said there would be no change in the US stance and rejected the threat of climate change. He claimed the US was the only country with independent scientists.\\n\",\n          \"China Aviation seeks rescue deal\\n \\n Scandal-hit jet fuel supplier China Aviation Oil has offered to repay its creditors $220m (\\u00c2\\u00a3117m) of the $550m it lost on trading in oil futures.\\n \\n The firm said it hoped to pay $100m now and another $120m over eight years. With assets of $200m and liabilities totalling $648m, it needs creditors' backing for the offer to avoid going into bankruptcy. The trading scandal is the biggest to hit Singapore since the $1.2bn collapse of Barings Bank in 1995. Chen Jiulin, chief executive of China Aviation Oil (CAO), was arrested by at Changi Airport by Singapore police on 8 December. He was returning from China, where he had headed when CAO announced its trading debacle in late-November. The firm had been betting heavily on a fall in the price of oil during October, but prices rose sharply instead.\\n \\n Among the creditors whose backing CAO needs for its restructuring plan are banking giants such as Barclay's Capital and Sumitomo Mitsui, as well as South Korean firm SK Energy. Of the immediate payment, the firm - China's biggest jet fuel supplier - said it would be paying $30m out of its own resources. The rest would come from its parent company, China Aviation Oil Holding Company in Beijing. The holding company, owned by the Chinese government, holds most of CAO's Singapore-listed shares. It cut its holding from 75% to 60% on 20 October.\\n\",\n          \"Yukos heading back to US courts\\n \\n Russian oil and gas company Yukos is due in a US court on Thursday as it continues to fight for its survival.\\n \\n The firm is in the process of being broken up by Russian authorities in order to pay a $27bn (\\u00c2\\u00a314bn) tax bill. Yukos filed for bankruptcy in the US, hoping to use international business law to halt the forced sale of its key oil production unit, Yuganskneftegas. The unit was however sold for $9.4bn to state oil firm Rosneft but only after the state auction had been disrupted.\\n \\n Yukos lawyers now say the auction violated US bankruptcy law. The company and its main shareholders have vowed to go after any company that buys its assets, using all and every legal means. The company wants damages of $20bn, claiming Yuganskneftegas was sold at less than market value. Judge Letitia Clark will hear different motions, including one from Deutsche Bank to throw out the Chapter 11 bankruptcy filing. The German lender is one of six banks that were barred from providing financing to Gazprom, the Russian state-owned company that was expected to win the auction for Yuganskneftegas. Deutsche Bank, which is also an advisor to Gazprom, has called on the US court to overturn its decision to provide Yukos with bankruptcy protection.\\n \\n Lifting the injunction would remove the uncertainty that surrounds the court case and clarify Deutsche Bank's business position, analysts said.\\n \\n Analysts are not optimistic about Yukos' chances in court. Russian President Vladimir Putin and the country's legal authorities have repeatedly said that the US has no jurisdiction over Yukos and its legal wranglings. On top of that, the firm only has limited assets in the US. Yukos has won small victories, however, and is bullish about its chances in court. \\\"Do we have an ability to influence what happens? We think we do,\\\" said Mike Lake, a Yukos spokesman. \\\"The litigation risks are real,\\\" said Credit Suisse First Boston analyst Vadim Mitroshin The dispute with the Russian authorities is partly driven by President Putin's clampdown on the political ambitions of ex-Yukos boss Mikhail Khodorkovsky. Mr Khodorkovsky is in jail on charges of fraud and tax evasion.\\n\"\n        ],\n        \"semantic_type\": \"\",\n        \"description\": \"\"\n      }\n    }\n  ]\n}"
            }
          },
          "metadata": {},
          "execution_count": 5
        }
      ],
      "source": [
        "# Print first 5 rows of data\n",
        "data.head()"
      ]
    },
    {
      "cell_type": "code",
      "execution_count": 6,
      "metadata": {
        "colab": {
          "base_uri": "https://localhost:8080/",
          "height": 0
        },
        "id": "tTh2uQdWwY9-",
        "outputId": "0c04f80c-1485-4f1c-9bc3-d1cd8cecc0a7"
      },
      "outputs": [
        {
          "output_type": "execute_result",
          "data": {
            "text/plain": [
              "'Observers to monitor UK election\\n \\n Ministers will invite international observers to check the forthcoming UK general election is fairly run.\\n \\n The move comes amid claims the poll could be marred by electoral fraud. A report by two MPs committees called on Thursday for urgent changes to the electoral registration system to combat vote rigging and boost turnout. But in a written response to Labour MP Gordon Prentice, the government said it would normally invite observers to any UK election.\\n \\n Junior constitutional affairs minister Christopher Leslie said: \"I fully expect us to repeat our previous practice of doing so once the date for the next general election is announced.\" The government has looked at ways of boosting voter turnout, which fell to 59% in the last general election in 2001.\\n \\n But trial all-postal ballots in four English regions last summer were hit by delays and some fraud allegations. Liberal Democrat peer Lord Greaves called last week for international observers at the general election - saying otherwise there could be months of court challenges \"on a scale not seen since the 19th Century\". Thursday\\'s report was drawn up by two committees scrutinising the work of the Office of the Deputy Prime Minister (ODPM) and the Department for Constitutional Affairs (DCA). It said that, with the growth of postal voting, there was a strong case to tighten up fraud protection by requiring voters to register individually, rather than by household. It also said about three million people eligible to vote are not registered to do so.\\n \\n Figures for the 2001 general election suggest 29% of people aged between 18 and 24, and 19% of black voters were not on the electoral roll. Young people in shared accommodation are thought to miss out because no one acts as head of the household to fill in the form. ODPM committee chairman Andrew Bennett said individual voter registration, as opposed to registration by household, should be quickly introduced as it could \"dramatically reduce the chances of fraud\". But his counterpart on the DCA committee, Alan Beith, said it should be delayed \"until measures likely to increase registration have been put in place and proved effective.\" Shadow Constitutional Affairs Secretary Oliver Heald accused the government of \"dragging its feet\" over \"this badly needed measure\". \"It is vital that we move ahead with the Northern Ireland system of individual electoral registration to safeguard the integrity of the Britain\\'s electoral system,\" he said.\\n \\n The report said individual registration should be treated carefully as 12% of voters disappeared from the electoral roll in Northern Ireland when it was introduced in 2002. The report said the government should consider fines for unregistered voters, but accepted many experts said it would be an expensive system that would be hard to enforce. It said incentives to register, such as Â£20 council tax rebate, were likely to be seen as \"gimmicks\" and risked undermining the integrity of the system, MPs said. Instead they called for \"imaginative campaigns\" to boost interest.\\n'"
            ],
            "application/vnd.google.colaboratory.intrinsic+json": {
              "type": "string"
            }
          },
          "metadata": {},
          "execution_count": 6
        }
      ],
      "source": [
        "# checking a news article\n",
        "data.loc[3, 'Text']"
      ]
    },
    {
      "cell_type": "markdown",
      "metadata": {
        "id": "xu_WH-DElvdg"
      },
      "source": [
        "### Checking the last five rows of the data"
      ]
    },
    {
      "cell_type": "code",
      "execution_count": 7,
      "metadata": {
        "colab": {
          "base_uri": "https://localhost:8080/",
          "height": 0
        },
        "outputId": "9d91d36f-8817-4178-dfe4-926ba4ad4ceb",
        "id": "jJwhDJt0lvdm"
      },
      "outputs": [
        {
          "output_type": "execute_result",
          "data": {
            "text/plain": [
              "                                                                                                                                                                                                                                                                                                                                                                                                                                                                                                                                                                                                                                                                                                                                                                                                                                                                                                                                                                                                                                                                                                                                                                                                                                                                                                                                                                                                                                                                                                                                                                                                                                                                                                                                                                                                                                                                                                                                                                                                                                                                                                                                                                                                                                                                                                                                                                                                                                                                                                                                   Text\n",
              "2220                                                                                                                                                                                                                                                                                                                                                                                                                                                                                                                                                                                                                                                                                                                                                                                                                                                                                                                                                                                                                                     India opens skies to competition\\n \\n India will allow domestic commercial airlines to fly long haul international routes, a move it hopes will stoke competition and drive down prices.\\n \\n However, only state controlled carriers will be able to fly the lucrative Gulf routes, to countries such as Kuwait and Saudi Arabia, for at least three years. Jet Airways and Air Sahara are the two companies that will benefit initially. India is looking to develop its airline industry as booming economic growth drives demand for travel.\\n \\n Monica Chadha, BBC Delhi reporter, said air travel in India had increased by almost 20% from the previous year and was expected to rise even further. Infrastructure development is lagging demand, however, and will have to improve. \"Most international airports in the country are shabby and ill-equipped to handle heavy air traffic,\" Ms Chada said, adding that while the Civil Aviation minister has promised to modernise and privatise airports little progress has been made. Steps have been take to move things forward and the government recently changed legislation that limited foreign investment in domestic airlines. It raised the maximum stake holding allowed to 49% from 40%. Local press, meanwhile, have reported that the US and India will start negotiations about adding more routes in January. Jet Airways is India's premier private domestic carrier; Air Sahara is ranked third in the category.\\n\n",
              "2221                                                                                                                                         Yukos bankruptcy 'not US matter'\\n \\n Russian authorities do not have to abide by any US court decisions taken with regard to troubled oil giant Yukos, a Houston court has been told.\\n \\n Legal expert William Butler said there was no treaty between the US and Russia to recognise the other's legal rulings. That meant Moscow would not have to adhere to US rulings in the Yukos case. Yukos says a US court was entitled to declare it bankrupt before its Yugansk unit was sold, since it has a US subsidiary and local bank accounts.\\n \\n Yukos made its surprise Chapter 11 bankruptcy filing in Houston in December in an unsuccessful attempt to halt the auction of Yugansk, its main oil producing unit, by Russian authorities. Yugansk was sold to help pay off a $27.5bn (Â£14.5bn) back tax bill. It was bought for $9.4bn by a previously unknown group, which was in turn bought by state-controlled oil company Rosneft. The US court's jurisdiction has been challenged by Deutsche Bank and Gazpromneft, a former unit of Russian gas monopoly Gazprom which is due to merge with Rosneft. Deutsche Bank maintains the case has no place in a US court because Yukos has no assets in the US, apart from two bank accounts and a house in Houston owned by its chief finance officer Bruce Misamore. Deutsche Bank is involved in the case because it is itself being sued by Yukos. It had agreed to loan Gazpromneft the money to bid for Yugansk. US bankruptcy judge Letitia Clark, who issued an injunction in December to try and prevent the Yugansk sale, has said she will rule \"pretty promptly, however I do not anticipate ruling on it before next Tuesday\".\\n \\n Yukos has claimed it sought help in the US because other forums - Russian courts and the European Court of Human Rights - were either unfriendly or offered less protection. It has claimed that Russia imposed the huge tax bill and forced the sale of Yugansk as part of a campaign to destroy Yukos and its former owner Mihkail Khodorkovsky, who is facing a 10-year prison term in Russia for fraud and tax evasion. Yukos' parent company, the Gibraltar-based Menatep Group, is suing Russia in Europe for $28.3bn in financial damages. The company is also seeking $20bn in a separate US lawsuit against Rosneft and Gazprom for their role in the sale of Yugansk.\\n\n",
              "2222                                                                                                                                                                                                                                                                                                                                                                                                                                                                                                                                                               Survey confirms property slowdown\\n \\n Government figures have confirmed a widely reported slowdown of the UK's housing market in late 2004.\\n \\n House prices were 11.8% higher on the year in the last quarter of 2004, down from 16.3% in the July-to-September quarter, the Land Registry said. The average house price in England and Wales was Â£182,920, down from Â£187,971 in July-September. The volume of sales between October and December dropped by nearly a quarter from the same period in 2003. The government figures are the first official confirmation of falls in the market at the end of 2004. Land Registry figures are less up to date than those of banks and building societies, since they record completions not mortgage approvals. However, the figures are viewed as the most accurate measure of house prices as they include all property transactions, including cash sales.\\n \\n The cost of buying a home fell in seven out of 10 regions between the third and fourth quarters of 2004.\\n \\n The biggest annual gains were made in Wales, where house prices were up by 23% in the fourth quarter. House prices rose the slowest in Greater London, being up by 6%. In the capital, the volume of sales fell by 23% from 36,185 in 2003 to 28,041 for the same period in 2004. There was also a decline in the number of million-pound properties sold in the capital, with 436 properties over Â£1m sold compared to 469 for the same period in 2003. Although the figures point to a slowdown in the market, the most recent surveys from Nationwide and Halifax have indicated the market may be undergoing a revival. After registering falls at the back end of 2004, Halifax said house prices rose by 0.8% in January and Nationwide reported a rise of 0.4% in the first month of the year. Members of the Bank of England's rate-setting committee will make their latest decision on interest rates on Thursday.\\n\n",
              "2223  High fuel prices hit BA's profits\\n \\n British Airways has blamed high fuel prices for a 40% drop in profits.\\n \\n Reporting its results for the three months to 31 December 2004, the airline made a pre-tax profit of Â£75m ($141m) compared with Â£125m a year earlier. Rod Eddington, BA's chief executive, said the results were \"respectable\" in a third quarter when fuel costs rose by Â£106m or 47.3%. BA's profits were still better than market expectation of Â£59m, and it expects a rise in full-year revenues.\\n \\n To help offset the increased price of aviation fuel, BA last year introduced a fuel surcharge for passengers.\\n \\n In October, it increased this from Â£6 to Â£10 one-way for all long-haul flights, while the short-haul surcharge was raised from Â£2.50 to Â£4 a leg. Yet aviation analyst Mike Powell of Dresdner Kleinwort Wasserstein says BA's estimated annual surcharge revenues - Â£160m - will still be way short of its additional fuel costs - a predicted extra Â£250m. Turnover for the quarter was up 4.3% to Â£1.97bn, further benefiting from a rise in cargo revenue. Looking ahead to its full year results to March 2005, BA warned that yields - average revenues per passenger - were expected to decline as it continues to lower prices in the face of competition from low-cost carriers. However, it said sales would be better than previously forecast. \"For the year to March 2005, the total revenue outlook is slightly better than previous guidance with a 3% to 3.5% improvement anticipated,\" BA chairman Martin Broughton said. BA had previously forecast a 2% to 3% rise in full-year revenue.\\n \\n It also reported on Friday that passenger numbers rose 8.1% in January. Aviation analyst Nick Van den Brul of BNP Paribas described BA's latest quarterly results as \"pretty modest\". \"It is quite good on the revenue side and it shows the impact of fuel surcharges and a positive cargo development, however, operating margins down and cost impact of fuel are very strong,\" he said. Since the 11 September 2001 attacks in the United States, BA has cut 13,000 jobs as part of a major cost-cutting drive. \"Our focus remains on reducing controllable costs and debt whilst continuing to invest in our products,\" Mr Eddington said. \"For example, we have taken delivery of six Airbus A321 aircraft and next month we will start further improvements to our Club World flat beds.\" BA's shares closed up four pence at 274.5 pence.\\n\n",
              "2224                                                                                                                                                                                                                                                                                                                                                                                                                                                                                US trade gap hits record in 2004\\n \\n The gap between US exports and imports hit an all-time high of $671.7bn (Â£484bn) in 2004, latest figures show.\\n \\n The Commerce Department said the trade deficit for all of last year was 24.4% above the previous record - 2003's imbalance of $496.5bn. The deficit with China, up 30.5% at $162bn, was the largest ever recorded with a single country. However, on a monthly basis the US trade gap narrowed by 4.9% in December to Â£56.4bn. The US consumer's appetite for all things from oil to imported cars, and even wine and cheese, reached record levels last year and the figures are likely to spark fresh criticism of President Bush's economic policies.\\n \\n Democrats claim the administration has not done enough to clamp down on unfair foreign trade practices. For example, they believe China's currency policy - which US manufacturers claim has undervalued the yuan by as much as 40% - has given China's rapidly expanding economy an unfair advantage against US competitors.\\n \\n Meanwhile, the Bush administration argues that the US deficit reflects the fact the America is growing at faster rate than the rest of the world, spurring on more demand for imported goods. Some economists say this may allow an upward revision of US economic growth in the fourth quarter. But others point out that the deficit has reached such astronomical proportions that foreigners many choose not to hold as many dollar-denominated assets, which may in turn harm growth. For all of 2004, US exports rose 12.3% to $1.15 trillion, but imports rose even faster by 16.3% to a new record of $1.76 trillion. Foreign oil exports surged by 35.7% to a record $180.7bn, reflecting the rally in global oil prices and increasing domestic demand. Imports were not affected by the dollar's weakness last year. \"We expect the deficit to continue to widen in 2005 even if the dollar gets back to its downward trend,\" said economist Marie-Pierre Ripert at IXIS.\\n"
            ],
            "text/html": [
              "\n",
              "  <div id=\"df-732ee060-7b5a-4f22-9f23-1177616981b2\" class=\"colab-df-container\">\n",
              "    <div>\n",
              "<style scoped>\n",
              "    .dataframe tbody tr th:only-of-type {\n",
              "        vertical-align: middle;\n",
              "    }\n",
              "\n",
              "    .dataframe tbody tr th {\n",
              "        vertical-align: top;\n",
              "    }\n",
              "\n",
              "    .dataframe thead th {\n",
              "        text-align: right;\n",
              "    }\n",
              "</style>\n",
              "<table border=\"1\" class=\"dataframe\">\n",
              "  <thead>\n",
              "    <tr style=\"text-align: right;\">\n",
              "      <th></th>\n",
              "      <th>Text</th>\n",
              "    </tr>\n",
              "  </thead>\n",
              "  <tbody>\n",
              "    <tr>\n",
              "      <th>2220</th>\n",
              "      <td>India opens skies to competition\\n \\n India will allow domestic commercial airlines to fly long haul international routes, a move it hopes will stoke competition and drive down prices.\\n \\n However, only state controlled carriers will be able to fly the lucrative Gulf routes, to countries such as Kuwait and Saudi Arabia, for at least three years. Jet Airways and Air Sahara are the two companies that will benefit initially. India is looking to develop its airline industry as booming economic growth drives demand for travel.\\n \\n Monica Chadha, BBC Delhi reporter, said air travel in India had increased by almost 20% from the previous year and was expected to rise even further. Infrastructure development is lagging demand, however, and will have to improve. \"Most international airports in the country are shabby and ill-equipped to handle heavy air traffic,\" Ms Chada said, adding that while the Civil Aviation minister has promised to modernise and privatise airports little progress has been made. Steps have been take to move things forward and the government recently changed legislation that limited foreign investment in domestic airlines. It raised the maximum stake holding allowed to 49% from 40%. Local press, meanwhile, have reported that the US and India will start negotiations about adding more routes in January. Jet Airways is India's premier private domestic carrier; Air Sahara is ranked third in the category.\\n</td>\n",
              "    </tr>\n",
              "    <tr>\n",
              "      <th>2221</th>\n",
              "      <td>Yukos bankruptcy 'not US matter'\\n \\n Russian authorities do not have to abide by any US court decisions taken with regard to troubled oil giant Yukos, a Houston court has been told.\\n \\n Legal expert William Butler said there was no treaty between the US and Russia to recognise the other's legal rulings. That meant Moscow would not have to adhere to US rulings in the Yukos case. Yukos says a US court was entitled to declare it bankrupt before its Yugansk unit was sold, since it has a US subsidiary and local bank accounts.\\n \\n Yukos made its surprise Chapter 11 bankruptcy filing in Houston in December in an unsuccessful attempt to halt the auction of Yugansk, its main oil producing unit, by Russian authorities. Yugansk was sold to help pay off a $27.5bn (Â£14.5bn) back tax bill. It was bought for $9.4bn by a previously unknown group, which was in turn bought by state-controlled oil company Rosneft. The US court's jurisdiction has been challenged by Deutsche Bank and Gazpromneft, a former unit of Russian gas monopoly Gazprom which is due to merge with Rosneft. Deutsche Bank maintains the case has no place in a US court because Yukos has no assets in the US, apart from two bank accounts and a house in Houston owned by its chief finance officer Bruce Misamore. Deutsche Bank is involved in the case because it is itself being sued by Yukos. It had agreed to loan Gazpromneft the money to bid for Yugansk. US bankruptcy judge Letitia Clark, who issued an injunction in December to try and prevent the Yugansk sale, has said she will rule \"pretty promptly, however I do not anticipate ruling on it before next Tuesday\".\\n \\n Yukos has claimed it sought help in the US because other forums - Russian courts and the European Court of Human Rights - were either unfriendly or offered less protection. It has claimed that Russia imposed the huge tax bill and forced the sale of Yugansk as part of a campaign to destroy Yukos and its former owner Mihkail Khodorkovsky, who is facing a 10-year prison term in Russia for fraud and tax evasion. Yukos' parent company, the Gibraltar-based Menatep Group, is suing Russia in Europe for $28.3bn in financial damages. The company is also seeking $20bn in a separate US lawsuit against Rosneft and Gazprom for their role in the sale of Yugansk.\\n</td>\n",
              "    </tr>\n",
              "    <tr>\n",
              "      <th>2222</th>\n",
              "      <td>Survey confirms property slowdown\\n \\n Government figures have confirmed a widely reported slowdown of the UK's housing market in late 2004.\\n \\n House prices were 11.8% higher on the year in the last quarter of 2004, down from 16.3% in the July-to-September quarter, the Land Registry said. The average house price in England and Wales was Â£182,920, down from Â£187,971 in July-September. The volume of sales between October and December dropped by nearly a quarter from the same period in 2003. The government figures are the first official confirmation of falls in the market at the end of 2004. Land Registry figures are less up to date than those of banks and building societies, since they record completions not mortgage approvals. However, the figures are viewed as the most accurate measure of house prices as they include all property transactions, including cash sales.\\n \\n The cost of buying a home fell in seven out of 10 regions between the third and fourth quarters of 2004.\\n \\n The biggest annual gains were made in Wales, where house prices were up by 23% in the fourth quarter. House prices rose the slowest in Greater London, being up by 6%. In the capital, the volume of sales fell by 23% from 36,185 in 2003 to 28,041 for the same period in 2004. There was also a decline in the number of million-pound properties sold in the capital, with 436 properties over Â£1m sold compared to 469 for the same period in 2003. Although the figures point to a slowdown in the market, the most recent surveys from Nationwide and Halifax have indicated the market may be undergoing a revival. After registering falls at the back end of 2004, Halifax said house prices rose by 0.8% in January and Nationwide reported a rise of 0.4% in the first month of the year. Members of the Bank of England's rate-setting committee will make their latest decision on interest rates on Thursday.\\n</td>\n",
              "    </tr>\n",
              "    <tr>\n",
              "      <th>2223</th>\n",
              "      <td>High fuel prices hit BA's profits\\n \\n British Airways has blamed high fuel prices for a 40% drop in profits.\\n \\n Reporting its results for the three months to 31 December 2004, the airline made a pre-tax profit of Â£75m ($141m) compared with Â£125m a year earlier. Rod Eddington, BA's chief executive, said the results were \"respectable\" in a third quarter when fuel costs rose by Â£106m or 47.3%. BA's profits were still better than market expectation of Â£59m, and it expects a rise in full-year revenues.\\n \\n To help offset the increased price of aviation fuel, BA last year introduced a fuel surcharge for passengers.\\n \\n In October, it increased this from Â£6 to Â£10 one-way for all long-haul flights, while the short-haul surcharge was raised from Â£2.50 to Â£4 a leg. Yet aviation analyst Mike Powell of Dresdner Kleinwort Wasserstein says BA's estimated annual surcharge revenues - Â£160m - will still be way short of its additional fuel costs - a predicted extra Â£250m. Turnover for the quarter was up 4.3% to Â£1.97bn, further benefiting from a rise in cargo revenue. Looking ahead to its full year results to March 2005, BA warned that yields - average revenues per passenger - were expected to decline as it continues to lower prices in the face of competition from low-cost carriers. However, it said sales would be better than previously forecast. \"For the year to March 2005, the total revenue outlook is slightly better than previous guidance with a 3% to 3.5% improvement anticipated,\" BA chairman Martin Broughton said. BA had previously forecast a 2% to 3% rise in full-year revenue.\\n \\n It also reported on Friday that passenger numbers rose 8.1% in January. Aviation analyst Nick Van den Brul of BNP Paribas described BA's latest quarterly results as \"pretty modest\". \"It is quite good on the revenue side and it shows the impact of fuel surcharges and a positive cargo development, however, operating margins down and cost impact of fuel are very strong,\" he said. Since the 11 September 2001 attacks in the United States, BA has cut 13,000 jobs as part of a major cost-cutting drive. \"Our focus remains on reducing controllable costs and debt whilst continuing to invest in our products,\" Mr Eddington said. \"For example, we have taken delivery of six Airbus A321 aircraft and next month we will start further improvements to our Club World flat beds.\" BA's shares closed up four pence at 274.5 pence.\\n</td>\n",
              "    </tr>\n",
              "    <tr>\n",
              "      <th>2224</th>\n",
              "      <td>US trade gap hits record in 2004\\n \\n The gap between US exports and imports hit an all-time high of $671.7bn (Â£484bn) in 2004, latest figures show.\\n \\n The Commerce Department said the trade deficit for all of last year was 24.4% above the previous record - 2003's imbalance of $496.5bn. The deficit with China, up 30.5% at $162bn, was the largest ever recorded with a single country. However, on a monthly basis the US trade gap narrowed by 4.9% in December to Â£56.4bn. The US consumer's appetite for all things from oil to imported cars, and even wine and cheese, reached record levels last year and the figures are likely to spark fresh criticism of President Bush's economic policies.\\n \\n Democrats claim the administration has not done enough to clamp down on unfair foreign trade practices. For example, they believe China's currency policy - which US manufacturers claim has undervalued the yuan by as much as 40% - has given China's rapidly expanding economy an unfair advantage against US competitors.\\n \\n Meanwhile, the Bush administration argues that the US deficit reflects the fact the America is growing at faster rate than the rest of the world, spurring on more demand for imported goods. Some economists say this may allow an upward revision of US economic growth in the fourth quarter. But others point out that the deficit has reached such astronomical proportions that foreigners many choose not to hold as many dollar-denominated assets, which may in turn harm growth. For all of 2004, US exports rose 12.3% to $1.15 trillion, but imports rose even faster by 16.3% to a new record of $1.76 trillion. Foreign oil exports surged by 35.7% to a record $180.7bn, reflecting the rally in global oil prices and increasing domestic demand. Imports were not affected by the dollar's weakness last year. \"We expect the deficit to continue to widen in 2005 even if the dollar gets back to its downward trend,\" said economist Marie-Pierre Ripert at IXIS.\\n</td>\n",
              "    </tr>\n",
              "  </tbody>\n",
              "</table>\n",
              "</div>\n",
              "    <div class=\"colab-df-buttons\">\n",
              "\n",
              "  <div class=\"colab-df-container\">\n",
              "    <button class=\"colab-df-convert\" onclick=\"convertToInteractive('df-732ee060-7b5a-4f22-9f23-1177616981b2')\"\n",
              "            title=\"Convert this dataframe to an interactive table.\"\n",
              "            style=\"display:none;\">\n",
              "\n",
              "  <svg xmlns=\"http://www.w3.org/2000/svg\" height=\"24px\" viewBox=\"0 -960 960 960\">\n",
              "    <path d=\"M120-120v-720h720v720H120Zm60-500h600v-160H180v160Zm220 220h160v-160H400v160Zm0 220h160v-160H400v160ZM180-400h160v-160H180v160Zm440 0h160v-160H620v160ZM180-180h160v-160H180v160Zm440 0h160v-160H620v160Z\"/>\n",
              "  </svg>\n",
              "    </button>\n",
              "\n",
              "  <style>\n",
              "    .colab-df-container {\n",
              "      display:flex;\n",
              "      gap: 12px;\n",
              "    }\n",
              "\n",
              "    .colab-df-convert {\n",
              "      background-color: #E8F0FE;\n",
              "      border: none;\n",
              "      border-radius: 50%;\n",
              "      cursor: pointer;\n",
              "      display: none;\n",
              "      fill: #1967D2;\n",
              "      height: 32px;\n",
              "      padding: 0 0 0 0;\n",
              "      width: 32px;\n",
              "    }\n",
              "\n",
              "    .colab-df-convert:hover {\n",
              "      background-color: #E2EBFA;\n",
              "      box-shadow: 0px 1px 2px rgba(60, 64, 67, 0.3), 0px 1px 3px 1px rgba(60, 64, 67, 0.15);\n",
              "      fill: #174EA6;\n",
              "    }\n",
              "\n",
              "    .colab-df-buttons div {\n",
              "      margin-bottom: 4px;\n",
              "    }\n",
              "\n",
              "    [theme=dark] .colab-df-convert {\n",
              "      background-color: #3B4455;\n",
              "      fill: #D2E3FC;\n",
              "    }\n",
              "\n",
              "    [theme=dark] .colab-df-convert:hover {\n",
              "      background-color: #434B5C;\n",
              "      box-shadow: 0px 1px 3px 1px rgba(0, 0, 0, 0.15);\n",
              "      filter: drop-shadow(0px 1px 2px rgba(0, 0, 0, 0.3));\n",
              "      fill: #FFFFFF;\n",
              "    }\n",
              "  </style>\n",
              "\n",
              "    <script>\n",
              "      const buttonEl =\n",
              "        document.querySelector('#df-732ee060-7b5a-4f22-9f23-1177616981b2 button.colab-df-convert');\n",
              "      buttonEl.style.display =\n",
              "        google.colab.kernel.accessAllowed ? 'block' : 'none';\n",
              "\n",
              "      async function convertToInteractive(key) {\n",
              "        const element = document.querySelector('#df-732ee060-7b5a-4f22-9f23-1177616981b2');\n",
              "        const dataTable =\n",
              "          await google.colab.kernel.invokeFunction('convertToInteractive',\n",
              "                                                    [key], {});\n",
              "        if (!dataTable) return;\n",
              "\n",
              "        const docLinkHtml = 'Like what you see? Visit the ' +\n",
              "          '<a target=\"_blank\" href=https://colab.research.google.com/notebooks/data_table.ipynb>data table notebook</a>'\n",
              "          + ' to learn more about interactive tables.';\n",
              "        element.innerHTML = '';\n",
              "        dataTable['output_type'] = 'display_data';\n",
              "        await google.colab.output.renderOutput(dataTable, element);\n",
              "        const docLink = document.createElement('div');\n",
              "        docLink.innerHTML = docLinkHtml;\n",
              "        element.appendChild(docLink);\n",
              "      }\n",
              "    </script>\n",
              "  </div>\n",
              "\n",
              "\n",
              "<div id=\"df-0a9f7711-c55d-4597-8541-09fbcecd7e5c\">\n",
              "  <button class=\"colab-df-quickchart\" onclick=\"quickchart('df-0a9f7711-c55d-4597-8541-09fbcecd7e5c')\"\n",
              "            title=\"Suggest charts\"\n",
              "            style=\"display:none;\">\n",
              "\n",
              "<svg xmlns=\"http://www.w3.org/2000/svg\" height=\"24px\"viewBox=\"0 0 24 24\"\n",
              "     width=\"24px\">\n",
              "    <g>\n",
              "        <path d=\"M19 3H5c-1.1 0-2 .9-2 2v14c0 1.1.9 2 2 2h14c1.1 0 2-.9 2-2V5c0-1.1-.9-2-2-2zM9 17H7v-7h2v7zm4 0h-2V7h2v10zm4 0h-2v-4h2v4z\"/>\n",
              "    </g>\n",
              "</svg>\n",
              "  </button>\n",
              "\n",
              "<style>\n",
              "  .colab-df-quickchart {\n",
              "      --bg-color: #E8F0FE;\n",
              "      --fill-color: #1967D2;\n",
              "      --hover-bg-color: #E2EBFA;\n",
              "      --hover-fill-color: #174EA6;\n",
              "      --disabled-fill-color: #AAA;\n",
              "      --disabled-bg-color: #DDD;\n",
              "  }\n",
              "\n",
              "  [theme=dark] .colab-df-quickchart {\n",
              "      --bg-color: #3B4455;\n",
              "      --fill-color: #D2E3FC;\n",
              "      --hover-bg-color: #434B5C;\n",
              "      --hover-fill-color: #FFFFFF;\n",
              "      --disabled-bg-color: #3B4455;\n",
              "      --disabled-fill-color: #666;\n",
              "  }\n",
              "\n",
              "  .colab-df-quickchart {\n",
              "    background-color: var(--bg-color);\n",
              "    border: none;\n",
              "    border-radius: 50%;\n",
              "    cursor: pointer;\n",
              "    display: none;\n",
              "    fill: var(--fill-color);\n",
              "    height: 32px;\n",
              "    padding: 0;\n",
              "    width: 32px;\n",
              "  }\n",
              "\n",
              "  .colab-df-quickchart:hover {\n",
              "    background-color: var(--hover-bg-color);\n",
              "    box-shadow: 0 1px 2px rgba(60, 64, 67, 0.3), 0 1px 3px 1px rgba(60, 64, 67, 0.15);\n",
              "    fill: var(--button-hover-fill-color);\n",
              "  }\n",
              "\n",
              "  .colab-df-quickchart-complete:disabled,\n",
              "  .colab-df-quickchart-complete:disabled:hover {\n",
              "    background-color: var(--disabled-bg-color);\n",
              "    fill: var(--disabled-fill-color);\n",
              "    box-shadow: none;\n",
              "  }\n",
              "\n",
              "  .colab-df-spinner {\n",
              "    border: 2px solid var(--fill-color);\n",
              "    border-color: transparent;\n",
              "    border-bottom-color: var(--fill-color);\n",
              "    animation:\n",
              "      spin 1s steps(1) infinite;\n",
              "  }\n",
              "\n",
              "  @keyframes spin {\n",
              "    0% {\n",
              "      border-color: transparent;\n",
              "      border-bottom-color: var(--fill-color);\n",
              "      border-left-color: var(--fill-color);\n",
              "    }\n",
              "    20% {\n",
              "      border-color: transparent;\n",
              "      border-left-color: var(--fill-color);\n",
              "      border-top-color: var(--fill-color);\n",
              "    }\n",
              "    30% {\n",
              "      border-color: transparent;\n",
              "      border-left-color: var(--fill-color);\n",
              "      border-top-color: var(--fill-color);\n",
              "      border-right-color: var(--fill-color);\n",
              "    }\n",
              "    40% {\n",
              "      border-color: transparent;\n",
              "      border-right-color: var(--fill-color);\n",
              "      border-top-color: var(--fill-color);\n",
              "    }\n",
              "    60% {\n",
              "      border-color: transparent;\n",
              "      border-right-color: var(--fill-color);\n",
              "    }\n",
              "    80% {\n",
              "      border-color: transparent;\n",
              "      border-right-color: var(--fill-color);\n",
              "      border-bottom-color: var(--fill-color);\n",
              "    }\n",
              "    90% {\n",
              "      border-color: transparent;\n",
              "      border-bottom-color: var(--fill-color);\n",
              "    }\n",
              "  }\n",
              "</style>\n",
              "\n",
              "  <script>\n",
              "    async function quickchart(key) {\n",
              "      const quickchartButtonEl =\n",
              "        document.querySelector('#' + key + ' button');\n",
              "      quickchartButtonEl.disabled = true;  // To prevent multiple clicks.\n",
              "      quickchartButtonEl.classList.add('colab-df-spinner');\n",
              "      try {\n",
              "        const charts = await google.colab.kernel.invokeFunction(\n",
              "            'suggestCharts', [key], {});\n",
              "      } catch (error) {\n",
              "        console.error('Error during call to suggestCharts:', error);\n",
              "      }\n",
              "      quickchartButtonEl.classList.remove('colab-df-spinner');\n",
              "      quickchartButtonEl.classList.add('colab-df-quickchart-complete');\n",
              "    }\n",
              "    (() => {\n",
              "      let quickchartButtonEl =\n",
              "        document.querySelector('#df-0a9f7711-c55d-4597-8541-09fbcecd7e5c button');\n",
              "      quickchartButtonEl.style.display =\n",
              "        google.colab.kernel.accessAllowed ? 'block' : 'none';\n",
              "    })();\n",
              "  </script>\n",
              "</div>\n",
              "\n",
              "    </div>\n",
              "  </div>\n"
            ],
            "application/vnd.google.colaboratory.intrinsic+json": {
              "type": "dataframe",
              "summary": "{\n  \"name\": \"data\",\n  \"rows\": 5,\n  \"fields\": [\n    {\n      \"column\": \"Text\",\n      \"properties\": {\n        \"dtype\": \"string\",\n        \"num_unique_values\": 5,\n        \"samples\": [\n          \"Yukos bankruptcy 'not US matter'\\n \\n Russian authorities do not have to abide by any US court decisions taken with regard to troubled oil giant Yukos, a Houston court has been told.\\n \\n Legal expert William Butler said there was no treaty between the US and Russia to recognise the other's legal rulings. That meant Moscow would not have to adhere to US rulings in the Yukos case. Yukos says a US court was entitled to declare it bankrupt before its Yugansk unit was sold, since it has a US subsidiary and local bank accounts.\\n \\n Yukos made its surprise Chapter 11 bankruptcy filing in Houston in December in an unsuccessful attempt to halt the auction of Yugansk, its main oil producing unit, by Russian authorities. Yugansk was sold to help pay off a $27.5bn (\\u00c2\\u00a314.5bn) back tax bill. It was bought for $9.4bn by a previously unknown group, which was in turn bought by state-controlled oil company Rosneft. The US court's jurisdiction has been challenged by Deutsche Bank and Gazpromneft, a former unit of Russian gas monopoly Gazprom which is due to merge with Rosneft. Deutsche Bank maintains the case has no place in a US court because Yukos has no assets in the US, apart from two bank accounts and a house in Houston owned by its chief finance officer Bruce Misamore. Deutsche Bank is involved in the case because it is itself being sued by Yukos. It had agreed to loan Gazpromneft the money to bid for Yugansk. US bankruptcy judge Letitia Clark, who issued an injunction in December to try and prevent the Yugansk sale, has said she will rule \\\"pretty promptly, however I do not anticipate ruling on it before next Tuesday\\\".\\n \\n Yukos has claimed it sought help in the US because other forums - Russian courts and the European Court of Human Rights - were either unfriendly or offered less protection. It has claimed that Russia imposed the huge tax bill and forced the sale of Yugansk as part of a campaign to destroy Yukos and its former owner Mihkail Khodorkovsky, who is facing a 10-year prison term in Russia for fraud and tax evasion. Yukos' parent company, the Gibraltar-based Menatep Group, is suing Russia in Europe for $28.3bn in financial damages. The company is also seeking $20bn in a separate US lawsuit against Rosneft and Gazprom for their role in the sale of Yugansk.\\n\",\n          \"US trade gap hits record in 2004\\n \\n The gap between US exports and imports hit an all-time high of $671.7bn (\\u00c2\\u00a3484bn) in 2004, latest figures show.\\n \\n The Commerce Department said the trade deficit for all of last year was 24.4% above the previous record - 2003's imbalance of $496.5bn. The deficit with China, up 30.5% at $162bn, was the largest ever recorded with a single country. However, on a monthly basis the US trade gap narrowed by 4.9% in December to \\u00c2\\u00a356.4bn. The US consumer's appetite for all things from oil to imported cars, and even wine and cheese, reached record levels last year and the figures are likely to spark fresh criticism of President Bush's economic policies.\\n \\n Democrats claim the administration has not done enough to clamp down on unfair foreign trade practices. For example, they believe China's currency policy - which US manufacturers claim has undervalued the yuan by as much as 40% - has given China's rapidly expanding economy an unfair advantage against US competitors.\\n \\n Meanwhile, the Bush administration argues that the US deficit reflects the fact the America is growing at faster rate than the rest of the world, spurring on more demand for imported goods. Some economists say this may allow an upward revision of US economic growth in the fourth quarter. But others point out that the deficit has reached such astronomical proportions that foreigners many choose not to hold as many dollar-denominated assets, which may in turn harm growth. For all of 2004, US exports rose 12.3% to $1.15 trillion, but imports rose even faster by 16.3% to a new record of $1.76 trillion. Foreign oil exports surged by 35.7% to a record $180.7bn, reflecting the rally in global oil prices and increasing domestic demand. Imports were not affected by the dollar's weakness last year. \\\"We expect the deficit to continue to widen in 2005 even if the dollar gets back to its downward trend,\\\" said economist Marie-Pierre Ripert at IXIS.\\n\",\n          \"Survey confirms property slowdown\\n \\n Government figures have confirmed a widely reported slowdown of the UK's housing market in late 2004.\\n \\n House prices were 11.8% higher on the year in the last quarter of 2004, down from 16.3% in the July-to-September quarter, the Land Registry said. The average house price in England and Wales was \\u00c2\\u00a3182,920, down from \\u00c2\\u00a3187,971 in July-September. The volume of sales between October and December dropped by nearly a quarter from the same period in 2003. The government figures are the first official confirmation of falls in the market at the end of 2004. Land Registry figures are less up to date than those of banks and building societies, since they record completions not mortgage approvals. However, the figures are viewed as the most accurate measure of house prices as they include all property transactions, including cash sales.\\n \\n The cost of buying a home fell in seven out of 10 regions between the third and fourth quarters of 2004.\\n \\n The biggest annual gains were made in Wales, where house prices were up by 23% in the fourth quarter. House prices rose the slowest in Greater London, being up by 6%. In the capital, the volume of sales fell by 23% from 36,185 in 2003 to 28,041 for the same period in 2004. There was also a decline in the number of million-pound properties sold in the capital, with 436 properties over \\u00c2\\u00a31m sold compared to 469 for the same period in 2003. Although the figures point to a slowdown in the market, the most recent surveys from Nationwide and Halifax have indicated the market may be undergoing a revival. After registering falls at the back end of 2004, Halifax said house prices rose by 0.8% in January and Nationwide reported a rise of 0.4% in the first month of the year. Members of the Bank of England's rate-setting committee will make their latest decision on interest rates on Thursday.\\n\"\n        ],\n        \"semantic_type\": \"\",\n        \"description\": \"\"\n      }\n    }\n  ]\n}"
            }
          },
          "metadata": {},
          "execution_count": 7
        }
      ],
      "source": [
        "# Print last 5 rows of data\n",
        "data.tail()"
      ]
    },
    {
      "cell_type": "markdown",
      "metadata": {
        "id": "NuWYF7W_AQx_"
      },
      "source": [
        "### Checking the shape of the dataset"
      ]
    },
    {
      "cell_type": "code",
      "execution_count": 8,
      "metadata": {
        "colab": {
          "base_uri": "https://localhost:8080/"
        },
        "id": "7DysT_j1Cky-",
        "outputId": "034083d9-d8f7-49f9-a811-a415cff779ee"
      },
      "outputs": [
        {
          "output_type": "execute_result",
          "data": {
            "text/plain": [
              "(2225, 1)"
            ]
          },
          "metadata": {},
          "execution_count": 8
        }
      ],
      "source": [
        "# print shape of data\n",
        "data.shape"
      ]
    },
    {
      "cell_type": "markdown",
      "metadata": {
        "id": "1m9Eku_JUDaS"
      },
      "source": [
        "* The data comprises of ~2.2k news articles"
      ]
    },
    {
      "cell_type": "markdown",
      "metadata": {
        "id": "EBuO6NvsAT1k"
      },
      "source": [
        "### Checking for missing values"
      ]
    },
    {
      "cell_type": "code",
      "execution_count": 9,
      "metadata": {
        "colab": {
          "base_uri": "https://localhost:8080/",
          "height": 0
        },
        "id": "RjFc0JaDCn1u",
        "outputId": "5bcd3552-c9c1-43f2-9907-9f7f98585c46"
      },
      "outputs": [
        {
          "output_type": "execute_result",
          "data": {
            "text/plain": [
              "Text    0\n",
              "dtype: int64"
            ],
            "text/html": [
              "<div>\n",
              "<style scoped>\n",
              "    .dataframe tbody tr th:only-of-type {\n",
              "        vertical-align: middle;\n",
              "    }\n",
              "\n",
              "    .dataframe tbody tr th {\n",
              "        vertical-align: top;\n",
              "    }\n",
              "\n",
              "    .dataframe thead th {\n",
              "        text-align: right;\n",
              "    }\n",
              "</style>\n",
              "<table border=\"1\" class=\"dataframe\">\n",
              "  <thead>\n",
              "    <tr style=\"text-align: right;\">\n",
              "      <th></th>\n",
              "      <th>0</th>\n",
              "    </tr>\n",
              "  </thead>\n",
              "  <tbody>\n",
              "    <tr>\n",
              "      <th>Text</th>\n",
              "      <td>0</td>\n",
              "    </tr>\n",
              "  </tbody>\n",
              "</table>\n",
              "</div><br><label><b>dtype:</b> int64</label>"
            ]
          },
          "metadata": {},
          "execution_count": 9
        }
      ],
      "source": [
        "# Check for missing values\n",
        "data.isnull().sum()"
      ]
    },
    {
      "cell_type": "markdown",
      "metadata": {
        "id": "a9JV6etiY0g9"
      },
      "source": [
        "- There are no mising values in the data"
      ]
    },
    {
      "cell_type": "markdown",
      "metadata": {
        "id": "i8MHLoYFk4cj"
      },
      "source": [
        "### Checking for duplicate values"
      ]
    },
    {
      "cell_type": "code",
      "execution_count": 10,
      "metadata": {
        "colab": {
          "base_uri": "https://localhost:8080/"
        },
        "outputId": "dbea582f-6dcf-4fc7-903f-a63885b3df6e",
        "id": "0riz6vzzk4cu"
      },
      "outputs": [
        {
          "output_type": "execute_result",
          "data": {
            "text/plain": [
              "98"
            ]
          },
          "metadata": {},
          "execution_count": 10
        }
      ],
      "source": [
        "# Check for duplicate values\n",
        "data.duplicated().sum()"
      ]
    },
    {
      "cell_type": "markdown",
      "metadata": {
        "id": "ZIaC9FQPk4cv"
      },
      "source": [
        "- We'll drop the duplicate values in the data."
      ]
    },
    {
      "cell_type": "code",
      "source": [
        "data = data.drop_duplicates()\n",
        "\n",
        "# resetting the dataframe index\n",
        "data.reset_index(drop=True, inplace=True)"
      ],
      "metadata": {
        "id": "qbk7cAnTk8FA"
      },
      "execution_count": 11,
      "outputs": []
    },
    {
      "cell_type": "code",
      "source": [
        "data.duplicated().sum()"
      ],
      "metadata": {
        "colab": {
          "base_uri": "https://localhost:8080/"
        },
        "id": "1ivDvrO7lF0F",
        "outputId": "d78313f3-be1f-4a00-ea0e-570b3ac89fad"
      },
      "execution_count": 12,
      "outputs": [
        {
          "output_type": "execute_result",
          "data": {
            "text/plain": [
              "0"
            ]
          },
          "metadata": {},
          "execution_count": 12
        }
      ]
    },
    {
      "cell_type": "markdown",
      "source": [
        "- There are no duplicate values in the data now."
      ],
      "metadata": {
        "id": "hZZHuFYZlHXi"
      }
    },
    {
      "cell_type": "markdown",
      "metadata": {
        "id": "fYtRRwpJKTxz"
      },
      "source": [
        "## **Model Building**"
      ]
    },
    {
      "cell_type": "markdown",
      "source": [
        "### **Defining the model**"
      ],
      "metadata": {
        "id": "51ITQezWi9VE"
      }
    },
    {
      "cell_type": "markdown",
      "metadata": {
        "id": "yNDAvKn0Klwa"
      },
      "source": [
        "We'll be using the **all-MiniLM-L6-v2** model here.\n",
        "\n",
        "💡 The **all-MiniLM-L6-v2** model is an all-round (**all**) model trained on a large and diverse dataset of over 1 billion training samples and generates state-of-the-art sentence embeddings of 384 dimensions.\n",
        "\n",
        "📊  It is a language model (**LM**) that has 6 transformer encoder layers (**L6**) and is a smaller model (**Mini**) trained to mimic the performance of a larger model (BERT).\n",
        "\n",
        "🛠️ Potential use-cases include text classification, sentiment analysis, and semantic search."
      ]
    },
    {
      "cell_type": "code",
      "execution_count": 13,
      "metadata": {
        "id": "3EQ7eQIpYSyz"
      },
      "outputs": [],
      "source": [
        "#Defining the model\n",
        "model = SentenceTransformer('sentence-transformers/all-MiniLM-L6-v2')"
      ]
    },
    {
      "cell_type": "markdown",
      "metadata": {
        "id": "Lll4MLfzKfBa"
      },
      "source": [
        "### **Encoding the dataset**"
      ]
    },
    {
      "cell_type": "code",
      "source": [
        "# setting the device to GPU if available, else CPU\n",
        "device = torch.device(\"cuda\" if torch.cuda.is_available() else \"cpu\")"
      ],
      "metadata": {
        "id": "wqQUCHjwcN6d"
      },
      "execution_count": 14,
      "outputs": []
    },
    {
      "cell_type": "code",
      "execution_count": 15,
      "metadata": {
        "colab": {
          "base_uri": "https://localhost:8080/",
          "referenced_widgets": [
            "7bdcea32df7044a98cb49008933f7087",
            "dde0dc5c430f4ab787258d068dcbab4c",
            "25eac164274442f69b09d190cfb54460",
            "3523d69bcbba4a9a830d89cdd236b04d",
            "7a7dd30f01e1487c82e70a5dcedceb0e",
            "4c4d91765197419e9cd6a53a5a29593d",
            "2ea26c6333c744b59323af5512f10803",
            "30a817ed4adf4c45b4f4f87d4ca1ac1a",
            "7cf7843e11454c81b9440edf781d96ec",
            "90a94761d6a6473a96d25ba522dc207e",
            "1e3cc8592f0a4330af936c34a75a7afa"
          ],
          "height": 0
        },
        "id": "q1BaGKThKcX3",
        "outputId": "a6ecf6bc-6a9f-44fb-bbdd-a2ae2b5160e7"
      },
      "outputs": [
        {
          "output_type": "display_data",
          "data": {
            "text/plain": [
              "Batches:   0%|          | 0/67 [00:00<?, ?it/s]"
            ],
            "application/vnd.jupyter.widget-view+json": {
              "version_major": 2,
              "version_minor": 0,
              "model_id": "7bdcea32df7044a98cb49008933f7087"
            }
          },
          "metadata": {}
        }
      ],
      "source": [
        "# encoding the dataset\n",
        "embedding_matrix = model.encode(data['Text'], show_progress_bar=True, device=device)"
      ]
    },
    {
      "cell_type": "code",
      "execution_count": 16,
      "metadata": {
        "colab": {
          "base_uri": "https://localhost:8080/"
        },
        "id": "Oqi4c8sBC9pH",
        "outputId": "67360316-5eca-426d-b37e-6fd65d3e1d3b"
      },
      "outputs": [
        {
          "output_type": "execute_result",
          "data": {
            "text/plain": [
              "(2127, 384)"
            ]
          },
          "metadata": {},
          "execution_count": 16
        }
      ],
      "source": [
        "# printing the shape of the embedding matrix\n",
        "embedding_matrix.shape"
      ]
    },
    {
      "cell_type": "markdown",
      "source": [
        "- Each news article has been converted to a 384-dimensional vector"
      ],
      "metadata": {
        "id": "hcGWEfJnBmQ-"
      }
    },
    {
      "cell_type": "code",
      "execution_count": 17,
      "metadata": {
        "colab": {
          "base_uri": "https://localhost:8080/"
        },
        "id": "pi3-HSa7GghW",
        "outputId": "760d5dc2-70f4-4c8d-e3a8-e0250b85f53b"
      },
      "outputs": [
        {
          "output_type": "execute_result",
          "data": {
            "text/plain": [
              "array([ 1.44794332e-02, -4.38905209e-02,  4.06048298e-02,  3.38673778e-02,\n",
              "        4.66220602e-02,  5.57738356e-03, -3.69713642e-04,  1.33454958e-02,\n",
              "       -1.03029318e-01, -1.23874536e-02, -5.02620116e-02, -6.02806034e-03,\n",
              "       -8.61232579e-02, -3.95134985e-02,  5.19402064e-02,  4.02559005e-02,\n",
              "        3.58564481e-02, -4.91258539e-02, -2.51600314e-02,  1.86599698e-02,\n",
              "        4.86737899e-02,  2.63490472e-02,  2.73290165e-02,  8.51516984e-03,\n",
              "       -1.01887994e-03, -3.53113003e-02, -3.98135036e-02, -2.16447860e-02,\n",
              "        3.11892852e-03, -4.22790460e-03,  5.14480025e-02,  2.35553030e-02,\n",
              "       -2.63927341e-03, -4.60395850e-02,  9.76820216e-02, -8.32188688e-03,\n",
              "        4.85510826e-02,  2.88577983e-04, -2.75927242e-02, -6.78624734e-02,\n",
              "       -8.47699630e-05, -1.21228881e-01, -1.27628654e-01,  2.30148365e-03,\n",
              "        1.76545791e-02,  8.28286633e-02,  1.43665552e-01,  4.40125577e-02,\n",
              "       -3.96102443e-02, -3.06835584e-02,  1.02245808e-02,  9.16654095e-02,\n",
              "       -1.57279354e-02, -6.71291277e-02,  2.88570952e-02, -6.18541948e-02,\n",
              "       -1.35483092e-03,  1.86058003e-02, -2.39253733e-02, -4.46155183e-02,\n",
              "       -1.41843215e-01, -7.73505494e-03, -5.63330725e-02, -4.44903448e-02,\n",
              "        9.01333392e-02,  2.58514825e-02, -1.71456095e-02, -6.67135864e-02,\n",
              "       -5.65201454e-02,  1.69988722e-02,  4.20010369e-03, -4.15838622e-02,\n",
              "        6.17684517e-03, -8.11368749e-02, -3.13622952e-02, -2.03645825e-02,\n",
              "        1.23171695e-02,  7.73718357e-02, -1.76192708e-02,  3.78052657e-03,\n",
              "       -2.75301039e-02, -4.31831880e-03, -3.64544839e-02,  5.03689423e-03,\n",
              "       -4.92277294e-02, -1.07446581e-01,  4.30837600e-03, -1.69723574e-02,\n",
              "        1.46524161e-02,  3.19722071e-02,  3.89326736e-02,  1.63960475e-02,\n",
              "       -1.43402666e-02,  9.34190154e-02, -5.61610274e-02,  1.24992933e-02,\n",
              "        4.55066301e-02,  1.07929474e-02, -2.44015604e-02,  2.26478055e-02,\n",
              "       -2.13002972e-02,  8.39618593e-02, -3.06761879e-02,  2.74587423e-02,\n",
              "       -3.78784761e-02, -6.52883947e-02, -6.31987974e-02,  6.55301800e-03,\n",
              "        2.41935775e-02, -8.41681436e-02,  7.18985051e-02,  2.09384393e-02,\n",
              "       -6.39741346e-02, -2.13746671e-02, -1.36301061e-02, -9.33912694e-02,\n",
              "       -1.56275816e-02, -5.04019707e-02,  9.21057835e-02,  3.97910550e-02,\n",
              "        5.70098124e-02,  9.27854404e-02, -3.68377604e-02, -1.18195973e-02,\n",
              "        3.30969854e-03,  5.00257453e-03,  1.25558712e-02,  2.76461137e-33,\n",
              "        4.74378392e-02,  3.47738229e-02, -1.16578173e-02, -3.05350143e-02,\n",
              "       -7.68215433e-02,  6.32841438e-02, -1.32142054e-02,  3.37240361e-02,\n",
              "        3.26281562e-02,  8.31545219e-02,  2.48786137e-02, -6.06665425e-02,\n",
              "        2.65352186e-02,  2.28173775e-03,  7.22358609e-03, -8.02675169e-03,\n",
              "       -2.16838736e-02, -3.63995284e-02,  5.95801510e-02,  2.27546208e-02,\n",
              "        1.02657441e-03, -1.87253039e-02,  1.62990149e-02, -2.71336921e-03,\n",
              "        1.58689823e-02,  5.57673164e-02,  2.05281600e-02, -1.28758363e-02,\n",
              "        5.55064417e-02,  4.82464097e-02,  1.73049327e-02,  5.19640185e-02,\n",
              "        3.10514383e-02, -4.87197638e-02, -1.36824995e-01,  3.17483619e-02,\n",
              "       -2.14498714e-02, -4.65667881e-02, -5.45183243e-03, -7.97344651e-03,\n",
              "       -5.16889021e-02,  8.64937995e-03,  9.25089791e-02, -3.71950604e-02,\n",
              "       -8.37489963e-02, -2.66319476e-02,  1.03992157e-01, -4.68459763e-02,\n",
              "       -4.11881208e-02,  5.88751137e-02,  4.19805497e-02, -4.55617160e-02,\n",
              "       -8.00896715e-03, -1.93706458e-03, -7.17621297e-02, -5.84273376e-02,\n",
              "        2.94785555e-02, -8.27542320e-02,  2.18528081e-02, -6.17207550e-02,\n",
              "        4.32280824e-03, -7.58260489e-02,  1.10198022e-03,  7.42043555e-03,\n",
              "        1.06031485e-02,  1.25850672e-02, -7.55301025e-03, -2.82972753e-02,\n",
              "       -5.92944659e-02,  7.78173879e-02,  2.79045571e-02,  2.91203405e-03,\n",
              "        4.02711406e-02, -3.80812846e-02,  1.44247627e-02, -1.51657360e-03,\n",
              "       -1.18717120e-03,  1.55452061e-02,  6.13293201e-02,  9.84178297e-03,\n",
              "       -5.80890896e-03, -1.25939241e-02, -7.90661480e-03, -1.21872708e-01,\n",
              "        9.47904661e-02, -2.10507563e-03,  3.39542404e-02,  4.29414734e-02,\n",
              "        1.30993156e-02, -5.43967560e-02, -3.79596800e-02, -1.24070600e-01,\n",
              "        3.70346196e-02, -7.54277110e-02,  2.60142218e-02, -4.29413707e-33,\n",
              "        3.78083736e-02,  1.99689064e-02, -3.21630016e-02,  2.72025932e-02,\n",
              "       -1.75321847e-02,  3.80310118e-02,  6.07779436e-02, -7.44563490e-02,\n",
              "       -9.03893635e-03,  5.96646927e-02, -8.54461193e-02,  1.30272033e-02,\n",
              "        5.69809712e-02,  6.41120523e-02, -5.07288463e-02, -2.66249049e-02,\n",
              "       -2.29618084e-02, -4.08750251e-02,  5.47161736e-02, -5.32457232e-02,\n",
              "        1.26839336e-02,  6.95067048e-02,  4.62129265e-02,  1.59760430e-01,\n",
              "       -1.02685347e-01, -4.66472320e-02, -6.11350536e-02, -1.25792697e-02,\n",
              "        4.64012735e-02, -7.54205734e-02, -6.68186918e-02,  2.59754416e-02,\n",
              "       -1.73686538e-02, -6.43858463e-02,  2.15817019e-02, -2.64659105e-03,\n",
              "       -4.77055572e-02, -1.32246269e-02,  3.82061303e-02,  1.28422827e-01,\n",
              "        2.27453653e-02, -4.04638872e-02,  1.80804320e-02, -6.43718382e-03,\n",
              "       -1.67378178e-03, -5.57814054e-02, -3.72208469e-02,  2.33512539e-02,\n",
              "        1.03249289e-01,  7.51180053e-02,  3.99050713e-02,  9.09715295e-02,\n",
              "       -4.87238653e-02,  5.79149239e-02, -3.37019339e-02, -6.29017362e-03,\n",
              "       -1.39225069e-02, -3.88750657e-02, -2.16567554e-02,  5.38062938e-02,\n",
              "        6.84654852e-03,  3.30318101e-02,  3.14622484e-02, -2.74462048e-02,\n",
              "        4.51340079e-02,  6.83071278e-03, -1.30020846e-02, -6.08490258e-02,\n",
              "        1.58182472e-01,  3.13935466e-02, -8.03488791e-02, -1.27568334e-01,\n",
              "        9.05217379e-02, -7.70072639e-02, -2.07397789e-02,  8.27308465e-03,\n",
              "        7.04107136e-02,  2.86395680e-02,  8.29506144e-02, -3.96131538e-03,\n",
              "        4.74309437e-02, -1.80157106e-02,  7.88447168e-03, -2.25073677e-02,\n",
              "        3.49871777e-02, -9.25626978e-02,  1.16305398e-02, -5.85618149e-03,\n",
              "       -4.94818948e-03,  5.39307557e-02, -4.74935584e-02,  4.01892662e-02,\n",
              "        6.00188933e-02,  5.38944528e-02, -1.93055030e-02, -5.76438381e-08,\n",
              "       -9.35378298e-03, -1.22183468e-02, -2.09736265e-02,  5.86977229e-02,\n",
              "        2.63292715e-02,  2.39369646e-02, -1.28449285e-02,  3.97936478e-02,\n",
              "       -1.89586766e-02,  8.85139499e-03,  1.42002285e-01, -1.04715480e-02,\n",
              "       -4.50686254e-02, -5.64214885e-02, -7.30729997e-02,  5.06193638e-02,\n",
              "       -3.99939343e-02, -4.71771546e-02, -4.27300781e-02,  1.79325566e-02,\n",
              "        5.48870787e-02,  2.77482606e-02, -4.03966941e-02,  1.41045591e-02,\n",
              "        2.22470015e-02,  6.64238539e-03,  1.61606483e-02,  3.72805484e-02,\n",
              "        6.05162233e-02,  4.71508130e-02, -3.33462395e-02,  1.12325437e-02,\n",
              "        4.98038717e-02,  3.49444076e-02,  2.19013412e-02, -5.62987067e-02,\n",
              "       -8.09234846e-03,  6.28021583e-02,  3.56795415e-02,  3.87922712e-02,\n",
              "        1.61896478e-02, -1.07595526e-01, -4.20461148e-02, -8.14999267e-03,\n",
              "       -7.47626945e-02, -4.65846024e-02, -1.59725219e-01,  4.55363467e-02,\n",
              "       -2.66478658e-02, -2.06267778e-02, -1.32481509e-03,  5.07503860e-02,\n",
              "       -1.38711696e-02,  1.51793733e-01,  1.31933894e-02, -3.80077609e-03,\n",
              "       -6.27643541e-02, -1.20329736e-02, -3.95643264e-02,  1.48012899e-02,\n",
              "        3.61949694e-03, -1.06162019e-01, -7.35033825e-02,  4.17754836e-02],\n",
              "      dtype=float32)"
            ]
          },
          "metadata": {},
          "execution_count": 17
        }
      ],
      "source": [
        "# printing the embedding vector of the first review in the dataset\n",
        "embedding_matrix[0]"
      ]
    },
    {
      "cell_type": "markdown",
      "source": [
        "**Note**: We have not trained or fine-tuned the model. We have used the pre-trained model to encode the dataset."
      ],
      "metadata": {
        "id": "LH3_pyqajPtN"
      }
    },
    {
      "cell_type": "markdown",
      "source": [
        "## **Semantic Search**"
      ],
      "metadata": {
        "id": "-WmQe5LKivez"
      }
    },
    {
      "cell_type": "code",
      "execution_count": 18,
      "metadata": {
        "id": "JvoEaOWRKkqu"
      },
      "outputs": [],
      "source": [
        "# defining a function to compute the cosine similarity between two embedding vectors\n",
        "def cosine_score(text):\n",
        "    # encoding the text\n",
        "    embeddings = model.encode(text)\n",
        "\n",
        "    # calculating the L2 norm of the embedding vector\n",
        "    norm1 = np.linalg.norm(embeddings[0])\n",
        "    norm2 = np.linalg.norm(embeddings[1])\n",
        "\n",
        "    # computing the cosine similarity\n",
        "    cosine_similarity_score = ((np.dot(embeddings[0],embeddings[1]))/(norm1*norm2))\n",
        "\n",
        "    return cosine_similarity_score"
      ]
    },
    {
      "cell_type": "markdown",
      "metadata": {
        "id": "lxiB0ewYNVS8"
      },
      "source": [
        "**Now, let's search for similar reviews in our dataset.**"
      ]
    },
    {
      "cell_type": "code",
      "execution_count": 19,
      "metadata": {
        "id": "bSjjKSc-OFvj"
      },
      "outputs": [],
      "source": [
        "# defining a function to find the top k similar sentences for a given query\n",
        "def top_k_similar_sentences(embedding_matrix, query_text, k):\n",
        "    # encoding the query text\n",
        "    query_embedding = model.encode(query_text)\n",
        "\n",
        "    # calculating the cosine similarity between the query vector and all other encoded vectors of our dataset\n",
        "    score_vector = np.dot(embedding_matrix,query_embedding)\n",
        "\n",
        "    # sorting the scores in descending order and choosing the first k\n",
        "    top_k_indices = np.argsort(score_vector)[::-1][:k]\n",
        "\n",
        "    # returning the corresponding reviews\n",
        "    return data.loc[list(top_k_indices), 'Text']"
      ]
    },
    {
      "cell_type": "code",
      "source": [
        "# defining the query text\n",
        "query_text = \"Budget for elections\"\n",
        "\n",
        "# displaying the top 5 similar sentences\n",
        "top_k_reviews = top_k_similar_sentences(embedding_matrix, query_text, 5)\n",
        "\n",
        "for i in top_k_reviews:\n",
        "    print(i, end=\"\\n\\n\")"
      ],
      "metadata": {
        "colab": {
          "base_uri": "https://localhost:8080/"
        },
        "id": "XsrLRlSVjbuT",
        "outputId": "37c03623-7dbe-4a8e-c6e0-4e74b3af0b77"
      },
      "execution_count": 20,
      "outputs": [
        {
          "output_type": "stream",
          "name": "stdout",
          "text": [
            "'Debate needed' on donations cap\n",
            " \n",
            " A cap on donations to political parties should not be introduced yet, the elections watchdog has said.\n",
            " \n",
            " Fears that big donors can buy political favours have sparked calls for a limit. In a new report, the Electoral Commission says it is worth debating a Â£10,000 cap for the future but now is not the right time to introduce it. It also says there should be more state funding for political parties and candidates should be able to spend more on election campaigning.\n",
            " \n",
            " There were almost Â£68m in reported donations to political parties in 2001, 2002 and 2003, with nearly Â£12m of them from individual gifts worth more than Â£1m. The rules have already been changed so the public can see who gives how much to the parties but the report says there are still public suspicions. The commission says capping donations would mean taxpayers giving parties more cash - something which would first have to be acceptable to the public and shown to work. \"While we are not in principle opposed to the introduction of a donation cap, we do not believe that such a major departure from the existing system now would be sensible,\" says its report. If there was to be a cap, it should be Â£10,000 - a small enough amount to make a difference but which would have banned Â£56m in donations between 2001 and 2003.\n",
            " \n",
            " Even without changes the commission does urge political parties to seek out more small-scale donations and suggests there should be income tax relief for gifts under Â£200. It also suggests increasing state funding for parties to Â£3m so help can be extended to all parties with at least two members in the House of Commons, European Parliament, Scottish Parliament, Welsh Assembly or Northern Ireland Assembly. And it suggests new ways of boosting election campaigning, seen as a way of improving voter turnout. All local election candidates should be entitled to a free mailshot for campaign leaflets, says the watchdog. And there should be a shift in the amount of money allowed to be spent at elections from a national level to a local level to help politicians engage better with voters.\n",
            " \n",
            " The report suggests doubling the money which can be spent by candidates, while cutting national spending limits from Â£20m to Â£15m. The commission also says the spending limits for general elections should cover the four months before the poll - as happens with other elections. Electoral Commission chairman Sam Younger said: \"There is no doubt that political parties have a vital role to play in maintaining the health of our democracy and for this they need to be adequately resourced. \"Our research has shown that people want to be more informed about party politics and that they want politicians to be more visible and accessible. \"The public are reluctant for the state to fund parties but at the same time are unhappy with large private donations.\" He called for a wider public debate on party funding to find the consensus needed for radical changes to the current system.\n",
            "\n",
            "\n",
            "Bush budget seeks deep cutbacks\n",
            " \n",
            " President Bush has presented his 2006 budget, cutting domestic spending in a bid to lower a record deficit projected to peak at $427bn (Â£230bn) this year.\n",
            " \n",
            " The $2.58 trillion (Â£1.38 trillion) budget submitted to Congress affects 150 domestic programmes from farming to the environment, education and health. But foreign aid is due to rise by 10%, with more money to treat HIV/Aids and reward economic and political reform. Military spending is also set to rise by 4.8%, to reach $419.3bn. The budget does not include the cost of running military operations in Iraq and Afghanistan, for which the administration is expected to seek an extra $80bn from Congress later this year.\n",
            " \n",
            " Congress will spend several months debating George W Bush's proposal.\n",
            " \n",
            " The state department's planned budget would rise to just under $23bn - a fraction of the defence department's request - including almost $6bn to assist US allies in the \"war on terror\". However, the administration is keen to highlight its global effort to tackle HIV/Aids, the BBC's Jonathan Beale reports, and planned spending would almost double to $3bn, with much of that money going to African nations. Mr Bush also wants to increase the amount given to poorer countries through his Millennium Challenge Corporation. The scheme has been set up to reward developing countries that embrace what the US considers to be good governance and sound policies. Yet Mr Bush's proposed spending of $3bn on that project is well below his initial promise of $5bn.\n",
            " \n",
            " A key spending line missing from proposals is the cost of funding the administration's proposed radical overhaul of Social Security, the pensions programme on which many Americans rely for their retirement income.\n",
            " \n",
            " Some experts believe this could require borrowing of up to $4.5 trillion over a 20-year period. Neither does the budget include any cash to purchase crude oil for the US emergency petroleum stockpile. Concern over the level of the reserve, created in 1970s, has led to rises in oil prices over the past year. The Bush administration will instead continue to fill the reserve by taking oil - rather than cash - from energy companies that drill under federal leases.\n",
            " \n",
            " The outline proposes reductions in budgets at 12 out of 23 government agencies including cuts of 9.6% at Agriculture and 5.6% at the Environmental Protection Agency. The spending plan for the year beginning 1 October is banking on a healthy US economy to boost government income by 6.1% to $2.18 trillion. Spending is forecast to grow by 3.5% to $2.57 trillion. But the budget is still the tightest yet under Mr Bush's presidency. \"In order to sustain our economic expansion, we must continue pro-growth policies and enforce even greater spending restraint across federal government,\" Mr Bush said in his budget message to Congress. Mr Bush has promised to halve the US's massive budget deficit within five years. The deficit, partly the result of massive tax cuts early in Mr Bush's presidency, has been a key factor in pushing the US dollar lower. The independent Congressional Budget Office estimates that the shortfall could shrink to little more than $200bn by 2009, returning to the surpluses seen in the late 1990s by 2012. But its estimates depend on the tax cuts not being made permanent, in line with the promise when they were passed that they would \"sunset\", or disappear, in 2010. Most Republicans, however, want them to stay in place. And the figures also rely on the \"Social Security trust fund\" - the money set aside to cover the swelling costs of retirement pensions - being offset against the main budget deficit.\n",
            "\n",
            "\n",
            "Will the Budget bring out smiling voters?\n",
            " \n",
            " As Tory spokesman Oliver Letwin said - any chancellor would use his pre-election budget to offer some vote winning sweeteners, wouldn't he.\n",
            " \n",
            " And everyone does, indeed, expect Gordon Brown to do just that in his last budget before the expected polling day of 5 May. There will be plenty of talk about taking no risks with the economy or handing out irresponsible giveaways. But Mr Brown will stun Westminster and break just about every historical precedent if he fails to do something designed to put a smile on voters' faces and make them more inclined to back Labour in the election. And there has already been speculation about possible tax reductions for the poorest and increasing the threshold on stamp duty in this week's Budget. The aim of his package will be to keep any disillusioned core Labour voters in the fold, while ensuring the middle England voters who gave Tony Blair two election victories don't desert him at the third poll.\n",
            " \n",
            " And, needless to say, there will be plenty of analysis of what impact the Budget will have on Mr Brown's own ambitions to replace Mr Blair as prime minister at some point after a third win. But there is a shadow hanging over this pre-election performance - in the shape of Â£11 billion or thereabouts. That is the size of the financial \"black hole\" the Tories, backed by some independent forecasters, believe Mr Brown will have to fill with tax increases after the election.\n",
            " \n",
            " The opening shot in that battle was fired at the weekend with claims a Treasury leak suggested Mr Brown was ready to slap capital gains tax on home sales to raise some of that cash. It was immediately denied, but the Tories remain suspicious, claiming that, as Mr Letwin said, if the money does not come from there, where will it come from.\n",
            " \n",
            " Mr Brown will undoubtedly claim the forecasts are simply wrong and that he will have absolutely no need to raise taxes after the election, should Labour win. Previous gloomy forecasts proved wrong, he will argue, while suggesting that only by sticking with him can Britain continue to have a sound economy, low unemployment and high public spending. The opposition will reject that by claiming they can keep the economy sound, increase spending and cut taxes at the same time.\n",
            " \n",
            " The Liberal Democrats will also promise to run a sound economy, but based on increased taxes to fund spending and, amongst other things, abolishing the council tax in favour of a local income tax. And there will be prolonged argument over which of the parties can make the greatest savings in Whitehall and beyond to fund their policies. But probably what that all boils down to is a simple question of which of the parties the voters most trust to keep the economy stable and avoid any unpleasant surprises in the coming years. And it is probably still the answer to that one question that will overwhelmingly decide the outcome of the general election.\n",
            "\n",
            "\n",
            "Brown names 16 March for Budget\n",
            " \n",
            " Chancellor Gordon Brown will deliver his Budget to the House of Commons on 16 March, the Treasury has announced.\n",
            " \n",
            " The Budget, likely to be the last before the General Election, will be at about 1230 GMT on that Wednesday, just after Prime Minister's question time. The annual event is when the chancellor outlines the government's taxation and broader economic predictions. The Tories say it is likely the Budget will contain measures to attract votes. The election is expected on 5 May.\n",
            " \n",
            " Next month's Budget will be Mr Brown's ninth since Labour came to power in 1997. If a May election is called, there could be as little as 18 days between the Budget and the announcement of a date for the election. A shortened Finance Bill would have to be rushed through Parliament with all-party support to allow the Government to continue collecting revenue.\n",
            " \n",
            " The full Finance Bill, with the Budget measures in it, would then be returned to the Commons after the election, if Labour secures another term in office. Tory shadow chancellor Oliver Letwin said: \"We can be sure of two things: the Budget will contain measures to attract votes, and it will not contain the Â£8 billion of tax rises which independent experts say are inevitable if Labour wins the election.\" As Mr Brown announced the Budget date in a short ministerial statement, accountancy firm Ernst & Young urged him to put politics aside and focus on the long-term requirements of the economy. \"In the Budgets that were given immediately before the last six elections, taxes were cut by the incumbent chancellor and, in many cases, taxes were increased soon after the election result,\" said Aidan O'Carroll, E&Y's UK head of tax.\n",
            "\n",
            "\n",
            "'EU referendum could cost Â£80m'\n",
            " \n",
            " It could cost Â£80m to run a UK referendum on the European constitution, ministers have revealed.\n",
            " \n",
            " In a written parliamentary answer, Constitutional Affairs Minister Chris Leslie said the poll was likely to cost the same as a general election. Mr Leslie said the cost could not be compared with the only previous British referendum, held 30 years ago. Ministers say the constitution would make the European Union work better but critics fear creating a \"super state\". Labour MP John Cryer, whose question revealed the price estimate, said the cost surprised him but was not a central factor as it was important people had their say. But he said it would have been better to have rejected the constitution so avoiding the need for a referendum. The 2001 election cost Â£80m. No date for the vote has been set but Foreign Secretary Jack Straw has suggested it is unlikely to be held until early 2006 - after the predicted date for the next election. Most voters said the UK should stay in the Common Market in the 1975 referendum.\n",
            "\n",
            "\n"
          ]
        }
      ]
    },
    {
      "cell_type": "code",
      "source": [
        "# defining the query text\n",
        "query_text = \"High imports and exports\"\n",
        "\n",
        "# displaying the top 5 similar sentences\n",
        "top_k_reviews = top_k_similar_sentences(embedding_matrix, query_text, 5)\n",
        "\n",
        "for i in top_k_reviews:\n",
        "    print(i, end=\"\\n\\n\")"
      ],
      "metadata": {
        "colab": {
          "base_uri": "https://localhost:8080/"
        },
        "id": "L4coZrXxmL9p",
        "outputId": "a599d075-8845-4dd4-f4b1-a28a3329e24c"
      },
      "execution_count": 21,
      "outputs": [
        {
          "output_type": "stream",
          "name": "stdout",
          "text": [
            "US trade gap ballooned in October\n",
            " \n",
            " The US trade deficit widened by more than expected in October, hitting record levels after higher oil prices raised import costs, figures have shown\n",
            " \n",
            " The trade shortfall was $55.5bn (Â£29bn), up 9% from September, the Commerce Department said. That pushed the 10 month deficit to $500.5bn. Imports rose by 3.4%, while exports increased by only 0.6%. A weaker dollar also increased the cost of imports, though this should help drive export demand in coming months. \"Things are getting worse, but that's to be expected,\" said David Wyss of Standard & Poor's in New York. \"The first thing is that when the dollar goes down, it increases the price of imports. \"We are seeing improved export orders. Things seem to be going in the right direction.\"\n",
            " \n",
            " Despite this optimism, significant concerns remain as to how the US will fund its trade and budget deficits should they continue to widen. Another problem highlighted by analysts was the growing trade gap with China, which has been accused of keeping its currency artificially weak in order to boost exports. The US imported almost $20bn worth of goods from China during October, exporting a little under $3bn. \"It seems the key worry that has existed in the currency market still remains,\" said Anthony Crescenzi, a bond strategist at Miller Tabak in New York. The trade deficit and the shortfall with China \"are big issues going forward\". The Commerce Department figures caused the dollar to weaken further despite widespread expectations that the Federal Reserve will raise interest rates for a fifth time this year. Borrowing costs are tipped to rise by a quarter of a percentage point to 2.25% at a Fed meeting later on Tuesday.\n",
            "\n",
            "\n",
            "Trade gap narrows as exports rise\n",
            " \n",
            " The UK's trade gap narrowed in November, helped by a 7.5% rise in exports outside the European Union.\n",
            " \n",
            " According to the Office for National Statistics, the difference between what the UK exported and imported was Â£3.1bn ($5.8bn), down from October's Â£3.6bn. Overall UK exports - including both goods and services - rose by more than 3.2% to Â£24.8bn, although total imports rose again to a new record of Â£27.9bn. The deficit for goods alone was Â£4.6bn, down from October's Â£5bn. During November the UK exported Â£16.9bn worth of goods, but imported Â£21.5bn. The cumulative deficit for the first eleven months of 2004 now stands at Â£36.3bn, Â£4.5bn higher than the same period in 2003.\n",
            " \n",
            " November saw an improvement in export levels to both the European Union and the rest of the world, the Office for National Statistics (ONS) said. EU exports rose 2%, fuelled by an increase in sales of chemicals. Non-EU exports shot up 7.5%, with growth seen across a range of manufacturing sectors including cars, consumer durables and chemicals. The export boost offset a 1% rise in imports. Non-EU imports rose 3%, but the growth in goods entering the UK from the EU slowed to 0.5%.\n",
            " \n",
            " The UK's deficit with the EU fell to Â£1.9bn from Â£2.1bn, while its non-EU shortfall dropped to Â£2.7bn from Â£2.9bn in October.\n",
            " \n",
            " The country's surplus on trade-in-services remained steady at Â£1.5bn for the fifth month in a row. Paul Dales, UK economist for Capital Economics, said the figures represented an improvement on recent months. However, he stressed that the long-term prognosis for exports was still uncertain. \"The figures are a lot better than expected but the trend still remains poor,\" he said. \"There have been some very encouraging signs that the UK export recovery is starting to take hold. But there is a danger that this could be held back by the ongoing weakness of domestic demand on the continent.\"\n",
            "\n",
            "\n",
            "US trade gap hits record in 2004\n",
            " \n",
            " The gap between US exports and imports hit an all-time high of $671.7bn (Â£484bn) in 2004, latest figures show.\n",
            " \n",
            " The Commerce Department said the trade deficit for all of last year was 24.4% above the previous record - 2003's imbalance of $496.5bn. The deficit with China, up 30.5% at $162bn, was the largest ever recorded with a single country. However, on a monthly basis the US trade gap narrowed by 4.9% in December to Â£56.4bn. The US consumer's appetite for all things from oil to imported cars, and even wine and cheese, reached record levels last year and the figures are likely to spark fresh criticism of President Bush's economic policies.\n",
            " \n",
            " Democrats claim the administration has not done enough to clamp down on unfair foreign trade practices. For example, they believe China's currency policy - which US manufacturers claim has undervalued the yuan by as much as 40% - has given China's rapidly expanding economy an unfair advantage against US competitors.\n",
            " \n",
            " Meanwhile, the Bush administration argues that the US deficit reflects the fact the America is growing at faster rate than the rest of the world, spurring on more demand for imported goods. Some economists say this may allow an upward revision of US economic growth in the fourth quarter. But others point out that the deficit has reached such astronomical proportions that foreigners many choose not to hold as many dollar-denominated assets, which may in turn harm growth. For all of 2004, US exports rose 12.3% to $1.15 trillion, but imports rose even faster by 16.3% to a new record of $1.76 trillion. Foreign oil exports surged by 35.7% to a record $180.7bn, reflecting the rally in global oil prices and increasing domestic demand. Imports were not affected by the dollar's weakness last year. \"We expect the deficit to continue to widen in 2005 even if the dollar gets back to its downward trend,\" said economist Marie-Pierre Ripert at IXIS.\n",
            "\n",
            "\n",
            "FAO warns on impact of subsidies\n",
            " \n",
            " Billions of farmers' livelihoods are at risk from falling commodity prices and protectionism, the UN's Food & Agriculture Organisation has warned.\n",
            " \n",
            " Trade barriers and subsidies \"severely\" distort the market, the FAO report on the \"State of Agricultural Commodity Markets 2004\" said. As a result, the 2.5 billion people in the developing world who rely on farming face food insecurity. The most endangered are those who live in the least-developed countries. The FAO report said that support for farmers in industrialised nations was equivalent to 30 times the amount provided as aid for agricultural development in poor countries.\n",
            " \n",
            " The FAO has urged the World Trade Organisation to swiftly conclude negotiations to liberalise trade, easing developing countries' access to the world market. It also criticised the high tariffs imposed by both developed and developing nations. It recommends that developing countries reduce their own tariffs to encourage trade and take advantage of market liberalisation.\n",
            " \n",
            " According to the organisation, subsidies and high tariffs have a strong impact on the trade of products such as cotton and rice. Global exports of these products are mainly in the hands of the European Union and the US, who - thanks to subsidies - sell them at very low prices. In fact, almost 30 wealthy nations spend more than $300bn (Â£158.8bn; 230.9bn euros) in agricultural subsidies. The market situation has divided developing nations in two groups, the FAO said. The first group have a reasonably diverse range of agricultural products while in the second group, agriculture lies largely in the hands of small-scale producers. For 43 developing countries, more than 20% of their export incomes come from the sale of just one product. These countries are mainly situated in Sub-Saharan Africa, Latin America and the Caribbean.\n",
            "\n",
            "\n",
            "Chinese exports rise 25% in 2004\n",
            " \n",
            " Exports from China leapt during 2004 over the previous year as the country continued to show breakneck growth.\n",
            " \n",
            " The spurt put China's trade surplus - a sore point with some of its trading partners - at a six-year high. It may also increase pressure on China to relax the peg joining its currency, the yuan, with the weakening dollar. The figures released by the Ministry of Commerce come as China's tax chief confirmed that growth had topped 9% in 2004 for the second year in a row. State Administration of Taxation head Xie Xuren said a tightening of controls on tax evasion had combined with the rapid expansion to produce a 25.7% rise in tax revenues to 2.572 trillion yuan ($311bn; Â£165bn).\n",
            " \n",
            " According to the Ministry of Commerce, China's exports totalled $63.8bn in December, taking the annual total up 35.4% to $593.4bn. With imports rising a similar amount, the deficit rose to $43.4bn. The increased tax take comes despite healthy tax rebates for many exporters totalling 420bn yuan in 2004, according to Mr Xie. China's exporting success has made the trade deficit of the United States soar even further and made trade with China a sensitive political issue in Washington. The peg keeping the yuan around 8.30 to the dollar is often blamed by US lawmakers for job losses at home. A US report issued on Tuesday on behalf of a Congressionally-mandated panel said almost 1.5 million posts disappeared between 1989 and 2003. The pace accelerated in the final three years of the period, said the report for the US-China Economic and Security Review Commission, moving out of labour-intensive industries and into more hi-tech sectors. The US's overall trade deficit with China was $124bn in 2003, and is expected to rise to about $150bn for 2004.\n",
            "\n",
            "\n"
          ]
        }
      ]
    },
    {
      "cell_type": "markdown",
      "source": [
        "## **Categorization**"
      ],
      "metadata": {
        "id": "7Dda9VmGGDXR"
      }
    },
    {
      "cell_type": "markdown",
      "source": [
        "**We'll use K-Means Clustering to categorize the data.**"
      ],
      "metadata": {
        "id": "iMXq_FK2mp2U"
      }
    },
    {
      "cell_type": "code",
      "source": [
        "meanDistortions = []\n",
        "clusters = range(2, 11)\n",
        "\n",
        "for k in clusters:\n",
        "    clusterer = KMeans(n_clusters=k, random_state=1)\n",
        "    clusterer.fit(embedding_matrix)\n",
        "\n",
        "    prediction = clusterer.predict(embedding_matrix)\n",
        "\n",
        "    distortion = sum(\n",
        "        np.min(cdist(embedding_matrix, clusterer.cluster_centers_, \"euclidean\"), axis=1) ** 2\n",
        "    )\n",
        "    meanDistortions.append(distortion)\n",
        "\n",
        "    print(\"Number of Clusters:\", k, \"\\tAverage Distortion:\", distortion)"
      ],
      "metadata": {
        "colab": {
          "base_uri": "https://localhost:8080/"
        },
        "id": "HWusI5e1B4dn",
        "outputId": "284d7454-e648-4699-d434-1a3704860833"
      },
      "execution_count": 22,
      "outputs": [
        {
          "output_type": "stream",
          "name": "stdout",
          "text": [
            "Number of Clusters: 2 \tAverage Distortion: 1795.3091547656288\n",
            "Number of Clusters: 3 \tAverage Distortion: 1737.2980512996512\n",
            "Number of Clusters: 4 \tAverage Distortion: 1666.6703324854416\n",
            "Number of Clusters: 5 \tAverage Distortion: 1621.4824265261927\n",
            "Number of Clusters: 6 \tAverage Distortion: 1591.5027838340886\n",
            "Number of Clusters: 7 \tAverage Distortion: 1577.1054570447486\n",
            "Number of Clusters: 8 \tAverage Distortion: 1571.6844119258612\n",
            "Number of Clusters: 9 \tAverage Distortion: 1559.9433585891018\n",
            "Number of Clusters: 10 \tAverage Distortion: 1534.3992694291262\n"
          ]
        }
      ]
    },
    {
      "cell_type": "code",
      "source": [
        "plt.plot(clusters, meanDistortions, \"bx-\")\n",
        "plt.xlabel(\"k\")\n",
        "plt.ylabel(\"Average Distortion\")\n",
        "plt.title(\"Selecting k with the Elbow Method\", fontsize=20)\n",
        "plt.show()"
      ],
      "metadata": {
        "colab": {
          "base_uri": "https://localhost:8080/",
          "height": 480
        },
        "id": "--y7gXzWCPt-",
        "outputId": "938f26fc-82f7-41df-e4fd-678d6c99b22b"
      },
      "execution_count": 23,
      "outputs": [
        {
          "output_type": "display_data",
          "data": {
            "text/plain": [
              "<Figure size 640x480 with 1 Axes>"
            ],
            "image/png": "[encoded data removed]"
          },
          "metadata": {}
        }
      ]
    },
    {
      "cell_type": "markdown",
      "source": [
        "- The appropriate value of k from the Elbow curve seems to 5."
      ],
      "metadata": {
        "id": "h6yvWk6fDIY2"
      }
    },
    {
      "cell_type": "markdown",
      "source": [
        "**Let's check the silhouette scores.**"
      ],
      "metadata": {
        "id": "ysM1Pl1cCWYI"
      }
    },
    {
      "cell_type": "code",
      "source": [
        "sil_score = []\n",
        "cluster_list = range(2, 10)\n",
        "\n",
        "for n_clusters in cluster_list:\n",
        "    clusterer = KMeans(n_clusters=n_clusters, random_state=1)\n",
        "\n",
        "    preds = clusterer.fit_predict((embedding_matrix))\n",
        "\n",
        "    score = silhouette_score(embedding_matrix, preds)\n",
        "    sil_score.append(score)\n",
        "\n",
        "    print(\"For n_clusters = {}, the silhouette score is {})\".format(n_clusters, score))"
      ],
      "metadata": {
        "colab": {
          "base_uri": "https://localhost:8080/"
        },
        "id": "J-895NpSCXXE",
        "outputId": "51b343ab-b13b-467e-99da-6ef8280e2a2c"
      },
      "execution_count": 24,
      "outputs": [
        {
          "output_type": "stream",
          "name": "stdout",
          "text": [
            "For n_clusters = 2, the silhouette score is 0.04681149870157242)\n",
            "For n_clusters = 3, the silhouette score is 0.04964282363653183)\n",
            "For n_clusters = 4, the silhouette score is 0.060650650411844254)\n",
            "For n_clusters = 5, the silhouette score is 0.06735046207904816)\n",
            "For n_clusters = 6, the silhouette score is 0.06096599996089935)\n",
            "For n_clusters = 7, the silhouette score is 0.05802199989557266)\n",
            "For n_clusters = 8, the silhouette score is 0.053445685654878616)\n",
            "For n_clusters = 9, the silhouette score is 0.05067499727010727)\n"
          ]
        }
      ]
    },
    {
      "cell_type": "code",
      "source": [
        "plt.plot(cluster_list, sil_score, \"bx-\")\n",
        "plt.show()"
      ],
      "metadata": {
        "colab": {
          "base_uri": "https://localhost:8080/",
          "height": 430
        },
        "id": "XIzCjafZCfOd",
        "outputId": "d88bc6c3-e309-4cc0-f6b4-4c449d753710"
      },
      "execution_count": 25,
      "outputs": [
        {
          "output_type": "display_data",
          "data": {
            "text/plain": [
              "<Figure size 640x480 with 1 Axes>"
            ],
            "image/png": "[encoded data removed]"
          },
          "metadata": {}
        }
      ]
    },
    {
      "cell_type": "markdown",
      "source": [
        "- The silhouette coefficient for 5 clusters is the highest.\n",
        "- So, we will proceed with 5 clusters."
      ],
      "metadata": {
        "id": "P5gFa2nHDHKx"
      }
    },
    {
      "cell_type": "code",
      "execution_count": 26,
      "metadata": {
        "id": "BOJI7_6FmFNb"
      },
      "outputs": [],
      "source": [
        "# defining the number of clusters/categories\n",
        "n_categories = 5\n",
        "\n",
        "# fitting the model\n",
        "kmeans = KMeans(n_clusters=n_categories, random_state=1).fit(embedding_matrix)"
      ]
    },
    {
      "cell_type": "code",
      "execution_count": 27,
      "metadata": {
        "colab": {
          "base_uri": "https://localhost:8080/"
        },
        "id": "n6N-d-pImTPP",
        "outputId": "31b1f41a-2645-44e2-a1fb-c85a47b0899a"
      },
      "outputs": [
        {
          "output_type": "execute_result",
          "data": {
            "text/plain": [
              "array([[-0.01785408,  0.00624578, -0.00339485, ..., -0.06009006,\n",
              "        -0.03252156,  0.01114385],\n",
              "       [ 0.00549149, -0.02162502,  0.01707269, ..., -0.03975476,\n",
              "        -0.01703277,  0.01147504],\n",
              "       [-0.01044314, -0.04308654, -0.0162626 , ..., -0.06730249,\n",
              "        -0.00805317,  0.00465476],\n",
              "       [-0.01394477, -0.03756044,  0.00739344, ..., -0.10312268,\n",
              "        -0.01400102,  0.03134283],\n",
              "       [-0.02824865, -0.03118994,  0.00693419, ..., -0.05258857,\n",
              "         0.00538872,  0.03337952]], dtype=float32)"
            ]
          },
          "metadata": {},
          "execution_count": 27
        }
      ],
      "source": [
        "# checking the cluster centers\n",
        "centers = kmeans.cluster_centers_\n",
        "centers"
      ]
    },
    {
      "cell_type": "code",
      "source": [
        "# creating a copy of the data\n",
        "clustered_data = data.copy()\n",
        "\n",
        "# assigning the cluster/category labels\n",
        "clustered_data['Category'] = kmeans.labels_\n",
        "\n",
        "clustered_data.head()"
      ],
      "metadata": {
        "colab": {
          "base_uri": "https://localhost:8080/",
          "height": 1000
        },
        "id": "-kntIukTnqSE",
        "outputId": "88dfb4ff-2bbc-49a7-e144-45a7f4ef2a39"
      },
      "execution_count": 28,
      "outputs": [
        {
          "output_type": "execute_result",
          "data": {
            "text/plain": [
              "                                                                                                                                                                                                                                                                                                                                                                                                                                                                                                                                                                                                                                                                                                                                                                                                                                                                                                                                                                                                                                                                                                                                                                                                                                                                                                                                                                                                                                                                                                                                                                                                                                                                                                                                                                                                                                                                                                                                                                                                                                                                                                                                                                                                                                                                                                                                                                                                                                                                                                                                                                                                                                                                                                                                                                                                                                                                                                                                                                                                                                                                                                                                                                                                                                                                                                             Text  \\\n",
              "0                     Budget to set scene for election\\n \\n Gordon Brown will seek to put the economy at the centre of Labour's bid for a third term in power when he delivers his ninth Budget at 1230 GMT. He is expected to stress the importance of continued economic stability, with low unemployment and interest rates. The chancellor is expected to freeze petrol duty and raise the stamp duty threshold from Â£60,000. But the Conservatives and Lib Dems insist voters face higher taxes and more means-testing under Labour.\\n \\n Treasury officials have said there will not be a pre-election giveaway, but Mr Brown is thought to have about Â£2bn to spare.\\n \\n - Increase in the stamp duty threshold from Â£60,000 \\n  - A freeze on petrol duty \\n  - An extension of tax credit scheme for poorer families \\n  - Possible help for pensioners The stamp duty threshold rise is intended to help first time buyers - a likely theme of all three of the main parties' general election manifestos. Ten years ago, buyers had a much greater chance of avoiding stamp duty, with close to half a million properties, in England and Wales alone, selling for less than Â£60,000. Since then, average UK property prices have more than doubled while the starting threshold for stamp duty has not increased. Tax credits As a result, the number of properties incurring stamp duty has rocketed as has the government's tax take. The Liberal Democrats unveiled their own proposals to raise the stamp duty threshold to Â£150,000 in February.\\n \\n The Tories are also thought likely to propose increased thresholds, with shadow chancellor Oliver Letwin branding stamp duty a \"classic Labour stealth tax\". The Tories say whatever the chancellor gives away will be clawed back in higher taxes if Labour is returned to power. Shadow Treasury chief secretary George Osborne said: \"Everyone who looks at the British economy at the moment says there has been a sharp deterioration in the public finances, that there is a black hole,\" he said. \"If Labour is elected there will be a very substantial tax increase in the Budget after the election, of the order of around Â£10bn.\"\\n \\n But Mr Brown's former advisor Ed Balls, now a parliamentary hopeful, said an examination of Tory plans for the economy showed there would be a Â£35bn difference in investment by the end of the next parliament between the two main parties. He added: \"I don't accept there is any need for any changes to the plans we have set out to meet our spending commitments.\"\\n \\n For the Lib Dems David Laws said: \"The chancellor will no doubt tell us today how wonderfully the economy is doing,\" he said. \"But a lot of that is built on an increase in personal and consumer debt over the last few years - that makes the economy quite vulnerable potentially if interest rates ever do have to go up in a significant way.\" SNP leader Alex Salmond said his party would introduce a Â£2,000 grant for first time buyers, reduce corporation tax and introduce a citizens pension free from means testing. Plaid Cymru's economics spokesman Adam Price said he wanted help to get people on the housing ladder and an increase in the minimum wage to Â£5.60 an hour.\\n   \n",
              "1                                                                                                                                                     Army chiefs in regiments decision\\n \\n Military chiefs are expected to meet to make a final decision on the future of Scotland's Army regiments.\\n \\n A committee of the Army Board, which is made up of the most senior defence figures, will discuss plans for restructuring regiments on Monday. The proposals include cutting Scotland's six single-battalion regiments to five and merging these into a super regiment. The plans have faced stiff opposition from campaigners and politicians alike. The committee's decision must be ratified by Defence Secretary Geoff Hoon and Prime Minister Tony Blair. It is expected that it will be made public next week. When ministers announced a reorganisation of the Army it drew a question mark over the futures of the Black Watch, the Kings Own Scottish Borderers, the Royal Scots, the Royal Highland Fusiliers and the Argyll and Sutherland Highlanders. In October, the Council of Scottish Colonels proposed the merger of the Royal Scots and the King's Own Scottish Borderers into a single battalion.\\n \\n Under their vision, it would be one of five in the new super regiment. The proposals to either merge or amalgamate the six regiments into a super regiment sparked a political outcry, with Labour backbenchers and opposition politicians opposing the plan. They felt the timing was insensitive because the Black Watch was in the frontline in Iraq, suffering casualties. The Save the Scottish Regiments campaigners were so angered they threatened to stand against Labour at the next general election.\\n \\n Speaking ahead of the expected Army Board meeting, a spokesman said: \"The government and the Army Board have spent the past four months attempting to trick serving soldiers and the public into thinking their planned changes for the Scottish regiments are for the good of the Army and for that of the serving soldier. \"They are very much not for the good and will destroy Scotland's regiments by moulding them into a single super regiment which will lead to severe recruitment problems, a loss of local connections to those regiments and a loss to Scotland of an important part of her heritage and, most importantly, her future - the regiments are the envy of armies around the world.\" An alternative blueprint had been put forward by Labour MP Eric Joyce, who proposed going ahead with the merger while preserving the other regiments. For a brief time, there was speculation the prime minister might consider the plan, but that now seems unlikely. Speaking in Scotland last week, Mr Blair said the aim was to preserve tradition but introduce a more effective structure and hinted that a super regiment was likely. He said: \"They don't want to get rid of the history or the traditions of the regiment or the local connections - far from it, all they want to do is make sure they can transfer people easily across regiments and deploy them more flexibly.\" The prime minister said he hoped campaigners' concerns would be taken into account but the need for effective change had to be paramount.\\n   \n",
              "2  Howard denies split over ID cards\\n \\n Michael Howard has denied his shadow cabinet was split over its decision to back controversial Labour plans to introduce ID cards.\\n \\n The Tory leader said his front bench team had reached a \"collective view\" after holding a \"good discussion\", but admitted it was \"not an easy issue\". He had decided to support the plans as the police said they would help fight terror, crime and illegal immigration. The Lib Dems have pledged to oppose the bill when it is debated next Monday.\\n \\n Tory sources say senior party figures had argued vociferously against the ID card scheme. Among those reported to have serious reservations over the strategy were senior shadow cabinet members David Davis, Oliver Letwin and Tim Yeo. But Mr Howard denied Mr Yeo, his transport and environment spokesman, said the plans \"stink\". He also said he was confident shadow home secretary Mr Davis would \"set out the position very clearly\" when he stands up to debate the matter next week. Mr Howard said the police had said ID cards could \"help them foil a terror bomb plot in which people could lose their lives\". He added: \"When the police say that you have to take them seriously\".\\n \\n He acknowledged there were \"good libertarian arguments\" against the cards, but said the shadow Cabinet had weighed up all the \"conflicting interests\" before reaching its decision. \"I don't pretend that it is an easy decision but at the end of the day a decision has to be taken.\" He also denied he was afraid of looking \"soft\" on the issue, compared to Labour. The Conservatives announced their support for the government plans on Monday evening.\\n \\n Sources within the party told the BBC Mr Howard had always been in favour of ID cards, and tried to introduce them when he was Home Secretary. But the Tories insisted they would hold ministers to account over the precise purpose of the scheme.\\n \\n They said they would also press Labour over whether objectives could be met and whether the Home Office would be able to deliver them. And they pledged to assess the cost effectiveness of ID cards and whether people's privacy would be properly protected. \"It is important to remember that this bill will take a decade to come into full effect,\" a spokesman said. Lib Dem home affairs spokesman Mark Oaten has branded the ID scheme a waste of money and \"deeply flawed\". He said: \"This has all the signs of Michael Howard overruling colleagues' concerns over ID cards.\"\\n \\n The chairman of the Bar Council, Guy Mansfield QC warned there was a real risk that people on the \"margins of society\" would be driven into the hands of extremists. \"What is going to happen to young Asian men when there has been a bomb gone off somewhere? They are going to be stopped. If they haven't [ID cards] they are going to be detained.\" Tory ex-minister Douglas Hogg said he opposed the plans for ID cards branding them a \"regressive\" step which would intrude into the lives of ordinary citizens without any counterbalancing benefits. He predicted ultimately carrying the cards would become compulsory and that would lead to large numbers of Britain's ethnic minorities being stopped by police.\\n   \n",
              "3                                                                             Observers to monitor UK election\\n \\n Ministers will invite international observers to check the forthcoming UK general election is fairly run.\\n \\n The move comes amid claims the poll could be marred by electoral fraud. A report by two MPs committees called on Thursday for urgent changes to the electoral registration system to combat vote rigging and boost turnout. But in a written response to Labour MP Gordon Prentice, the government said it would normally invite observers to any UK election.\\n \\n Junior constitutional affairs minister Christopher Leslie said: \"I fully expect us to repeat our previous practice of doing so once the date for the next general election is announced.\" The government has looked at ways of boosting voter turnout, which fell to 59% in the last general election in 2001.\\n \\n But trial all-postal ballots in four English regions last summer were hit by delays and some fraud allegations. Liberal Democrat peer Lord Greaves called last week for international observers at the general election - saying otherwise there could be months of court challenges \"on a scale not seen since the 19th Century\". Thursday's report was drawn up by two committees scrutinising the work of the Office of the Deputy Prime Minister (ODPM) and the Department for Constitutional Affairs (DCA). It said that, with the growth of postal voting, there was a strong case to tighten up fraud protection by requiring voters to register individually, rather than by household. It also said about three million people eligible to vote are not registered to do so.\\n \\n Figures for the 2001 general election suggest 29% of people aged between 18 and 24, and 19% of black voters were not on the electoral roll. Young people in shared accommodation are thought to miss out because no one acts as head of the household to fill in the form. ODPM committee chairman Andrew Bennett said individual voter registration, as opposed to registration by household, should be quickly introduced as it could \"dramatically reduce the chances of fraud\". But his counterpart on the DCA committee, Alan Beith, said it should be delayed \"until measures likely to increase registration have been put in place and proved effective.\" Shadow Constitutional Affairs Secretary Oliver Heald accused the government of \"dragging its feet\" over \"this badly needed measure\". \"It is vital that we move ahead with the Northern Ireland system of individual electoral registration to safeguard the integrity of the Britain's electoral system,\" he said.\\n \\n The report said individual registration should be treated carefully as 12% of voters disappeared from the electoral roll in Northern Ireland when it was introduced in 2002. The report said the government should consider fines for unregistered voters, but accepted many experts said it would be an expensive system that would be hard to enforce. It said incentives to register, such as Â£20 council tax rebate, were likely to be seen as \"gimmicks\" and risked undermining the integrity of the system, MPs said. Instead they called for \"imaginative campaigns\" to boost interest.\\n   \n",
              "4                                                                                                                                                                                                                                                                                                                                                                                                                                                                                                                                                                               Kilroy names election seat target\\n \\n Ex-chat show host Robert Kilroy-Silk is to contest the Derbyshire seat of Erewash at the next general election.\\n \\n Labour's Elizabeth Blackman won the seat in 1997 and has a 6,932 majority. She says she will fight on her record \"as a hard-working constituency MP\". Mr Kilroy-Silk announced his plans a day after launching his new party, Veritas, the Latin for truth. The East Midlands MEP, who quit the UK Independence Party, wants his new group to \"change the face\" of UK politics. His choice of election constituency quashes speculation that he would stand against Defence Secretary Geoff Hoon in Ashfield, Nottinghamshire. UKIP won 31% of the vote in Erewash in last June's European elections - with Mr Kilroy-Silk among their candidates for the region. Until 1997, Erewash had been held by the Tories since 1970. Ms Blackman said she was proud of the government's achievements in the area. She declined to give her view of Mr Kilroy-Silk at this point.\\n \\n On Thursday, he told a London news conference that Veritas would avoid the old parties' \"lies and spin\". He said \"our country\" was being \"stolen from us\" by mass immigration and promised a \"firm but fair\" policy on immigration. Veritas says it hopes to contest most seats at the forthcoming general election but plans to announce detailed policies on crime, tax, pensions, health and defence over the next few weeks.\\n \\n UKIP leader Roger Knapman says he is glad to see the back of Mr Kilroy-Silk. Labour campaign spokesman Fraser Kemp said Veritas was joining \"an already crowded field on the right of British politics\". Mr Kilroy-Silk was joined in the new venture by one of UKIP's two London Assembly members, Damien Hockney, who is now Veritas' deputy leader.\\n \\n UKIP's chairman Petrina Holdsworth has said the group will just be a parody of the party the men have left. Mr Kilroy-Silk quit UKIP last week after months of tension as he vied unsuccessfully for the leadership of that party. He said he was ashamed to be a member of a UKIP whose leadership had \"gone AWOL\" after the great opportunity offered by its third place at last June's European elections. UKIP's leader, Roger Knapman, has said he is glad to see the back of Mr Kilroy-Silk. \"He has remarkable ability to influence people but, sadly, after the [European] election it became clear that he was more interested in the Robert Kilroy-Silk Party than the UK Independence Party so it was nice knowing him, now 'goodbye',\" he said. UKIP officials also argue Mr Kilroy-Silk has not been \"straightforward\" in attacking the party he once wanted to lead.\\n   \n",
              "\n",
              "   Category  \n",
              "0         1  \n",
              "1         1  \n",
              "2         1  \n",
              "3         1  \n",
              "4         1  "
            ],
            "text/html": [
              "\n",
              "  <div id=\"df-ca8f9da8-2c20-4ac3-87af-79f5cd6ee5cf\" class=\"colab-df-container\">\n",
              "    <div>\n",
              "<style scoped>\n",
              "    .dataframe tbody tr th:only-of-type {\n",
              "        vertical-align: middle;\n",
              "    }\n",
              "\n",
              "    .dataframe tbody tr th {\n",
              "        vertical-align: top;\n",
              "    }\n",
              "\n",
              "    .dataframe thead th {\n",
              "        text-align: right;\n",
              "    }\n",
              "</style>\n",
              "<table border=\"1\" class=\"dataframe\">\n",
              "  <thead>\n",
              "    <tr style=\"text-align: right;\">\n",
              "      <th></th>\n",
              "      <th>Text</th>\n",
              "      <th>Category</th>\n",
              "    </tr>\n",
              "  </thead>\n",
              "  <tbody>\n",
              "    <tr>\n",
              "      <th>0</th>\n",
              "      <td>Budget to set scene for election\\n \\n Gordon Brown will seek to put the economy at the centre of Labour's bid for a third term in power when he delivers his ninth Budget at 1230 GMT. He is expected to stress the importance of continued economic stability, with low unemployment and interest rates. The chancellor is expected to freeze petrol duty and raise the stamp duty threshold from Â£60,000. But the Conservatives and Lib Dems insist voters face higher taxes and more means-testing under Labour.\\n \\n Treasury officials have said there will not be a pre-election giveaway, but Mr Brown is thought to have about Â£2bn to spare.\\n \\n - Increase in the stamp duty threshold from Â£60,000 \\n  - A freeze on petrol duty \\n  - An extension of tax credit scheme for poorer families \\n  - Possible help for pensioners The stamp duty threshold rise is intended to help first time buyers - a likely theme of all three of the main parties' general election manifestos. Ten years ago, buyers had a much greater chance of avoiding stamp duty, with close to half a million properties, in England and Wales alone, selling for less than Â£60,000. Since then, average UK property prices have more than doubled while the starting threshold for stamp duty has not increased. Tax credits As a result, the number of properties incurring stamp duty has rocketed as has the government's tax take. The Liberal Democrats unveiled their own proposals to raise the stamp duty threshold to Â£150,000 in February.\\n \\n The Tories are also thought likely to propose increased thresholds, with shadow chancellor Oliver Letwin branding stamp duty a \"classic Labour stealth tax\". The Tories say whatever the chancellor gives away will be clawed back in higher taxes if Labour is returned to power. Shadow Treasury chief secretary George Osborne said: \"Everyone who looks at the British economy at the moment says there has been a sharp deterioration in the public finances, that there is a black hole,\" he said. \"If Labour is elected there will be a very substantial tax increase in the Budget after the election, of the order of around Â£10bn.\"\\n \\n But Mr Brown's former advisor Ed Balls, now a parliamentary hopeful, said an examination of Tory plans for the economy showed there would be a Â£35bn difference in investment by the end of the next parliament between the two main parties. He added: \"I don't accept there is any need for any changes to the plans we have set out to meet our spending commitments.\"\\n \\n For the Lib Dems David Laws said: \"The chancellor will no doubt tell us today how wonderfully the economy is doing,\" he said. \"But a lot of that is built on an increase in personal and consumer debt over the last few years - that makes the economy quite vulnerable potentially if interest rates ever do have to go up in a significant way.\" SNP leader Alex Salmond said his party would introduce a Â£2,000 grant for first time buyers, reduce corporation tax and introduce a citizens pension free from means testing. Plaid Cymru's economics spokesman Adam Price said he wanted help to get people on the housing ladder and an increase in the minimum wage to Â£5.60 an hour.\\n</td>\n",
              "      <td>1</td>\n",
              "    </tr>\n",
              "    <tr>\n",
              "      <th>1</th>\n",
              "      <td>Army chiefs in regiments decision\\n \\n Military chiefs are expected to meet to make a final decision on the future of Scotland's Army regiments.\\n \\n A committee of the Army Board, which is made up of the most senior defence figures, will discuss plans for restructuring regiments on Monday. The proposals include cutting Scotland's six single-battalion regiments to five and merging these into a super regiment. The plans have faced stiff opposition from campaigners and politicians alike. The committee's decision must be ratified by Defence Secretary Geoff Hoon and Prime Minister Tony Blair. It is expected that it will be made public next week. When ministers announced a reorganisation of the Army it drew a question mark over the futures of the Black Watch, the Kings Own Scottish Borderers, the Royal Scots, the Royal Highland Fusiliers and the Argyll and Sutherland Highlanders. In October, the Council of Scottish Colonels proposed the merger of the Royal Scots and the King's Own Scottish Borderers into a single battalion.\\n \\n Under their vision, it would be one of five in the new super regiment. The proposals to either merge or amalgamate the six regiments into a super regiment sparked a political outcry, with Labour backbenchers and opposition politicians opposing the plan. They felt the timing was insensitive because the Black Watch was in the frontline in Iraq, suffering casualties. The Save the Scottish Regiments campaigners were so angered they threatened to stand against Labour at the next general election.\\n \\n Speaking ahead of the expected Army Board meeting, a spokesman said: \"The government and the Army Board have spent the past four months attempting to trick serving soldiers and the public into thinking their planned changes for the Scottish regiments are for the good of the Army and for that of the serving soldier. \"They are very much not for the good and will destroy Scotland's regiments by moulding them into a single super regiment which will lead to severe recruitment problems, a loss of local connections to those regiments and a loss to Scotland of an important part of her heritage and, most importantly, her future - the regiments are the envy of armies around the world.\" An alternative blueprint had been put forward by Labour MP Eric Joyce, who proposed going ahead with the merger while preserving the other regiments. For a brief time, there was speculation the prime minister might consider the plan, but that now seems unlikely. Speaking in Scotland last week, Mr Blair said the aim was to preserve tradition but introduce a more effective structure and hinted that a super regiment was likely. He said: \"They don't want to get rid of the history or the traditions of the regiment or the local connections - far from it, all they want to do is make sure they can transfer people easily across regiments and deploy them more flexibly.\" The prime minister said he hoped campaigners' concerns would be taken into account but the need for effective change had to be paramount.\\n</td>\n",
              "      <td>1</td>\n",
              "    </tr>\n",
              "    <tr>\n",
              "      <th>2</th>\n",
              "      <td>Howard denies split over ID cards\\n \\n Michael Howard has denied his shadow cabinet was split over its decision to back controversial Labour plans to introduce ID cards.\\n \\n The Tory leader said his front bench team had reached a \"collective view\" after holding a \"good discussion\", but admitted it was \"not an easy issue\". He had decided to support the plans as the police said they would help fight terror, crime and illegal immigration. The Lib Dems have pledged to oppose the bill when it is debated next Monday.\\n \\n Tory sources say senior party figures had argued vociferously against the ID card scheme. Among those reported to have serious reservations over the strategy were senior shadow cabinet members David Davis, Oliver Letwin and Tim Yeo. But Mr Howard denied Mr Yeo, his transport and environment spokesman, said the plans \"stink\". He also said he was confident shadow home secretary Mr Davis would \"set out the position very clearly\" when he stands up to debate the matter next week. Mr Howard said the police had said ID cards could \"help them foil a terror bomb plot in which people could lose their lives\". He added: \"When the police say that you have to take them seriously\".\\n \\n He acknowledged there were \"good libertarian arguments\" against the cards, but said the shadow Cabinet had weighed up all the \"conflicting interests\" before reaching its decision. \"I don't pretend that it is an easy decision but at the end of the day a decision has to be taken.\" He also denied he was afraid of looking \"soft\" on the issue, compared to Labour. The Conservatives announced their support for the government plans on Monday evening.\\n \\n Sources within the party told the BBC Mr Howard had always been in favour of ID cards, and tried to introduce them when he was Home Secretary. But the Tories insisted they would hold ministers to account over the precise purpose of the scheme.\\n \\n They said they would also press Labour over whether objectives could be met and whether the Home Office would be able to deliver them. And they pledged to assess the cost effectiveness of ID cards and whether people's privacy would be properly protected. \"It is important to remember that this bill will take a decade to come into full effect,\" a spokesman said. Lib Dem home affairs spokesman Mark Oaten has branded the ID scheme a waste of money and \"deeply flawed\". He said: \"This has all the signs of Michael Howard overruling colleagues' concerns over ID cards.\"\\n \\n The chairman of the Bar Council, Guy Mansfield QC warned there was a real risk that people on the \"margins of society\" would be driven into the hands of extremists. \"What is going to happen to young Asian men when there has been a bomb gone off somewhere? They are going to be stopped. If they haven't [ID cards] they are going to be detained.\" Tory ex-minister Douglas Hogg said he opposed the plans for ID cards branding them a \"regressive\" step which would intrude into the lives of ordinary citizens without any counterbalancing benefits. He predicted ultimately carrying the cards would become compulsory and that would lead to large numbers of Britain's ethnic minorities being stopped by police.\\n</td>\n",
              "      <td>1</td>\n",
              "    </tr>\n",
              "    <tr>\n",
              "      <th>3</th>\n",
              "      <td>Observers to monitor UK election\\n \\n Ministers will invite international observers to check the forthcoming UK general election is fairly run.\\n \\n The move comes amid claims the poll could be marred by electoral fraud. A report by two MPs committees called on Thursday for urgent changes to the electoral registration system to combat vote rigging and boost turnout. But in a written response to Labour MP Gordon Prentice, the government said it would normally invite observers to any UK election.\\n \\n Junior constitutional affairs minister Christopher Leslie said: \"I fully expect us to repeat our previous practice of doing so once the date for the next general election is announced.\" The government has looked at ways of boosting voter turnout, which fell to 59% in the last general election in 2001.\\n \\n But trial all-postal ballots in four English regions last summer were hit by delays and some fraud allegations. Liberal Democrat peer Lord Greaves called last week for international observers at the general election - saying otherwise there could be months of court challenges \"on a scale not seen since the 19th Century\". Thursday's report was drawn up by two committees scrutinising the work of the Office of the Deputy Prime Minister (ODPM) and the Department for Constitutional Affairs (DCA). It said that, with the growth of postal voting, there was a strong case to tighten up fraud protection by requiring voters to register individually, rather than by household. It also said about three million people eligible to vote are not registered to do so.\\n \\n Figures for the 2001 general election suggest 29% of people aged between 18 and 24, and 19% of black voters were not on the electoral roll. Young people in shared accommodation are thought to miss out because no one acts as head of the household to fill in the form. ODPM committee chairman Andrew Bennett said individual voter registration, as opposed to registration by household, should be quickly introduced as it could \"dramatically reduce the chances of fraud\". But his counterpart on the DCA committee, Alan Beith, said it should be delayed \"until measures likely to increase registration have been put in place and proved effective.\" Shadow Constitutional Affairs Secretary Oliver Heald accused the government of \"dragging its feet\" over \"this badly needed measure\". \"It is vital that we move ahead with the Northern Ireland system of individual electoral registration to safeguard the integrity of the Britain's electoral system,\" he said.\\n \\n The report said individual registration should be treated carefully as 12% of voters disappeared from the electoral roll in Northern Ireland when it was introduced in 2002. The report said the government should consider fines for unregistered voters, but accepted many experts said it would be an expensive system that would be hard to enforce. It said incentives to register, such as Â£20 council tax rebate, were likely to be seen as \"gimmicks\" and risked undermining the integrity of the system, MPs said. Instead they called for \"imaginative campaigns\" to boost interest.\\n</td>\n",
              "      <td>1</td>\n",
              "    </tr>\n",
              "    <tr>\n",
              "      <th>4</th>\n",
              "      <td>Kilroy names election seat target\\n \\n Ex-chat show host Robert Kilroy-Silk is to contest the Derbyshire seat of Erewash at the next general election.\\n \\n Labour's Elizabeth Blackman won the seat in 1997 and has a 6,932 majority. She says she will fight on her record \"as a hard-working constituency MP\". Mr Kilroy-Silk announced his plans a day after launching his new party, Veritas, the Latin for truth. The East Midlands MEP, who quit the UK Independence Party, wants his new group to \"change the face\" of UK politics. His choice of election constituency quashes speculation that he would stand against Defence Secretary Geoff Hoon in Ashfield, Nottinghamshire. UKIP won 31% of the vote in Erewash in last June's European elections - with Mr Kilroy-Silk among their candidates for the region. Until 1997, Erewash had been held by the Tories since 1970. Ms Blackman said she was proud of the government's achievements in the area. She declined to give her view of Mr Kilroy-Silk at this point.\\n \\n On Thursday, he told a London news conference that Veritas would avoid the old parties' \"lies and spin\". He said \"our country\" was being \"stolen from us\" by mass immigration and promised a \"firm but fair\" policy on immigration. Veritas says it hopes to contest most seats at the forthcoming general election but plans to announce detailed policies on crime, tax, pensions, health and defence over the next few weeks.\\n \\n UKIP leader Roger Knapman says he is glad to see the back of Mr Kilroy-Silk. Labour campaign spokesman Fraser Kemp said Veritas was joining \"an already crowded field on the right of British politics\". Mr Kilroy-Silk was joined in the new venture by one of UKIP's two London Assembly members, Damien Hockney, who is now Veritas' deputy leader.\\n \\n UKIP's chairman Petrina Holdsworth has said the group will just be a parody of the party the men have left. Mr Kilroy-Silk quit UKIP last week after months of tension as he vied unsuccessfully for the leadership of that party. He said he was ashamed to be a member of a UKIP whose leadership had \"gone AWOL\" after the great opportunity offered by its third place at last June's European elections. UKIP's leader, Roger Knapman, has said he is glad to see the back of Mr Kilroy-Silk. \"He has remarkable ability to influence people but, sadly, after the [European] election it became clear that he was more interested in the Robert Kilroy-Silk Party than the UK Independence Party so it was nice knowing him, now 'goodbye',\" he said. UKIP officials also argue Mr Kilroy-Silk has not been \"straightforward\" in attacking the party he once wanted to lead.\\n</td>\n",
              "      <td>1</td>\n",
              "    </tr>\n",
              "  </tbody>\n",
              "</table>\n",
              "</div>\n",
              "    <div class=\"colab-df-buttons\">\n",
              "\n",
              "  <div class=\"colab-df-container\">\n",
              "    <button class=\"colab-df-convert\" onclick=\"convertToInteractive('df-ca8f9da8-2c20-4ac3-87af-79f5cd6ee5cf')\"\n",
              "            title=\"Convert this dataframe to an interactive table.\"\n",
              "            style=\"display:none;\">\n",
              "\n",
              "  <svg xmlns=\"http://www.w3.org/2000/svg\" height=\"24px\" viewBox=\"0 -960 960 960\">\n",
              "    <path d=\"M120-120v-720h720v720H120Zm60-500h600v-160H180v160Zm220 220h160v-160H400v160Zm0 220h160v-160H400v160ZM180-400h160v-160H180v160Zm440 0h160v-160H620v160ZM180-180h160v-160H180v160Zm440 0h160v-160H620v160Z\"/>\n",
              "  </svg>\n",
              "    </button>\n",
              "\n",
              "  <style>\n",
              "    .colab-df-container {\n",
              "      display:flex;\n",
              "      gap: 12px;\n",
              "    }\n",
              "\n",
              "    .colab-df-convert {\n",
              "      background-color: #E8F0FE;\n",
              "      border: none;\n",
              "      border-radius: 50%;\n",
              "      cursor: pointer;\n",
              "      display: none;\n",
              "      fill: #1967D2;\n",
              "      height: 32px;\n",
              "      padding: 0 0 0 0;\n",
              "      width: 32px;\n",
              "    }\n",
              "\n",
              "    .colab-df-convert:hover {\n",
              "      background-color: #E2EBFA;\n",
              "      box-shadow: 0px 1px 2px rgba(60, 64, 67, 0.3), 0px 1px 3px 1px rgba(60, 64, 67, 0.15);\n",
              "      fill: #174EA6;\n",
              "    }\n",
              "\n",
              "    .colab-df-buttons div {\n",
              "      margin-bottom: 4px;\n",
              "    }\n",
              "\n",
              "    [theme=dark] .colab-df-convert {\n",
              "      background-color: #3B4455;\n",
              "      fill: #D2E3FC;\n",
              "    }\n",
              "\n",
              "    [theme=dark] .colab-df-convert:hover {\n",
              "      background-color: #434B5C;\n",
              "      box-shadow: 0px 1px 3px 1px rgba(0, 0, 0, 0.15);\n",
              "      filter: drop-shadow(0px 1px 2px rgba(0, 0, 0, 0.3));\n",
              "      fill: #FFFFFF;\n",
              "    }\n",
              "  </style>\n",
              "\n",
              "    <script>\n",
              "      const buttonEl =\n",
              "        document.querySelector('#df-ca8f9da8-2c20-4ac3-87af-79f5cd6ee5cf button.colab-df-convert');\n",
              "      buttonEl.style.display =\n",
              "        google.colab.kernel.accessAllowed ? 'block' : 'none';\n",
              "\n",
              "      async function convertToInteractive(key) {\n",
              "        const element = document.querySelector('#df-ca8f9da8-2c20-4ac3-87af-79f5cd6ee5cf');\n",
              "        const dataTable =\n",
              "          await google.colab.kernel.invokeFunction('convertToInteractive',\n",
              "                                                    [key], {});\n",
              "        if (!dataTable) return;\n",
              "\n",
              "        const docLinkHtml = 'Like what you see? Visit the ' +\n",
              "          '<a target=\"_blank\" href=https://colab.research.google.com/notebooks/data_table.ipynb>data table notebook</a>'\n",
              "          + ' to learn more about interactive tables.';\n",
              "        element.innerHTML = '';\n",
              "        dataTable['output_type'] = 'display_data';\n",
              "        await google.colab.output.renderOutput(dataTable, element);\n",
              "        const docLink = document.createElement('div');\n",
              "        docLink.innerHTML = docLinkHtml;\n",
              "        element.appendChild(docLink);\n",
              "      }\n",
              "    </script>\n",
              "  </div>\n",
              "\n",
              "\n",
              "<div id=\"df-fee85c3f-9282-4d54-a3c6-e55a43f1594f\">\n",
              "  <button class=\"colab-df-quickchart\" onclick=\"quickchart('df-fee85c3f-9282-4d54-a3c6-e55a43f1594f')\"\n",
              "            title=\"Suggest charts\"\n",
              "            style=\"display:none;\">\n",
              "\n",
              "<svg xmlns=\"http://www.w3.org/2000/svg\" height=\"24px\"viewBox=\"0 0 24 24\"\n",
              "     width=\"24px\">\n",
              "    <g>\n",
              "        <path d=\"M19 3H5c-1.1 0-2 .9-2 2v14c0 1.1.9 2 2 2h14c1.1 0 2-.9 2-2V5c0-1.1-.9-2-2-2zM9 17H7v-7h2v7zm4 0h-2V7h2v10zm4 0h-2v-4h2v4z\"/>\n",
              "    </g>\n",
              "</svg>\n",
              "  </button>\n",
              "\n",
              "<style>\n",
              "  .colab-df-quickchart {\n",
              "      --bg-color: #E8F0FE;\n",
              "      --fill-color: #1967D2;\n",
              "      --hover-bg-color: #E2EBFA;\n",
              "      --hover-fill-color: #174EA6;\n",
              "      --disabled-fill-color: #AAA;\n",
              "      --disabled-bg-color: #DDD;\n",
              "  }\n",
              "\n",
              "  [theme=dark] .colab-df-quickchart {\n",
              "      --bg-color: #3B4455;\n",
              "      --fill-color: #D2E3FC;\n",
              "      --hover-bg-color: #434B5C;\n",
              "      --hover-fill-color: #FFFFFF;\n",
              "      --disabled-bg-color: #3B4455;\n",
              "      --disabled-fill-color: #666;\n",
              "  }\n",
              "\n",
              "  .colab-df-quickchart {\n",
              "    background-color: var(--bg-color);\n",
              "    border: none;\n",
              "    border-radius: 50%;\n",
              "    cursor: pointer;\n",
              "    display: none;\n",
              "    fill: var(--fill-color);\n",
              "    height: 32px;\n",
              "    padding: 0;\n",
              "    width: 32px;\n",
              "  }\n",
              "\n",
              "  .colab-df-quickchart:hover {\n",
              "    background-color: var(--hover-bg-color);\n",
              "    box-shadow: 0 1px 2px rgba(60, 64, 67, 0.3), 0 1px 3px 1px rgba(60, 64, 67, 0.15);\n",
              "    fill: var(--button-hover-fill-color);\n",
              "  }\n",
              "\n",
              "  .colab-df-quickchart-complete:disabled,\n",
              "  .colab-df-quickchart-complete:disabled:hover {\n",
              "    background-color: var(--disabled-bg-color);\n",
              "    fill: var(--disabled-fill-color);\n",
              "    box-shadow: none;\n",
              "  }\n",
              "\n",
              "  .colab-df-spinner {\n",
              "    border: 2px solid var(--fill-color);\n",
              "    border-color: transparent;\n",
              "    border-bottom-color: var(--fill-color);\n",
              "    animation:\n",
              "      spin 1s steps(1) infinite;\n",
              "  }\n",
              "\n",
              "  @keyframes spin {\n",
              "    0% {\n",
              "      border-color: transparent;\n",
              "      border-bottom-color: var(--fill-color);\n",
              "      border-left-color: var(--fill-color);\n",
              "    }\n",
              "    20% {\n",
              "      border-color: transparent;\n",
              "      border-left-color: var(--fill-color);\n",
              "      border-top-color: var(--fill-color);\n",
              "    }\n",
              "    30% {\n",
              "      border-color: transparent;\n",
              "      border-left-color: var(--fill-color);\n",
              "      border-top-color: var(--fill-color);\n",
              "      border-right-color: var(--fill-color);\n",
              "    }\n",
              "    40% {\n",
              "      border-color: transparent;\n",
              "      border-right-color: var(--fill-color);\n",
              "      border-top-color: var(--fill-color);\n",
              "    }\n",
              "    60% {\n",
              "      border-color: transparent;\n",
              "      border-right-color: var(--fill-color);\n",
              "    }\n",
              "    80% {\n",
              "      border-color: transparent;\n",
              "      border-right-color: var(--fill-color);\n",
              "      border-bottom-color: var(--fill-color);\n",
              "    }\n",
              "    90% {\n",
              "      border-color: transparent;\n",
              "      border-bottom-color: var(--fill-color);\n",
              "    }\n",
              "  }\n",
              "</style>\n",
              "\n",
              "  <script>\n",
              "    async function quickchart(key) {\n",
              "      const quickchartButtonEl =\n",
              "        document.querySelector('#' + key + ' button');\n",
              "      quickchartButtonEl.disabled = true;  // To prevent multiple clicks.\n",
              "      quickchartButtonEl.classList.add('colab-df-spinner');\n",
              "      try {\n",
              "        const charts = await google.colab.kernel.invokeFunction(\n",
              "            'suggestCharts', [key], {});\n",
              "      } catch (error) {\n",
              "        console.error('Error during call to suggestCharts:', error);\n",
              "      }\n",
              "      quickchartButtonEl.classList.remove('colab-df-spinner');\n",
              "      quickchartButtonEl.classList.add('colab-df-quickchart-complete');\n",
              "    }\n",
              "    (() => {\n",
              "      let quickchartButtonEl =\n",
              "        document.querySelector('#df-fee85c3f-9282-4d54-a3c6-e55a43f1594f button');\n",
              "      quickchartButtonEl.style.display =\n",
              "        google.colab.kernel.accessAllowed ? 'block' : 'none';\n",
              "    })();\n",
              "  </script>\n",
              "</div>\n",
              "\n",
              "    </div>\n",
              "  </div>\n"
            ],
            "application/vnd.google.colaboratory.intrinsic+json": {
              "type": "dataframe",
              "variable_name": "clustered_data",
              "summary": "{\n  \"name\": \"clustered_data\",\n  \"rows\": 2127,\n  \"fields\": [\n    {\n      \"column\": \"Text\",\n      \"properties\": {\n        \"dtype\": \"string\",\n        \"num_unique_values\": 2127,\n        \"samples\": [\n          \"Blair congratulates Bush on win\\n \\n Tony Blair has said he looks forward to continuing his strong relationship with George Bush and working with him during his second term as president.\\n \\n Mr Bush's re-election came at a crucial time for a world that was \\\"fractured, divided and uncertain\\\", Mr Blair said. It had to be brought together, he added, saying action was needed on poverty, the Middle East and the conditions on which terrorists prey. Mr Blair said states had to work with the US to fight global terrorism.\\n \\n But there was a need to recognise it would not be defeated by \\\"military might alone but also by demonstrating the strength of our common values\\\" he added. Solving the conflict in the Middle East was the world's single most \\\"pressing political challenge\\\" of the present day, Mr Blair warned. The prime minister also urged Europe and the US to \\\"build anew their alliance\\\".\\n \\n \\\"All of us in positions of leadership, not just President Bush, have a responsibility to rise to this challenge. It is urgent that we do so.\\\" Mr Blair also paid tribute to Democrat John Kerry's campaign, saying he had helped make the presidential election \\\"a true celebration of American democracy\\\". The election of the US president was significant for the world but particularly so for Britain because of its special relationship, he added. Earlier Tory leader Michael Howard sent Mr Bush his \\\"warmest congratulations\\\", saying: \\\"We look to the president to be a unifying force for those all over the world who share our determination to defend freedom.\\\" Liberal Democrat leader Charles Kennedy welcomed the fact there had been a quick conclusion to the election, unlike in 2000.\\n \\n Mr Bush's first task was to \\\"rebuild a sense of domestic purpose\\\" within the US, he said. Mr Kennedy said: \\\"Internationally, it is to be hoped that a second term will see a more sensitive approach to relations with long-standing allies, not least for the global efforts to combat terrorism.\\\" Lib Dem foreign affairs spokesman Menzies Campbell said a win by Mr Kerry would have given Mr Blair the chance of a fresh start, adding it was almost as if there was an \\\"umbilical cord\\\" between Mr Bush and the UK premier.\\n \\n \\\"Europeans must hope that his administration will be much more multilateral in character, and that he will act swiftly to rebuild the Atlantic partnership which is so vital to security. \\\"Iraq will remain an issue of potential division for some time to come.\\\" Even before the result became clear, Mr Blair was being urged to push for action on climate change at his first meeting with whichever candidate won.\\n \\n Liberal Democrat environment spokesman Norman Baker underlined the issue of global warming during a Commons debate on Anglo-American relations on Wednesday. Environment Secretary Margaret Beckett has said the US will act on global warming despite George Bush's refusal to sign up to the Kyoto protocol on carbon emissions. Public opinion would force change, she told BBC news. But Myron Ebell, an adviser on climate change to President Bush, has said there would be no change in the US stance and rejected the threat of climate change. He claimed the US was the only country with independent scientists.\\n\",\n          \"China Aviation seeks rescue deal\\n \\n Scandal-hit jet fuel supplier China Aviation Oil has offered to repay its creditors $220m (\\u00c2\\u00a3117m) of the $550m it lost on trading in oil futures.\\n \\n The firm said it hoped to pay $100m now and another $120m over eight years. With assets of $200m and liabilities totalling $648m, it needs creditors' backing for the offer to avoid going into bankruptcy. The trading scandal is the biggest to hit Singapore since the $1.2bn collapse of Barings Bank in 1995. Chen Jiulin, chief executive of China Aviation Oil (CAO), was arrested by at Changi Airport by Singapore police on 8 December. He was returning from China, where he had headed when CAO announced its trading debacle in late-November. The firm had been betting heavily on a fall in the price of oil during October, but prices rose sharply instead.\\n \\n Among the creditors whose backing CAO needs for its restructuring plan are banking giants such as Barclay's Capital and Sumitomo Mitsui, as well as South Korean firm SK Energy. Of the immediate payment, the firm - China's biggest jet fuel supplier - said it would be paying $30m out of its own resources. The rest would come from its parent company, China Aviation Oil Holding Company in Beijing. The holding company, owned by the Chinese government, holds most of CAO's Singapore-listed shares. It cut its holding from 75% to 60% on 20 October.\\n\",\n          \"Yukos heading back to US courts\\n \\n Russian oil and gas company Yukos is due in a US court on Thursday as it continues to fight for its survival.\\n \\n The firm is in the process of being broken up by Russian authorities in order to pay a $27bn (\\u00c2\\u00a314bn) tax bill. Yukos filed for bankruptcy in the US, hoping to use international business law to halt the forced sale of its key oil production unit, Yuganskneftegas. The unit was however sold for $9.4bn to state oil firm Rosneft but only after the state auction had been disrupted.\\n \\n Yukos lawyers now say the auction violated US bankruptcy law. The company and its main shareholders have vowed to go after any company that buys its assets, using all and every legal means. The company wants damages of $20bn, claiming Yuganskneftegas was sold at less than market value. Judge Letitia Clark will hear different motions, including one from Deutsche Bank to throw out the Chapter 11 bankruptcy filing. The German lender is one of six banks that were barred from providing financing to Gazprom, the Russian state-owned company that was expected to win the auction for Yuganskneftegas. Deutsche Bank, which is also an advisor to Gazprom, has called on the US court to overturn its decision to provide Yukos with bankruptcy protection.\\n \\n Lifting the injunction would remove the uncertainty that surrounds the court case and clarify Deutsche Bank's business position, analysts said.\\n \\n Analysts are not optimistic about Yukos' chances in court. Russian President Vladimir Putin and the country's legal authorities have repeatedly said that the US has no jurisdiction over Yukos and its legal wranglings. On top of that, the firm only has limited assets in the US. Yukos has won small victories, however, and is bullish about its chances in court. \\\"Do we have an ability to influence what happens? We think we do,\\\" said Mike Lake, a Yukos spokesman. \\\"The litigation risks are real,\\\" said Credit Suisse First Boston analyst Vadim Mitroshin The dispute with the Russian authorities is partly driven by President Putin's clampdown on the political ambitions of ex-Yukos boss Mikhail Khodorkovsky. Mr Khodorkovsky is in jail on charges of fraud and tax evasion.\\n\"\n        ],\n        \"semantic_type\": \"\",\n        \"description\": \"\"\n      }\n    },\n    {\n      \"column\": \"Category\",\n      \"properties\": {\n        \"dtype\": \"int32\",\n        \"num_unique_values\": 5,\n        \"samples\": [\n          2,\n          0,\n          4\n        ],\n        \"semantic_type\": \"\",\n        \"description\": \"\"\n      }\n    }\n  ]\n}"
            }
          },
          "metadata": {},
          "execution_count": 28
        }
      ]
    },
    {
      "cell_type": "markdown",
      "source": [
        "Let's check a few random news articles from each of the categories."
      ],
      "metadata": {
        "id": "xK3ThY3OoF6S"
      }
    },
    {
      "cell_type": "code",
      "source": [
        "# for each cluster, printing the 5 random news articles\n",
        "for i in range(5):\n",
        "    print(i)\n",
        "    print(clustered_data.loc[clustered_data.Category == i, 'Text'].sample(5, random_state=1).values)\n",
        "    print(\"\\n\")"
      ],
      "metadata": {
        "colab": {
          "base_uri": "https://localhost:8080/"
        },
        "id": "DB9IZ39vD5Ol",
        "outputId": "c2850701-3521-49e1-b0fb-6fbf8f484a9c"
      },
      "execution_count": 29,
      "outputs": [
        {
          "output_type": "stream",
          "name": "stdout",
          "text": [
            "0\n",
            "[\"O'Sullivan keeps his powder dry\\n \\n When you are gunning for glory and ultimate success keeping the gunpowder dry is essential.\\n \\n Ireland coach Eddie O'Sullivan appears to have done that quite successfully in the run-up to this season's Six Nations Championship. He decreed after the 2003 World Cup that players should have a decent conditioning period during the year. That became a reality at the end of last summer with a 10-week period at the start of the this season. It may have annoyed his Scottish, and in particularly Welsh, cousins who huffed and puffed at the disrespect apparently shown to the Celtic League. We will say nothing of Mike Ruddock ''poaching'' eight of the Dragons side that faced Leinster on Sunday. But, like O'Sullivan, he was well within his rights, particularly when you are talking about the national side and pride that goes along with it. The IRFU has thrown their weight behind O'Sullivan, who must be glad that in the main, there is centrally-controlled contracts. Bar Keith Gleeson who is just returning from a broken leg, everyone of O'Sullivan's squad is fit, fresh and standing at the oche ready to launch this season's campaign.\\n \\n But I doubt whether O'Sullivan is going to gloat about the handling of his players. He is not that sort of person. However, he may look at the overworked and injury-hit England, Wales and France squads whose players have been overworked, and then pat himself on the back for his foresight. But there is still the question of turning up and transferring that freshness into positive results when the referee signals the start of the game. Already Ireland are being earmarked as hot favourites in many quarters to go the whole hog this season. A first Grand Slam since Karl Mullen's led the team to a clean sweep in 1948. With England and France visiting Lansdowne Road for the last time before the old darling is pulled down, everything looks perfectly placed. But in the days of yore that frightened the life out of any Irishman.\\n \\n Under the burden of great expectations, Ireland have crumpled. Take the Triple Crown-winning side of 1985 under Mick Doyle. They were expected to up the ante further for a Grand Slam, only the second in Ireland's history. What happened in 1986? Whitewashed. You see, Ireland, in any sport, love to be downsized. Then they can go out and prove a point to the contrary. It is the nature of the beast. But O'Sullivan's side are very capable of proving a salient point this season. After their first Triple Crown for 19 years, they can live up to their success and take a further step up the ladder. O'Sullivan has kept faith and displayed loyalty to his players, and they have repaid him in spades ... and there is more to come. He has some old dogs in his squad, but he will come to this season's championship with a different box of tricks, and a new verve to succeed. Ireland can indeed succeed, but just whisper it.\\n\"\n",
            " 'Roddick in talks over new coach\\n \\n Andy Roddick is reportedly close to confirming US Davis Cup assistant Dean Goldfine as his new coach.\\n \\n Roddick ended his 18-month partnership with Brad Gilbert on Monday, and Goldfine admits talks have taken place. \"We had a really good conversation and we\\'re on the same page in terms of what I expect from a player in commitment and what he wants,\" said Goldfine. \"The reading I got from him is that I would have a lot of the qualities he\\'s looking for in a coach.\" Speaking to told South Florida\\'s Sun-Sentinel newspaper, Goldfine added: \"That being said, from his standpoint, which is smart, he wants to cover all his bases. \"I think Andy wants a long-term relationship and wants to make sure it\\'s the right fit... the best fit.\" Goldfine, 39, has worked with Todd Martin and Roddick\\'s close friend Mardy Fish, and was an assistant coach with the US Olympic team. Martin is the other name to have been linked to the vacant post alongside Roddick.\\n'\n",
            " 'Bryan twins keep US hopes alive\\n \\n The United States kept the Davis Cup final alive with victory in Saturday\\'s doubles rubber, leaving Spain 2-1 ahead going into the final day.\\n \\n Masters Cup champions Mike and Bob Bryan thrashed Juan Carlos Ferrero and Tommy Robredo 6-0 6-3 6-2 in front of a partisan crowd in Seville. Victory would have given Spain the title but they were outclassed. In Sunday\\'s reverse singles, Carlos Moya takes on Andy Roddick before Rafael Nadal faces Mardy Fish. \"It feels good, but it\\'s not going to be as good if we don\\'t win two tomorrow,\" said Mike Bryan. \"It feels good to give those guys another shot, and Spain has to go to sleep on that.\" Bob Bryan added: \"I\\'m really confident in Andy winning that first match, and then anything can happen.\" Spain coach Jordi Arrese chose to rest 18-year-old Nadal in the doubles after his epic singles win over Roddick on Friday. He was replaced by former world number one Ferrero, but the Spanish pair were out of their depth against one of the world\\'s best doubles teams.\\n \\n The 26-year-old Bryan twins have won all four of their Davis Cup matches this year. And they quickly silenced the huge crowd at the Olympic Stadium, racing through the opening set to love. The Spaniards then twice surrendered breaks of serve at the start of the second before the Bryans broke to go 5-3 ahead and served out. When Robredo dropped serve in the opening game of the third set the match was all but over, and the unflappable Bryan brothers powered on to an impressive win. Ferrero, who was upset to be dropped for Friday\\'s singles, hinted at further dissatisfaction after the defeat. \"It was a difficult game against the best doubles players,\" he said. \"They have everything calculated and we had very little to do. \"I was a bit surprised that I was named to play the doubles match because I hardly play doubles.\" Arrese said: \"Juan Carlos hasn\\'t played at all badly. He played the right way but the Bryans are great doubles players.\"\\n'\n",
            " 'England coach faces rap after row\\n \\n England coach Andy Robinson is facing disciplinary action after criticising referee Jonathan Kaplan in his side\\'s Six Nations defeat to Ireland.\\n \\n The Rugby Football Union (RFU) will investigate Robinson after deciding not to lodge a complaint against Kaplan. Robinson may even have to apologise for his comments in order to avoid sanction from the International Rugby Board. Robinson had said he was \"livid\" about Kaplan\\'s decisions on Saturday to disallow two England \"tries.\" The England coach went on to claim that \"only one side was refereed\".\\n \\n After reviewing tapes of the match, the RFU decided not to formally complain to the IRB over the standard of Kaplan\\'s refereeing. Instead the RFU said in a statement they would, \"set out any concerns the England team management may have in a confidential manner\".\\n \\n An IRB spokesman said on the matter: \"We take all breaches of the code very seriously. \"Should the RFU resolve the issue to our satisfaction, as happened last month when the Scotland coach Matt Williams apologised for remarks made, it would be the end of the matter.\"\\n \\n Kaplan has vigorously defended his performance in England\\'s 19-13 defeat at Landsdowne Road and admitted he was \"very disappointed\" with Robinson\\'s remarks. And the South African has been appointed to take charge of Scotland\\'s match against Wales on 13 March.\\n \\n The RFU recently fined Northampton coach Budge Pountney Â£2,000 and imposed a six-week ban for his criticism of referee Steve Lander after a Premiership match.\\n'\n",
            " 'England \\'to launch ref protest\\'\\n \\n England will protest to the International Rugby Board (IRB) about the referee\\'s performance in the defeat by Ireland, reports the Daily Mail.\\n \\n England coach Andy Robinson has called on ex-international referees Colin High and Steve Lander to analyse several of Jonathan Kaplan\\'s decisions. \"I want to go through the tape with Colin and Steve,\" Robinson told the Daily Mail. \"I want to speak to the IRB about it. I think only one side was refereed.\" High, the Rugby Football Union\\'s referees\\' manager, claimed Kaplan made three major errors which changed the outcome of Sunday\\'s match. England were beaten 19-13 by the Irish in Dublin, their third straight defeat in the 2005 Six Nations. \"The International Rugby Board will be disappointed,\" High told the Daily Mail. \"Jonathan Kaplan is in the top 20 in the world but that wasn\\'t an international performance. \"It would not have been acceptable in the Zurich Premiership. \"If one of my referees had done that, I would have had my backside kicked for making the appointment. \"If any English referee refereed like that in a European match, there would be an inquest. No question about that. \"If someone had performed like that, he would have been pulled from the next game.\"\\n']\n",
            "\n",
            "\n",
            "1\n",
            "['Malik rejects all-black MP lists\\n \\n A call for ethnic minority shortlists to boost the number of black and Asian MPs has been rejected by one of Labour\\'s most senior Asians.\\n \\n Shahid Malik, who is on Labour\\'s ruling NEC, accepted people\\'s frustration but said there should be targets not lists to boost representation of minorities. Just 13 of Britain\\'s 659 MPs are from ethnic minority groups, he added. Commission for racial equality chief Trevor Phillips argued on Sunday the time had come for such shortlists. That came after it emerged that one of Britain\\'s most ethnically diverse constituency, West Ham, was to get a women-only shortlist for the next election following an NEC ruling.\\n \\n Mr Phillips said changes to the race relations legislation might allow political parties to reserve seats for under-represented groups. For example in West Ham, this might allow only women and minorities to seek to be candidates. \"If we get to the other side of the general election and find that minorities are not represented, we have to say that after 20 or 30 years of talking about this, we cannot go on the same way,\" he said. He added: \"It would be terribly disappointing if in the least white constituency [West Ham] in the whole of Europe we didn\\'t have a minority candidate.\" Appearing on BBC Radio 4\\'s Today programme, Mr Malik, who is himself running for the seat of Dewsbury, acknowledged that so far women-only shortlists had failed to deliver a boost in the number of ethnic minority candidates.\\n \\n But he argued: \"I do think that there currently things that parties can do and which they aren\\'t doing... for example setting targets to ensure that existing democratic structures are more reflective.\" Labour MP Diane Abbot, who backs Mr Phillips\\' proposal of shortlists, said she had been elected along with three other ethnic minority MPs - Keith Vaz, Paul Boateng and Bernie Grant - in 1987 but it took another 10 years before another black woman was able to win a seat. That was a rate of progress Ms Abbott described as \"painful\". \"I am a little older than Shahid and served on the National Executive Committee in the 1990s - I was the first black person on the NEC ... crossing our fingers and hoping we are going to get more black and Asian MP hasn\\'t worked,\" she said. \"The shortlist strategy works for women and I believe that it can be made to work for black and Asian people.\" On Tuesday Labour chairman Ian McCartney said his party was \"ambitious\" to improve black and Asian representation. \"We haven\\'t ruled out all-black shortlists and welcome a debate in the party about this,\" he said.\\n'\n",
            " 'UK \\'needs true immigration data\\'\\n \\n A former Home Office minister has called for an independent body to be set up to monitor UK immigration.\\n \\n Barbara Roche said an organisation should monitor and publish figures and be independent of government. She said this would counter \"so-called independent\" groups like Migration Watch, which she described as an anti-immigration body posing as independent. Migration Watch says it is not against all immigration and the government already publishes accurate figures. Sir Andrew Green, chairman of the organisation, says there is no need for an independent body because Office of National Statistics data are accurate. He says he opposes large-scale immigration \"both on the grounds of overcrowding and culture\".\\n \\n He said: \"For example, over the next 20 years one household in three will be due to immigration. \"We are already more overcrowded than India and we are four times more overcrowded than France.\" Ms Roche, Labour MP for Hornsey and Wood Green, believes legal migration is something we should welcome. She said her proposals mean \"we wouldn\\'t have so-called independent experts, like Migration Watch, who come into this debate from an anti-immigration point of view.\" She went on: \"What I would like to see is there being a body which actually looked at the figures, published them, and was independent of government. \"I think that would go a long way to allaying some of the fears that are sometimes whipped up during this debate.\"\\n'\n",
            " 'Call to save manufacturing jobs\\n \\n The Trades Union Congress (TUC) is calling on the government to stem job losses in manufacturing firms by reviewing the help it gives companies.\\n \\n The TUC said in its submission before the Budget that action is needed because of 105,000 jobs lost from the sector over the last year. It calls for better pensions, child care provision and decent wages. The 36-page submission also urges the government to examine support other European countries provide to industry. TUC General Secretary Brendan Barber called for \"a commitment to policies that will make a real difference to the lives of working people.\"\\n \\n \"Greater investment in childcare strategies and the people delivering that childcare will increases the options available to working parents,\" he said. \"A commitment to our public services and manufacturing sector ensures that we can continue to compete on a global level and deliver the frontline services that this country needs.\" He also called for \"practical measures\" to help pensioners, especially women who he said \"are most likely to retire in poverty\". The submission also calls for decent wages and training for people working in the manufacturing sector.\\n'\n",
            " 'MP\\'s shock at long lost daughter\\n \\n Labour MP Stephen Pound has told of his shock and his joy on learning he fathered a daughter when he was \"out of control\" during the \"wild\" 1960s.\\n \\n Lucy, 36, tracked down Mr Pound after her birth mother told her he was known as \"Precious\" at school. Despite being told he was a \"nutter who died at sea\" she found a reference to Mr Pound on Friends Reunited. Lucy\\'s mother kept her pregnancy secret and had her adopted at four weeks. Mr Pound found out about it last year. That happened when Lucy wrote to his Parliamentary office saying she believed he was her father.\\n \\n Mr Pound, who is now married with two other teenage children, said: \"I was a nutter and I was a sailor but I wasn\\'t dead.\" He said his first reaction was to wonder if he was victim of a \"set-up\" but he then realised all the dates fitted. \"It was a pretty horrible thing with a pretty happy ending. I felt guilt in the marrow of my bones,\" said the Ealing North MP. \"I don\\'t blame Lucy\\'s mother. I was pretty much out of control. I was 18 when she was conceived. It was a different time - it was pretty wild.\"\\n \\n Mr Pound says he rang Lucy as soon as he got her letter, they met up and have been in contact ever since. Describing that first meeting at London\\'s King Cross station, he said: \"The earth went from under my feet ... We were walking across the Euston Road and I took her arm to take her across and there was an immediate connection. \"We were finishing each other sentences.\" Lucy, who was adopted by a family from Essex, wants to remain anonymous for the sake of her adoptive father and her children. Mr Pound said his wife Maggie had been fully supportive and their two children Emily, 16, and Pelham, 14 were pleased to have an older sister.\\n'\n",
            " \"What the election should really be about?\\n \\n A general election is the best chance most pressure groups get to make a real impact on government policy. Here is how six leading lobbies plan to make sure their cause is being debated ahead of an expected Spring poll.\\n \\n We've called for the state pension to be increased from Â£79.60 to the pensioner credit guarantee level of Â£105.45. That's what we're calling for. Many pensioners are disadvantaged by the current system. If we've got one in five pensioners below the poverty line, we've got to make it more generous or have these people living in poverty.\\n \\n We've drawn up a pensioners' manifesto. This will be sent to each of the candidates in the 659 constituencies. They will be asked which of the top five issues, including the pension issue, they would support. Once we've got their responses we will publish the results within the constituencies and nationally as well. It's our way of putting the politicians on notice. We are trying to get across the fact that there are 11m voters over 60 in the country, they are more likely to vote than other sections of society and thirdly they are true swing voters. Before 1997 most pensioners voted Conservative. In 1997 and 2001 they voted Labour. But there is no guarantee they will vote for a Labour government this time around. They cannot take that vote for granted.\\n \\n Pensions generally will certainly be a big election issue even though the government has postponed the publication of Adair Turner's full report into the issue. He said the UK had one of the least generous pensions systems in the developed world.\\n \\n That the government takes seriously the impact of aviation on the environment.\\n \\n We haven't worked out specific plans but I imagine we will lobby political parties and incumbent MPs. Various local groups will do that in their particular areas and we will provide a national briefing. We don't have any large demonstrations planned but they can't be ruled out.\\n \\n It is hard to say whether we will be successful. We have got the issue in the public consciousness to an extent, but it is difficult to say whether an election will raise its importance in the public mind or whether it will be pushed out by big issues like Iraq.\\n \\n Repealing the Hunting Bill.\\n \\n We are challenging the use of the Parliament Act 1949 in a High Court action. We are hoping to hear in the New Year. Whichever way the court rules the other side will appeal so we expect it to fall plumb in electioneering time. When the ban comes into force on 18 February we will be going to the European Court because no compensation is being paid. So there's a lot of legal territory to go. We are trying to engage with the ministers by demonstrating and talking. Whatever intelligence we get we will try to turn up and speak to whoever it is. (Rural affairs minister) Alun Michael has avoided us and cancelled engagements so that makes it difficult. It is not intimidatory - on the whole it is groups of angry housewives. Of course there is an element of shouting because people are angry but there is no violence because that does not achieve anything.\\n \\n It will fall plumb in the run up to the most important general election Tony Blair will ever face. It's exactly what the prime minister did not want. He wanted the issue off the table until after the election.\\n \\n People using live animals as targets for sport both here and abroad. The reason for including abroad is because of trophy hunting. It is another sort of form of shooting for sport. The principle is the same whether it's a tiger or a pheasant.\\n \\n We will widely publicise what's happening in relation to trophy hunting. We will publicise the darker aspects of the target animal industry the UK. We will seek to get pledges from individual MPs and would-be MPs saying that they are against the use of animals as targets for sports. We would like the support of political parties but I think a general election is very much to do with pledges MPs make to their electors. With hunting we had many MPs who were happy to say they were against it.\\n \\n I think what we will get is a very real climbing up the agenda. Whether or not we will get a ban I am not sure. But it will mobilise public opinion. Everything we do will reduce animal suffering and in time that will lead to a ban.\\n \\n The issue that we think is the most important for this election is choice. The language of consumerism is very commonplace in government and across the political spectrum. Choice as an ideology is beginning to be the privatisation of this decade. It's become an issue in itself but what's really missing from the debate is the consumer's choice in that. Choice is not choice at all if all you have to choose from is two failing schools. We have seen so many pensions mis-selling scandals and in the pensions industry there's a maximum of choice but a minimum quality in that. We want choice on the consumer's terms - that means clear and accessible information to operate that choice.\\n \\n Firstly, we have our website. It features our campaigns and changes every day. Secondly through our 700,000 members who communicate with us. Thirdly through the media and also what we will be doing is holding a pre-election conference. We will invite the opinion formers, MPs, journalists and others. The idea is that we open up communications between members of the public and the politicians.\\n \\n I think we will be successful. It's very much the language being used by the main political parties. Politicians on all sides are very sensitive to this issue they want to be seen to be responding to this issue.\\n \\n Fuel duty is a large part of operational costs for road haulage workers. We have been hearing about this proposed increase of 1.92p per litre that Gordon Brown has been postponing and postponing. Tuppence does not sound like a great deal but every year if you operate one vehicle that's an increase of about Â£750. If you're running 10 vehicles it's obviously 10 times that.\\n \\n If fuel duty does rise we will be absolutely horrified. There will be a huge effect throughout the industry and I would not be surprised if you see widespread demonstrations. What it will mean is there will be a number of firms going out of business.\\n \\n We will continue to do what we have always done we keep the issue in the trade press. Regrettably it's one of those stories that it is getting harder to get into the national press. Whatever we do, the public don't like lorries - they see us as a complaining minority. But they don't realise that when you see a car on the road it is probably going to work, when you see a lorry it's already at work.\\n\"]\n",
            "\n",
            "\n",
            "2\n",
            "['Label withdraws McFadden\\'s video\\n \\n The new video of former Westlife singer Brian McFadden has been pulled after a Dublin school complained about being associated with his song Irish Son.\\n \\n St Fintian\\'s High School says it is clearly identified in the video, while McFadden never went there. McFadden makes claims that he was beaten at his own school in the song\\'s lyrics, saying it had \"cell blocks\". The performer\\'s record label Sony BMG has withdrawn the video and issued replacements to television stations. The label believed the school name was fictitious until they received the complaint. They have said the reference to the school was unintentional and coincidental.\\n \\n The head of Christian Brothers\\' school St Fintian\\'s, Richard Fogarty, said the video implied that the 24-year-old pop star had attended his school and was abused there. \"The school has always treated its pupils with respect,\" Mr Fogarty said in a statement. McFadden makes specific references to the Christian Brothers in his song, but did not attend St Fintian\\'s. Corporal punishment was outlawed in Irish schools in 1982 when McFadden was two years old.\\n \\n McFadden, whose debut solo album is released next week, has said that every song is autobiographical and \"a true story\". Alcoholism and domestic violence are among the other topics dealt with in his songs, half of which have been written with Robbie Williams\\' former collaborator, Guy Chambers. McFadden, who quit chart-topping group Westlife in March, went to number one in September with his first solo single Real To Me. He enjoyed 12 chart-toppers with the boy band before parting company with them.\\n'\n",
            " 'Bangkok film festival battles on\\n \\n Organisers of the third Bangkok International Film Festival have been determined to carry on with this year\\'s event despite the ravages of the Asian tsunami disaster.\\n \\n The festivities have been scaled down, red carpets have been mothballed and profits from ticket sales are being donated to the tsunami relief fund. Apart from this, however, the festival has continued as originally planned. \"When the disaster happened, we naturally asked ourselves if we should cancel,\" said the festival\\'s executive director, Craig Prater. \"The decision was made that we would continue, but that the focus would change.\\n \\n \"Our premieres became fundraisers, the opening night was visibly toned down and 10% of every ticket sold goes to the disaster fund,\" he continued. \"But we feel like we\\'ve turned a page. We\\'ve acknowledged our position, and now it\\'s business as usual.\"\\n \\n Mr Prater\\'s sentiments were echoed by Christine Rush, director of the festival\\'s sister event, the Bangkok Film Market. \"We have been careful to be respectful of the Thai nation\\'s recovery from this terrible disaster,\" she said.\\n \\n \"However, the nation\\'s recovery very much depends upon it continuing its economic life. \"We are encouraging attendees to keep the victims in mind and aggressively support the aid organisations helping out,\" she added. Given the conspicuously low audience figures, that support may be more symbolic than significant. However, poor ticket sales have less to do with any fallout from the disaster and more to do with administrative and promotional difficulties.\\n \\n The eclectic programme contains a wide range of titles, including such Oscar hopefuls as Ray Charles biopic Ray and Mike Leigh\\'s abortion drama Vera Drake. That said, the absence of Thai subtitles on most film prints might have proved offputting to local cinemagoers.\\n \\n On a more positive note, the celebrity guests attending the event have generated huge media interest in this busy capital city. Problems securing air transport, the clash with last Sunday\\'s Golden Globes ceremony in Los Angeles and other factors have forced some big names to cancel.\\n \\n But the festival has still attracted such Hollywood directors as Oliver Stone and Joel Schumacher, alongside such screen stars as Michael Douglas, Jeremy Irons and Jean-Claude Van Damme. Irons, whose film Being Julia is in competition for the festival\\'s Golden Kinnaree awards, said he had wondered whether he should attend after December\\'s catastrophe. \"I questioned whether I should come when such a tragedy had happened,\" the British actor said. \"I thought it might be in rather bad taste. But then I spoke to the organisers and I was encouraged to let life go on. \"Now I\\'ve come here I\\'m very glad. What impresses me about Thai culture is they get over these things far quicker than we do in the West,\" he continued. \"Basically I was invited here by Thailand. If they still want you to come, you should.\"\\n \\n Now in its third year, Bangkok is a relatively recent addition to the hectic film festival calendar. And while it has yet to attain the stature of more established events held in Hong Kong, Tokyo and Pusan in South Korea, Mr Prater predicts it will soon become their equal. \"It\\'s grown awfully fast in three years - maybe too fast,\" he concedes. \"We\\'ve had some bumps in the road, but that\\'s only because the festival is still a baby. \"I have no doubt in my mind that in five years, this will be the top Asian film festival in the world.\" The Golden Kinnarees will be awarded on Friday. The festival itself runs until 24 January.\\n'\n",
            " 'Fox \\'too reliant on reality TV\\'\\n \\n The head of US TV network Fox has admitted the broadcaster had relied too heavily on reality TV shows such as the poor-rating Who\\'s Your Daddy.\\n \\n Chief executive Gail Berman said \"in the case of this fall we drifted to too much on the unscripted side\". The series Who\\'s Your Daddy, where a young woman tries to pick her natural father for a cash prize caused outrage from adoption groups and rated badly. Last season, Fox\\'s prime-time audience fell by 600,000 to 5.9 million. Ms Berman said: \"I think the audience expects loud things from Fox. Sometimes they work, and sometimes they don\\'t.\"\\n \\n Who\\'s Your Daddy, the first episode of which was shown on 3 January, pulled in a disappointing audience of 6.3 million, according to the Nielsen ratings system. Five other episodes of the show had also been filmed will be dropped from Fox\\'s schedules, Ms Berman said. She was predicting a drop in ratings even for some of the network\\'s established reality shows, such as American Idol, which is due to start its fourth series this week. Fox had unveiled a new strategy last year promising to launch new shows every season, including the traditionally quiet summer season. Though that had met with a poor reception, Ms Berman said \"there\\'s no question that the audience, in our mind, is ready, willing and able to accept new programming in the summer\". Fox has changed this plan, launching new shows in May instead of June. One of the new shows will be the animated series American Dad, made by Seth MacFarlane, the creator of Family Guy. That series, after becoming a hit on DVD, is also set to return with new episodes.\\n'\n",
            " 'India to deport Bollywood actress\\n \\n India has ordered the deportation of Iranian-born model and actress Negar Khan to Norway after saying she was working illegally on her visa.\\n \\n Khan has had raunchy roles in music videos and Bollywood films over the past two years. The distressed actress told media she was being driven straight to the airport after a routine appointment at the Bombay immigration office. Immigration officials said she had been warned about her visa last year.\\n \\n Khan told an Indian news channel on her mobile phone: \"They are not even letting me go home to get my bags. I have no clothes or money on me. \"They did not give me any notice. I don\\'t know why they are taking me away like this. There is nothing wrong with my visa. It says I work here... They are not allowing me to even call a lawyer.\" Bipin Bihari, deputy police chief in Bombay, said Khan was being sent back to Norway, from which she holds a passport, on the first available flight. \"She was on a visitor\\'s visa but she has engaged in several commercial ventures,\" he said. \"We issued notices last year, in view of which she had gone back to Norway, but she has returned again this year to work.\" One of Khan\\'s biggest successes was the steamy Hindi song Chadti Jawani (Rising Youth). Khan was involved in controversy when topless photos alleged to be of her appeared in a Norwegian magazine.\\n'\n",
            " 'Film star Fox behind theatre bid\\n \\n Leading actor Edward Fox is one of the men behind plans to reopen a Swansea theatre thought to be Wales\\' oldest.\\n \\n The star of film and TV hits Day of the Jackal and Edward and Mrs Simpson has joined forces with Swansea-born actor-director Terry Palmer. They will set up a charity to raise money to buy the Palace Theatre, and hope to reopen it to audiences in summer 2006. It is estimated that Â£500,000 is needed to buy the Grade II listed building. The Palace Theatre, which will be known as The Pavilion Repertory Theatre, was sold to an undisclosed bidder at auction 13 months ago for Â£340,000. Before that it had been used as a nightclub for 10 years.\\n \\n Oscar-winner Sir Anthony Hopkins, who was born in nearby Port Talbot, made his professional debut there, and Charlie Chaplin and Lily Langtry have also trodden its boards. Fox told the South Wales Evening Post that after visiting the theatre he was surprised by its beauty. \"A lot of money needs to be spent on it, but all the bones are there - it just needs a beautiful skin,\" he said.\\n \\n \"To call it a jewel is not an over-estimation. There are not many theatres left like this. \"The hope for the immediate future is that we can attract enough people to come forward to allow it to prosper,\" he told the newspaper.\\n \\n Fox first found fame in the 1960s. One of his most memorable roles was as an assassin in the Day of the Jackal in 1973, and he won a TV Bafta as the Prince of Wales in 1980 for Edward and Mrs Simpson. He was brought on board to save the theatre by Mr Palmer, a long-standing friend of 40 years. \"Two years ago I decided to return to Swansea and do something for the city,\" said Mr Palmer. He said he was excited by the idea of running the Palace as a charity where young actors could develop, and with an annual Shakespeare festival in the summer. \"If in five years\\' time the theatre can function in all areas without me, I shall be well satisfied having helped to create a vital living theatre for the city,\" he added. Keith Poulton, a business adviser from Swansea, has already committed an undisclosed amount of money to the project. \"We need at least Â£75,000 to secure a deposit on the building and we\\'ve only got two months to do that,\" said Mr Poulton. \"A few benefactors have expressed their interest and Mr Fox is going to give it an awful lot of time,\" he added. Last year, roads around the theatre were cordoned off when masonry from its roof fell onto a car, but engineers said they were happy that it was safe.\\n']\n",
            "\n",
            "\n",
            "3\n",
            "['Wall Street cool to eBay\\'s profit\\n \\n Shares in online auction house eBay fell 9.8% in after-hours trade on Wednesday, after its quarterly profits failed to meet market expectations.\\n \\n Despite seeing net profits rise by 44% to $205.4m (Â£110m) during October to December, from $142m a year earlier, Wall Street had expected more. EBay stock fell to $92.9 in after-hours trade, from a $103.05 end on Nasdaq. EBay\\'s net revenue for the quarter rose to $935.8m from $648.4m, boosted by growth at its PayPal payment service.\\n \\n Excluding special items, eBay\\'s profit was 33 cents a share, but analysts had expected 34 cents.\\n \\n \"I think Wall Street has gotten a bit ahead of eBay this quarter and for the 2005 year.\" said Janco Partners analyst Martin Pyykkonen. For 2004 as a whole, eBay earned $778.2m on sales of $3.27bn. EBay president and chief executive Meg Whitman called 2004 an \"outstanding success\" that generated \"tremendous momentum\" for 2005. \"I\\'m more confident than ever that the decisions and investments we\\'re making today will ensure a bright future for the company and our community of users around the world,\" she said. EBay now forecasts 2005 revenue of $4.2bn to $4.35bn and earnings excluding items of $1.48 to $1.52 per share. Analysts had previously estimated that eBay would achieve 2005 revenues of $4.37bn and earnings of $1.62 per share, excluding items.\\n'\n",
            " 'Russian oil merger excludes Yukos\\n \\n The merger of Russian gas giant Gazprom and oil firm Rosneft is to go ahead, but will not include Yugansk, which was controversially bought last year.\\n \\n The merger, backed by Russian authorities, will allow foreigners to trade in Gazprom shares. Gazprom chief Alexei Miller confirmed Rosneft-owned Yugansk was not part of the deal and will instead be spun off. Under the agreement, the state will get a controlling share of Gazprom in exchange for Rosneft. The state wanted to control Gazprom before allowing foreigners to trade. Speaking on NTV television, which is controlled by Gazprom, Mr Miller added that Yugansk, which was swallowed up by Rosneft late last year, will operate as a separate, state-owned oil firm headed by current Rosneft chief Sergei Bogdanchikov. According to reports from Russian News Agency Interfax, the deal should go through in the next two to three months.\\n \\n \"Obtaining majority control over Gazprom is the beginning of the liberalisation of the market in Gazprom shares,\" Mr Miller added. By opening up trading in Gazprom to foreigners, the firm will become a top emerging market play for traders. Currently, foreigners can only trade in Gazprom via a small issue of London-listed proxy shares. \"This is positive news for the international investment community,\" Global Asset Management investment chief David Smith said. \"The majority of investors are going to be happy,\" he added.\\n \\n However, analysts were disappointed that Yugansk would not be included in the deal. \"Yugansk is a heavy cashflow generator and would have been a much better asset for Gazprom,\" Renaissance Capital energy analyst Adam Landes told Reuters news agency. But he said the latest development was simply an interim step to allow foreigners to trade in Gazprom. \"Ultimately and industrially, Gazprom needs Yugansk,\" he added. Analysts said the deal would give Gazprom control of 8% of Russia\\'s total oil production, an improvement on its current 2.5%, but still far less than the 20% share it would have gained had it also taken over Yugansk. However, the merged group will still remain outside Russia\\'s top five oil producers - led by Lukoil with 11% of the market , followed by TNK-BP which is half owned by BP, and Surgutneftegaz. Instead, the merged Gazprom-Rosneft group will rank alongside Sibneft with 7% of the market. Yugansk was sold to a little-known shell company in a disputed auction in December, following what many thought was a politically-motivated attack on Yukos. The shell company was then snapped up by Rosneft. Yukos unsuccessfully sought to halt the auction by applying for bankruptcy through the US courts. The unit was auctioned by Russian authorities to help pay off a $27.5bn back-tax bill.\\n'\n",
            " 'Fannie Mae \\'should restate books\\'\\n \\n US mortgage company Fannie Mae should restate its earnings, a move that is likely to put a billion-dollar dent in its accounts, watchdogs have said.\\n \\n The Securities & Exchange Commission accused Fannie Mae of using techniques that \"did not comply in material respects\" with accounting standards. Fannie Mae last month warned that some records were incorrect. The other main US mortgage firm Freddie Mac restated earnings by $5bn (Â£2.6bn) last year after a probe of its books. The SEC\\'s comments are likely to increase pressure on Congress to strengthen supervision of Fannie Mae and Freddie Mac.\\n \\n The two firms are key parts of the US financial system and effectively underwrite the mortgage market, financing nearly half of all American house purchases and dealing actively in bonds and other financial instruments. The investigation of Freddie Mac in June 2003 sparked concerns about the wider health of the industry and raised questionsmarks over the role of the Office of Federal Housing Enterprise Oversight (OFHEO), the industry\\'s main regulator. Having been pricked into action, the OFHEO turned its attention to Fannie May and in September this year said that the firm had tweaked its books to spread earnings more smoothly across quarters and play down the amount of risk it had taken on. The SEC found similar problems. The watchdog\\'s chief accountant Donald Nicolaisen said that \"Fannie Mae\\'s methodology of assessing, measuring and documenting hedge ineffectiveness was inadequate and was not supported\" by generally accepted accounting principles.\\n'\n",
            " 'India\\'s Deccan seals $1.8bn deal\\n \\n Air Deccan has ordered 30 Airbus A320 planes in a $1.8bn (Â£931m) deal as India\\'s first low-cost airline expands in the fast-growing domestic market.\\n \\n Air Deccan was set up last year and wants to lure travellers away from the railway network and pricier rivals. The potential of the Indian market has attracted attention at home and abroad. Beer magnate Vijay Mallya recently set up Kingfisher Airlines, while UK entrepreneur Richard Branson has said he is keen to start a local operation.\\n \\n The country has a population of more than a billion people and many observers feel that it is underserved by airlines. Recently however, the booming economy has boosted personal spending power and helped swell the middle classes and the corporate sector. India\\'s government has given its backing to cheaper and more accessible air travel. \"The days of flying being a symbol of only maharajas or the rich are over,\" the minister for civil aviation Praful Patel said earlier. Infrastructure is being built to handle the expected increase in demand and on Tuesday, Agence France Presse reported that a group led by Germany\\'s Siemens won the contract to build a private airport near Bangalore. India\\'s airports authority and the state government will own 13% each of the finished transport hub. For its part, Air Deccan, set up by army officer and silk farmer Gorur Gopinath, plans to increase its fleet to 60 aircraft within five years. To help finance the expansion the company may sell a 25% stake to an investor for about $50m. When it was set up the firm offered tickets that were 50% cheaper than other Indian airlines. It said it was basing its business model on European firms such as Ireland\\'s Ryanair.\\n'\n",
            " 'Worldcom ex-boss launches defence\\n \\n Lawyers defending former WorldCom chief Bernie Ebbers against a battery of fraud charges have called a company whistleblower as their first witness.\\n \\n Cynthia Cooper, WorldCom\\'s ex-head of internal accounting, alerted directors to irregular accounting practices at the US telecoms giant in 2002. Her warnings led to the collapse of the firm following the discovery of an $11bn (Â£5.7bn) accounting fraud. Mr Ebbers has pleaded not guilty to charges of fraud and conspiracy.\\n \\n Prosecution lawyers have argued that Mr Ebbers orchestrated a series of accounting tricks at WorldCom, ordering employees to hide expenses and inflate revenues to meet Wall Street earnings estimates. But Ms Cooper, who now runs her own consulting business, told a jury in New York on Wednesday that external auditors Arthur Andersen had approved WorldCom\\'s accounting in early 2001 and 2002. She said Andersen had given a \"green light\" to the procedures and practices used by WorldCom. Mr Ebber\\'s lawyers have said he was unaware of the fraud, arguing that auditors did not alert him to any problems.\\n \\n Ms Cooper also said that during shareholder meetings Mr Ebbers often passed over technical questions to the company\\'s finance chief, giving only \"brief\" answers himself. The prosecution\\'s star witness, former WorldCom financial chief Scott Sullivan, has said that Mr Ebbers ordered accounting adjustments at the firm, telling him to \"hit our books\". However, Ms Cooper said Mr Sullivan had not mentioned \"anything uncomfortable\" about WorldCom\\'s accounting during a 2001 audit committee meeting. Mr Ebbers could face a jail sentence of 85 years if convicted of all the charges he is facing. WorldCom emerged from bankruptcy protection in 2004, and is now known as MCI. Last week, MCI agreed to a buyout by Verizon Communications in a deal valued at $6.75bn.\\n']\n",
            "\n",
            "\n",
            "4\n",
            "['Movie body hits peer-to-peer nets\\n \\n The movie industry has struck out at file-sharing networks with another round of lawsuits in the US.\\n \\n The Motion Picture Association of America (MPAA) also said it had succeeded in getting a network called LokiTorrent closed down. It is the latest network which uses the peer-to-peer system called BitTorrent to be hit by the MPAA. The MPAA began its legal campaign against operators of similar networks across four continents in December. A Dallas court agreed that Hollywood lawyers would be allowed access to LokiTorrent\\'s server records which could let them single out those who were sharing files illegally. In October 2004, the site had provided links to more than 30,000 files. The action came after the operators of LokiTorrent agreed a settlement with the MPAA. A stark message has appeared on the site from the MPAA warning \"You can click, but you can\\'t hide\". In BitTorrent systems, server sites do not host the files being shared. They host links, called \"trackers\" that direct people to others that have it instead.\\n \\n As well as filing an unspecified number of file suits across the US, the MPAA said it had given operators that host eDonkey servers \"take down\" notices. Hollywood studios are aggressively clamping down on file-sharers who it says infringe copyright laws by copying films and TV programmes then share the files online. But it is now targeting the operators of BitTorrent networks themselves. It has filed 100 lawsuits against operators of BitTorrent server sites since December. The strategy of hitting those who run the servers which link to copyrighted material is intended to stunt file-sharers\\' ability to swap content using BitTorrent systems. The film industry says the black market for illegally copied videos and DVDs already costs them billions every year and it is worried that illegal file-sharing is adding to their losses. In December, the legal action claimed its most high-profile victim. The popular Suprnova.org website was forced to close, and others like Phoenix Torrent followed soon after.\\n'\n",
            " 'Be careful how you code\\n \\n A new European directive could put software writers at risk of legal action, warns former programmer and technology analyst Bill Thompson.\\n \\n If it gets its way, the Dutch government will conclude its presidency of the European Union by pushing through a controversial measure that has been rejected by the European Parliament, lacks majority support from national governments and will leave millions of European citizens in legal limbo and facing the possibility of court cases against them. If the new law was about border controls, defence or even the new constitution, then our TV screens would be full of experts agonising over the impact on our daily lives. Sadly for those who will be directly affected, the controversy concerns the patenting of computer programs, a topic that may excite the bloggers, campaigning groups and technical press but does not obsess Middle Britain. After all, how much fuss can you generate about the Directive on the Patentability of Computer-Implemented Inventions, and the way it amends Article 52 of the 1973 European Patent Convention? Yet if the new directive is nodded through at the next meeting of one of the EU\\'s ministerial councils, as seems likely, it will allow programs to be patented in Europe just as they are in the US. Many observers of the computing scene, including myself, think the results will be disastrous for small companies, innovative programmers and the free and open source software movement. It will let large companies patent all sorts of ideas and give legal force to those who want to limit their competitors\\' use of really obvious ideas.\\n \\n In the US you cannot build a system that stores customer credit card details so that they can pay without having to re-enter them unless Amazon lets you, because they hold the patent on \"one-click\" online purchase. It is a small invention, but Amazon made it to the patent office first and now owns it.\\n \\n We are relatively free from this sort of thing over here, but perhaps not for long. The new proposals go back to 2002, although argument about patentability of software and computer-implemented inventions has been going on since at least the mid-1980s. They have come to a head now after a year in which proposals were made, endorsed by the Council of Ministers, radically modified by the European Parliament and then re-presented in their original form. Some national governments seem to be aware of the problems. Poland has rejected the proposal and Germany\\'s main political parties have opposed it, but there is not enough opposition to guarantee their rejection. Early in December the British government held a consultation meeting with those who had commented on the proposals. Science Minister Lord Sainsbury went along to listen and outline the UK position, but according to those present, it was embarrassing to see how little the minister and his officials actually understood the issues concerned.\\n \\n The draft Directive is being put through the council as what is called an \"A\" item and can only be approved or rejected. No discussion or amendment is allowed. So why should we be worried? First, there is the abuse of the democratic process involved in disregarding the views of the parliament and abandoning all of their carefully argued amendments. This goes to the heart of the European project, and even those who do not care about software or patents should be worried. If coders are treated like this today, who is to say that it will not be you tomorrow?\\n \\n More directly, once software patents are granted then any programmer will have to worry that the code they are writing is infringing someone else\\'s patent. This is not about stealing software, as code is already protected by copyright. Patents are not copyright, but something much stronger. A patent gives the owner the right to stop anyone else using their invention, even if the other person invented it separately. I have never, to my shame, managed to read Lord Byron\\'s Childe Harold\\'s Pilgrimage. If it was pointed out that one of my articles contained a substantial chunk of the poem then I could defend myself in court by claiming that I had simply made it up and it was coincidence. The same does not hold for a patent. If I sit down this afternoon and write a brilliant graphics compression routine and it happens to be the same as the LZW algorithm used in GIF files, then I am in trouble under patent law, at least in the US. Coincidence is no defence. The proposed directive is supported by many of the major software companies, but this is hardly surprising since most of them are US-based and they have already had to cope with a legal environment that allows patents. They have legal departments and, more crucially, patents of their own which they can trade or cross-license with other patent holders.\\n \\n Even this system breaks down, of course, as Microsoft found out last year when they initially lost a case brought by Eolas which claimed that Internet Explorer (and other browsers) infringed an Eolas patent. That one was eventually thrown out, but only after months of uncertainty and millions of dollars. But small companies, and the free and open software movement do not have any patents to trade. Much of the really useful software we use every day, programs like the Apache web server, the GNU/Linux operating system and the fearsomely popular Firefox browser, is developed outside company structures by people who do not have legal departments to check for patent infringements. The damage to software will not happen overnight, of course. If the directive goes through it has to be written into national laws and then there will be a steady stream of legal actions against small companies and open source products. Eventually someone will decide to attack Linux directly, probably with some secret funding from one or two large players. The new directive will limit innovation by forcing programmers to spend time checking for patent infringements or simply avoiding working in potentially competitive areas. And it will damage Europe\\'s computer industry. We can only hope that the Council of Ministers has the integrity and strength to reject this bad law.\\n \\n Bill Thompson is a regular commentator on the BBC World Service programme Go Digital.\\n'\n",
            " 'What\\'s next for next-gen consoles?\\n \\n The next generation of video games consoles are in development but what will the new machines mean for games firms and consumers? We may not know when they will be released, what they will be called or even what they will be able to do but one thing is certain - they are coming. Sony, Microsoft and Nintendo are all expected to release new machines in the next 18 months. The details of PlayStation 3, Xbox 2 (codename Xenon) and Nintendo\\'s so-called Revolution are still to be finalised but developers are having to work on titles for the new machines regardless.\\n \\n \"We know maybe what the PS3 will do, but we can only guess,\" said Rory Armes, studio general manager for video game giant Electronic Arts in Europe. \"It\\'s a horrendous effort in the first year,\" he admitted. Microsoft had delivered development kits to EA, said Mr Armes, but he said the company was still waiting on Sony and Nintendo to send kits. Although the details may not be nailed down, Mr Armes said EA was beginning to get a sense of the capabilities of the new machines. \"The rumours are that PlayStation 3 will have a little more under the hood [than Xbox 2],\" he said.\\n \\n \"Microsoft is obviously a software company first and foremost, while Sony has more experience in hardware. I think Sony will be able to push more into a box at cost.\"\\n \\n What is certain is that the new machines will provide great leaps in processing and graphical power. It is also likely that they will contain convergence technologies to make the machines more of an entertainment hub. At the Consumer Electronics Show in Las Vegas Microsoft boss Bill Gates said Xbox 2 would be part of his vision of the digital lifestyle. While short on detail, he painted a picture of a machine that would complement a PC and offer \"great video gaming but video gaming for a broader set of people, more communications, more media, more connectivity\". Sony is thought to have a similar vision for PS3 while Nintendo remain focused on a machine purely for games.\\n \\n Until it is clear precisely what the new machines can do, developers are working on a first round of titles to harness the new horsepower. Gary Dunn, development director at Codemasters, said the company had a central technology group which was at the forefront of preparing for the next generation of consoles. \"We are working on new libraries of effects. A lot of the major techniques are already out there and in use in PC gaming, such as pixel shaders and normal mapping.\"\\n \\n Mr Dunn said he expected the introduction of real-world physics to be a major part of the new consoles. \"We want to increase that level of immersion and realism in gaming to people can lose themselves in a game.\" In the first year at least, developers said gamers should not expect games which harness the full potential of the machines. Graphical spit and polish and better physics in line with the capabilities of current high-end graphics cards for PCs should be expected. Simon Gardner, president of Climax\\'s Action Studio, said: \"It\\'s definitely an exciting time. We want to give more freedom to the player. We want to give players an emotional connection to the characters they play. \"The environments will be much more believable and dramatic, growing and changing as you play. \"There will be a breadth of effects, more involving worlds to play in.\\n \\n \"It\\'s a bit like being an artist and being given a bigger canvas and a smaller brush. We\\'re being given more tools. \"For the average consumer, we can get things of a more filmic quality.\" Gerhard Florin, head of EA in Europe, said gamers should expect titles that blur the line between films and video games. Many will be sceptical - gamers were given similar predictions during the last transition of console hardware - but this time it would seem to be more likely. \"PS3 will provide graphics indistinguishable from movies,\" said Mr Florin. He said the distribution method for games would also change radically in the next round of consoles. \"A gamer could buy a starter disc for 10 euros. When he goes home he goes online and he could buy AI and levels as you go.\\n \\n \"It\\'s much smarter if you can get levels as you go.\" Mr Armes warned that developers still had to learn how to tell stories effectively in the medium. \"In some ways we are trying to forget about the hardware, go in the opposite direction. We have been very bad at letting technology design our creativity. \"What we have to do as a company is start ignoring the technology and learning our craft in telling stories.\" Mr Gardner agreed: \"We can thrown more polygons around and have better AI but if it doesn\\'t make for a better game then that\\'s not very useful.\" Developers will certainly have the tools with the new machines, but how they employ them is still to be decided.\\n'\n",
            " \"Electronics firms eye plasma deal\\n \\n Consumer electronics giants Hitachi and Matshushita Electric are joining forces to share and develop technology for flat screen televisions.\\n \\n The tie-up comes as the world's top producers are having to contend with falling prices and intense competition. The two Japanese companies will collaborate in research & development, production, marketing and licensing. They said the agreement would enable the two companies to expand the plasma display TV market globally.\\n \\n Plasma display panels are used for large, thin TVs which are replacing old-style televisions. The display market for high-definition televisions is split between models using plasma display panels and others - manufactured by the likes of Sony and Samsung - using liquid-crystal displays (LCDs). The deal will enable Hitachi and Matsushita, which makes Panasonic brand products, to develop new technology and improve their competitiveness. Hitachi recently announced a deal to buy plasma display technology from rival Fujitsu in an effort to strengthen its presence in the market.\\n \\n Separately, Fujitsu announced on Monday that it is quitting the LCD panel market by transferring its operations in the area to Japanese manufacturer Sharp. Sharp will inherit staff, manufacturing facilities and intellectual property from Fujitsu. The plasma panel market has seen rapid consolidation in recent months as the price of consumer electronic goods and components has fallen. Samsung Electronics and Sony are among other companies working together to reduce costs and speed up new product development.\\n\"\n",
            " 'Peer-to-peer nets \\'here to stay\\'\\n \\n Peer-to-peer (P2P) networks are here to stay, and are on the verge of being exploited by commercial media firms, says a panel of industry experts.\\n \\n Once several high-profile legal cases against file-sharers are resolved this year, firms will be very keen to try and make money from P2P technology. The expert panel probed the future of P2P at the Consumer Electronics Show in Las Vegas earlier in January. The first convictions for P2P piracy were handed out in the US in January. William Trowbridge and Michael Chicoine pleaded guilty to charges that they infringed copyright by illegally sharing music, movies and software. Since the first successful file-sharing network Napster was forced to close down, the entertainment industry has been nervous and critical of P2P technology, blaming it for falling sales and piracy. But that is going to change very soon, according to the panel.\\n \\n The music and film industries have started some big legal cases against owners of legitimate P2P networks - which are not illegal in themselves - and of individuals accused of distributing pirated content over networks. But they have slowly realised that P2P is a good way to distribute content, said Travis Kalanick, founder and chairman of P2P network Red Swoosh, and soon they are all going to want a slice of it. They are just waiting to come up with \"business models\" that work for them, which includes digital rights management and copy-protection standards.\\n \\n But, until the legal actions are resolved, experimentation with P2P cannot not happen, said Michael Weiss, president of StreamCast Networks. Remembering the furore around VCRs when they first came out, Mr Weiss said: \"Old media always tries to stop new media. \"When they can\\'t stop it, they try to control it. Then they figure out how to make money and they always make a lot of money.\" Once the courts decided that the VCR in itself was not an illegal technology, the film studios turned it into an extremely lucrative business. In August 2004, the San Francisco-based US Court of Appeals ruled in favour of Grokster and StreamCast, two file-sharing networks. The court said they were essentially in the same position that Sony was in the 1980s VCR battle, and said that the networks themselves could not be deemed as illegal.\\n \\n P2P networks usually do not rely on dedicated servers for the transfer of files. Instead it uses direct connections between computers - or clients. There are now many different types of P2P systems than work in different ways. P2P nets can be used to share any kind of file, like photos, free software, licensed music and any other digital content. The BBC has already decided to embrace the technology. It aims to offer most of its own programmes for download this year and it will use P2P technology to distribute them. The files would be locked seven days after a programme aired making rights management easier to control. But the technology is still demonised and misunderstood by many. The global entertainment industry says more than 2.6 billion copyrighted music files are downloaded every month, and about half a million films are downloaded a day. Legal music download services, like Apple iTunes, Napster, have rushed into the music marketplace to try and lure file-sharers away from free content. Sales of legally-downloaded songs grew tenfold in 2004, with 200 million tracks bought online in the US and Europe in 12 months, the IFPI reported this week. But such download services are very different from P2P networks, not least because of the financial aspect.\\n \\n There are several money-spinning models that could turn P2P into a golden egg for commercial entertainment companies. Paid-for-pass-along, in which firms receive money each time a file is shared, along with various DRM solutions and advertiser-based options are all being considered. \"We see there are going to be different models for commoditising P2P,\" said Marc Morgenstern, vice president of anti-piracy firm Overpeer.\\n \\n \"Consumers are hungry for it and we will discover new models together,\" agreed Mr Morgenstern. But many net users will continue to ignore the entertainment industry\\'s potential controlling grip on content and P2P technology by continuing to use it for their own creations. Unsigned bands, for example, use P2P networks to distribute their music effectively, which also draws the attention of record companies looking for new artists to sign. \"Increasingly, what you are seeing on P2P is consumer-created content,\" said Derek Broes, from Microsoft. \"They will probably play an increasing role in helping P2P spread,\" he said. Looking into P2P\\'s future, file sharing is just the beginning for P2P networks, as far as Mr Broes is concerned. \"Once some of these issues are resolved, you are going to see aggressive movement to protect content, but also in ways that are unimaginable now,\" he said. \"File-sharing is the tip of the iceberg.\"\\n']\n",
            "\n",
            "\n"
          ]
        }
      ]
    },
    {
      "cell_type": "markdown",
      "source": [
        "Based on the above news articles, we can see that they can be categorized as follows:\n",
        "\n",
        "- 0: Sports\n",
        "- 1: Politics\n",
        "- 2: Entertainment\n",
        "- 3: Business\n",
        "- 4: Technology"
      ],
      "metadata": {
        "id": "FH9piRxZXJqA"
      }
    },
    {
      "cell_type": "code",
      "source": [
        "# dictionary of cluster label to category\n",
        "category_dict = {\n",
        "    0: 'Sports',\n",
        "    1: 'Politics',\n",
        "    2: 'Entertainment',\n",
        "    3: 'Business',\n",
        "    4: 'Technology'\n",
        "}\n",
        "# mapping cluster labels to categories\n",
        "clustered_data['Category'] = clustered_data['Category'].map(category_dict)\n",
        "\n",
        "clustered_data.head()"
      ],
      "metadata": {
        "colab": {
          "base_uri": "https://localhost:8080/",
          "height": 1000
        },
        "id": "_bEUw-9dsAn1",
        "outputId": "2af830a1-903c-4b11-b62b-c268ffa0cf54"
      },
      "execution_count": 30,
      "outputs": [
        {
          "output_type": "execute_result",
          "data": {
            "text/plain": [
              "                                                                                                                                                                                                                                                                                                                                                                                                                                                                                                                                                                                                                                                                                                                                                                                                                                                                                                                                                                                                                                                                                                                                                                                                                                                                                                                                                                                                                                                                                                                                                                                                                                                                                                                                                                                                                                                                                                                                                                                                                                                                                                                                                                                                                                                                                                                                                                                                                                                                                                                                                                                                                                                                                                                                                                                                                                                                                                                                                                                                                                                                                                                                                                                                                                                                                                             Text  \\\n",
              "0                     Budget to set scene for election\\n \\n Gordon Brown will seek to put the economy at the centre of Labour's bid for a third term in power when he delivers his ninth Budget at 1230 GMT. He is expected to stress the importance of continued economic stability, with low unemployment and interest rates. The chancellor is expected to freeze petrol duty and raise the stamp duty threshold from Â£60,000. But the Conservatives and Lib Dems insist voters face higher taxes and more means-testing under Labour.\\n \\n Treasury officials have said there will not be a pre-election giveaway, but Mr Brown is thought to have about Â£2bn to spare.\\n \\n - Increase in the stamp duty threshold from Â£60,000 \\n  - A freeze on petrol duty \\n  - An extension of tax credit scheme for poorer families \\n  - Possible help for pensioners The stamp duty threshold rise is intended to help first time buyers - a likely theme of all three of the main parties' general election manifestos. Ten years ago, buyers had a much greater chance of avoiding stamp duty, with close to half a million properties, in England and Wales alone, selling for less than Â£60,000. Since then, average UK property prices have more than doubled while the starting threshold for stamp duty has not increased. Tax credits As a result, the number of properties incurring stamp duty has rocketed as has the government's tax take. The Liberal Democrats unveiled their own proposals to raise the stamp duty threshold to Â£150,000 in February.\\n \\n The Tories are also thought likely to propose increased thresholds, with shadow chancellor Oliver Letwin branding stamp duty a \"classic Labour stealth tax\". The Tories say whatever the chancellor gives away will be clawed back in higher taxes if Labour is returned to power. Shadow Treasury chief secretary George Osborne said: \"Everyone who looks at the British economy at the moment says there has been a sharp deterioration in the public finances, that there is a black hole,\" he said. \"If Labour is elected there will be a very substantial tax increase in the Budget after the election, of the order of around Â£10bn.\"\\n \\n But Mr Brown's former advisor Ed Balls, now a parliamentary hopeful, said an examination of Tory plans for the economy showed there would be a Â£35bn difference in investment by the end of the next parliament between the two main parties. He added: \"I don't accept there is any need for any changes to the plans we have set out to meet our spending commitments.\"\\n \\n For the Lib Dems David Laws said: \"The chancellor will no doubt tell us today how wonderfully the economy is doing,\" he said. \"But a lot of that is built on an increase in personal and consumer debt over the last few years - that makes the economy quite vulnerable potentially if interest rates ever do have to go up in a significant way.\" SNP leader Alex Salmond said his party would introduce a Â£2,000 grant for first time buyers, reduce corporation tax and introduce a citizens pension free from means testing. Plaid Cymru's economics spokesman Adam Price said he wanted help to get people on the housing ladder and an increase in the minimum wage to Â£5.60 an hour.\\n   \n",
              "1                                                                                                                                                     Army chiefs in regiments decision\\n \\n Military chiefs are expected to meet to make a final decision on the future of Scotland's Army regiments.\\n \\n A committee of the Army Board, which is made up of the most senior defence figures, will discuss plans for restructuring regiments on Monday. The proposals include cutting Scotland's six single-battalion regiments to five and merging these into a super regiment. The plans have faced stiff opposition from campaigners and politicians alike. The committee's decision must be ratified by Defence Secretary Geoff Hoon and Prime Minister Tony Blair. It is expected that it will be made public next week. When ministers announced a reorganisation of the Army it drew a question mark over the futures of the Black Watch, the Kings Own Scottish Borderers, the Royal Scots, the Royal Highland Fusiliers and the Argyll and Sutherland Highlanders. In October, the Council of Scottish Colonels proposed the merger of the Royal Scots and the King's Own Scottish Borderers into a single battalion.\\n \\n Under their vision, it would be one of five in the new super regiment. The proposals to either merge or amalgamate the six regiments into a super regiment sparked a political outcry, with Labour backbenchers and opposition politicians opposing the plan. They felt the timing was insensitive because the Black Watch was in the frontline in Iraq, suffering casualties. The Save the Scottish Regiments campaigners were so angered they threatened to stand against Labour at the next general election.\\n \\n Speaking ahead of the expected Army Board meeting, a spokesman said: \"The government and the Army Board have spent the past four months attempting to trick serving soldiers and the public into thinking their planned changes for the Scottish regiments are for the good of the Army and for that of the serving soldier. \"They are very much not for the good and will destroy Scotland's regiments by moulding them into a single super regiment which will lead to severe recruitment problems, a loss of local connections to those regiments and a loss to Scotland of an important part of her heritage and, most importantly, her future - the regiments are the envy of armies around the world.\" An alternative blueprint had been put forward by Labour MP Eric Joyce, who proposed going ahead with the merger while preserving the other regiments. For a brief time, there was speculation the prime minister might consider the plan, but that now seems unlikely. Speaking in Scotland last week, Mr Blair said the aim was to preserve tradition but introduce a more effective structure and hinted that a super regiment was likely. He said: \"They don't want to get rid of the history or the traditions of the regiment or the local connections - far from it, all they want to do is make sure they can transfer people easily across regiments and deploy them more flexibly.\" The prime minister said he hoped campaigners' concerns would be taken into account but the need for effective change had to be paramount.\\n   \n",
              "2  Howard denies split over ID cards\\n \\n Michael Howard has denied his shadow cabinet was split over its decision to back controversial Labour plans to introduce ID cards.\\n \\n The Tory leader said his front bench team had reached a \"collective view\" after holding a \"good discussion\", but admitted it was \"not an easy issue\". He had decided to support the plans as the police said they would help fight terror, crime and illegal immigration. The Lib Dems have pledged to oppose the bill when it is debated next Monday.\\n \\n Tory sources say senior party figures had argued vociferously against the ID card scheme. Among those reported to have serious reservations over the strategy were senior shadow cabinet members David Davis, Oliver Letwin and Tim Yeo. But Mr Howard denied Mr Yeo, his transport and environment spokesman, said the plans \"stink\". He also said he was confident shadow home secretary Mr Davis would \"set out the position very clearly\" when he stands up to debate the matter next week. Mr Howard said the police had said ID cards could \"help them foil a terror bomb plot in which people could lose their lives\". He added: \"When the police say that you have to take them seriously\".\\n \\n He acknowledged there were \"good libertarian arguments\" against the cards, but said the shadow Cabinet had weighed up all the \"conflicting interests\" before reaching its decision. \"I don't pretend that it is an easy decision but at the end of the day a decision has to be taken.\" He also denied he was afraid of looking \"soft\" on the issue, compared to Labour. The Conservatives announced their support for the government plans on Monday evening.\\n \\n Sources within the party told the BBC Mr Howard had always been in favour of ID cards, and tried to introduce them when he was Home Secretary. But the Tories insisted they would hold ministers to account over the precise purpose of the scheme.\\n \\n They said they would also press Labour over whether objectives could be met and whether the Home Office would be able to deliver them. And they pledged to assess the cost effectiveness of ID cards and whether people's privacy would be properly protected. \"It is important to remember that this bill will take a decade to come into full effect,\" a spokesman said. Lib Dem home affairs spokesman Mark Oaten has branded the ID scheme a waste of money and \"deeply flawed\". He said: \"This has all the signs of Michael Howard overruling colleagues' concerns over ID cards.\"\\n \\n The chairman of the Bar Council, Guy Mansfield QC warned there was a real risk that people on the \"margins of society\" would be driven into the hands of extremists. \"What is going to happen to young Asian men when there has been a bomb gone off somewhere? They are going to be stopped. If they haven't [ID cards] they are going to be detained.\" Tory ex-minister Douglas Hogg said he opposed the plans for ID cards branding them a \"regressive\" step which would intrude into the lives of ordinary citizens without any counterbalancing benefits. He predicted ultimately carrying the cards would become compulsory and that would lead to large numbers of Britain's ethnic minorities being stopped by police.\\n   \n",
              "3                                                                             Observers to monitor UK election\\n \\n Ministers will invite international observers to check the forthcoming UK general election is fairly run.\\n \\n The move comes amid claims the poll could be marred by electoral fraud. A report by two MPs committees called on Thursday for urgent changes to the electoral registration system to combat vote rigging and boost turnout. But in a written response to Labour MP Gordon Prentice, the government said it would normally invite observers to any UK election.\\n \\n Junior constitutional affairs minister Christopher Leslie said: \"I fully expect us to repeat our previous practice of doing so once the date for the next general election is announced.\" The government has looked at ways of boosting voter turnout, which fell to 59% in the last general election in 2001.\\n \\n But trial all-postal ballots in four English regions last summer were hit by delays and some fraud allegations. Liberal Democrat peer Lord Greaves called last week for international observers at the general election - saying otherwise there could be months of court challenges \"on a scale not seen since the 19th Century\". Thursday's report was drawn up by two committees scrutinising the work of the Office of the Deputy Prime Minister (ODPM) and the Department for Constitutional Affairs (DCA). It said that, with the growth of postal voting, there was a strong case to tighten up fraud protection by requiring voters to register individually, rather than by household. It also said about three million people eligible to vote are not registered to do so.\\n \\n Figures for the 2001 general election suggest 29% of people aged between 18 and 24, and 19% of black voters were not on the electoral roll. Young people in shared accommodation are thought to miss out because no one acts as head of the household to fill in the form. ODPM committee chairman Andrew Bennett said individual voter registration, as opposed to registration by household, should be quickly introduced as it could \"dramatically reduce the chances of fraud\". But his counterpart on the DCA committee, Alan Beith, said it should be delayed \"until measures likely to increase registration have been put in place and proved effective.\" Shadow Constitutional Affairs Secretary Oliver Heald accused the government of \"dragging its feet\" over \"this badly needed measure\". \"It is vital that we move ahead with the Northern Ireland system of individual electoral registration to safeguard the integrity of the Britain's electoral system,\" he said.\\n \\n The report said individual registration should be treated carefully as 12% of voters disappeared from the electoral roll in Northern Ireland when it was introduced in 2002. The report said the government should consider fines for unregistered voters, but accepted many experts said it would be an expensive system that would be hard to enforce. It said incentives to register, such as Â£20 council tax rebate, were likely to be seen as \"gimmicks\" and risked undermining the integrity of the system, MPs said. Instead they called for \"imaginative campaigns\" to boost interest.\\n   \n",
              "4                                                                                                                                                                                                                                                                                                                                                                                                                                                                                                                                                                               Kilroy names election seat target\\n \\n Ex-chat show host Robert Kilroy-Silk is to contest the Derbyshire seat of Erewash at the next general election.\\n \\n Labour's Elizabeth Blackman won the seat in 1997 and has a 6,932 majority. She says she will fight on her record \"as a hard-working constituency MP\". Mr Kilroy-Silk announced his plans a day after launching his new party, Veritas, the Latin for truth. The East Midlands MEP, who quit the UK Independence Party, wants his new group to \"change the face\" of UK politics. His choice of election constituency quashes speculation that he would stand against Defence Secretary Geoff Hoon in Ashfield, Nottinghamshire. UKIP won 31% of the vote in Erewash in last June's European elections - with Mr Kilroy-Silk among their candidates for the region. Until 1997, Erewash had been held by the Tories since 1970. Ms Blackman said she was proud of the government's achievements in the area. She declined to give her view of Mr Kilroy-Silk at this point.\\n \\n On Thursday, he told a London news conference that Veritas would avoid the old parties' \"lies and spin\". He said \"our country\" was being \"stolen from us\" by mass immigration and promised a \"firm but fair\" policy on immigration. Veritas says it hopes to contest most seats at the forthcoming general election but plans to announce detailed policies on crime, tax, pensions, health and defence over the next few weeks.\\n \\n UKIP leader Roger Knapman says he is glad to see the back of Mr Kilroy-Silk. Labour campaign spokesman Fraser Kemp said Veritas was joining \"an already crowded field on the right of British politics\". Mr Kilroy-Silk was joined in the new venture by one of UKIP's two London Assembly members, Damien Hockney, who is now Veritas' deputy leader.\\n \\n UKIP's chairman Petrina Holdsworth has said the group will just be a parody of the party the men have left. Mr Kilroy-Silk quit UKIP last week after months of tension as he vied unsuccessfully for the leadership of that party. He said he was ashamed to be a member of a UKIP whose leadership had \"gone AWOL\" after the great opportunity offered by its third place at last June's European elections. UKIP's leader, Roger Knapman, has said he is glad to see the back of Mr Kilroy-Silk. \"He has remarkable ability to influence people but, sadly, after the [European] election it became clear that he was more interested in the Robert Kilroy-Silk Party than the UK Independence Party so it was nice knowing him, now 'goodbye',\" he said. UKIP officials also argue Mr Kilroy-Silk has not been \"straightforward\" in attacking the party he once wanted to lead.\\n   \n",
              "\n",
              "   Category  \n",
              "0  Politics  \n",
              "1  Politics  \n",
              "2  Politics  \n",
              "3  Politics  \n",
              "4  Politics  "
            ],
            "text/html": [
              "\n",
              "  <div id=\"df-20e1f0f3-620c-42d5-8c9c-305ac515ac74\" class=\"colab-df-container\">\n",
              "    <div>\n",
              "<style scoped>\n",
              "    .dataframe tbody tr th:only-of-type {\n",
              "        vertical-align: middle;\n",
              "    }\n",
              "\n",
              "    .dataframe tbody tr th {\n",
              "        vertical-align: top;\n",
              "    }\n",
              "\n",
              "    .dataframe thead th {\n",
              "        text-align: right;\n",
              "    }\n",
              "</style>\n",
              "<table border=\"1\" class=\"dataframe\">\n",
              "  <thead>\n",
              "    <tr style=\"text-align: right;\">\n",
              "      <th></th>\n",
              "      <th>Text</th>\n",
              "      <th>Category</th>\n",
              "    </tr>\n",
              "  </thead>\n",
              "  <tbody>\n",
              "    <tr>\n",
              "      <th>0</th>\n",
              "      <td>Budget to set scene for election\\n \\n Gordon Brown will seek to put the economy at the centre of Labour's bid for a third term in power when he delivers his ninth Budget at 1230 GMT. He is expected to stress the importance of continued economic stability, with low unemployment and interest rates. The chancellor is expected to freeze petrol duty and raise the stamp duty threshold from Â£60,000. But the Conservatives and Lib Dems insist voters face higher taxes and more means-testing under Labour.\\n \\n Treasury officials have said there will not be a pre-election giveaway, but Mr Brown is thought to have about Â£2bn to spare.\\n \\n - Increase in the stamp duty threshold from Â£60,000 \\n  - A freeze on petrol duty \\n  - An extension of tax credit scheme for poorer families \\n  - Possible help for pensioners The stamp duty threshold rise is intended to help first time buyers - a likely theme of all three of the main parties' general election manifestos. Ten years ago, buyers had a much greater chance of avoiding stamp duty, with close to half a million properties, in England and Wales alone, selling for less than Â£60,000. Since then, average UK property prices have more than doubled while the starting threshold for stamp duty has not increased. Tax credits As a result, the number of properties incurring stamp duty has rocketed as has the government's tax take. The Liberal Democrats unveiled their own proposals to raise the stamp duty threshold to Â£150,000 in February.\\n \\n The Tories are also thought likely to propose increased thresholds, with shadow chancellor Oliver Letwin branding stamp duty a \"classic Labour stealth tax\". The Tories say whatever the chancellor gives away will be clawed back in higher taxes if Labour is returned to power. Shadow Treasury chief secretary George Osborne said: \"Everyone who looks at the British economy at the moment says there has been a sharp deterioration in the public finances, that there is a black hole,\" he said. \"If Labour is elected there will be a very substantial tax increase in the Budget after the election, of the order of around Â£10bn.\"\\n \\n But Mr Brown's former advisor Ed Balls, now a parliamentary hopeful, said an examination of Tory plans for the economy showed there would be a Â£35bn difference in investment by the end of the next parliament between the two main parties. He added: \"I don't accept there is any need for any changes to the plans we have set out to meet our spending commitments.\"\\n \\n For the Lib Dems David Laws said: \"The chancellor will no doubt tell us today how wonderfully the economy is doing,\" he said. \"But a lot of that is built on an increase in personal and consumer debt over the last few years - that makes the economy quite vulnerable potentially if interest rates ever do have to go up in a significant way.\" SNP leader Alex Salmond said his party would introduce a Â£2,000 grant for first time buyers, reduce corporation tax and introduce a citizens pension free from means testing. Plaid Cymru's economics spokesman Adam Price said he wanted help to get people on the housing ladder and an increase in the minimum wage to Â£5.60 an hour.\\n</td>\n",
              "      <td>Politics</td>\n",
              "    </tr>\n",
              "    <tr>\n",
              "      <th>1</th>\n",
              "      <td>Army chiefs in regiments decision\\n \\n Military chiefs are expected to meet to make a final decision on the future of Scotland's Army regiments.\\n \\n A committee of the Army Board, which is made up of the most senior defence figures, will discuss plans for restructuring regiments on Monday. The proposals include cutting Scotland's six single-battalion regiments to five and merging these into a super regiment. The plans have faced stiff opposition from campaigners and politicians alike. The committee's decision must be ratified by Defence Secretary Geoff Hoon and Prime Minister Tony Blair. It is expected that it will be made public next week. When ministers announced a reorganisation of the Army it drew a question mark over the futures of the Black Watch, the Kings Own Scottish Borderers, the Royal Scots, the Royal Highland Fusiliers and the Argyll and Sutherland Highlanders. In October, the Council of Scottish Colonels proposed the merger of the Royal Scots and the King's Own Scottish Borderers into a single battalion.\\n \\n Under their vision, it would be one of five in the new super regiment. The proposals to either merge or amalgamate the six regiments into a super regiment sparked a political outcry, with Labour backbenchers and opposition politicians opposing the plan. They felt the timing was insensitive because the Black Watch was in the frontline in Iraq, suffering casualties. The Save the Scottish Regiments campaigners were so angered they threatened to stand against Labour at the next general election.\\n \\n Speaking ahead of the expected Army Board meeting, a spokesman said: \"The government and the Army Board have spent the past four months attempting to trick serving soldiers and the public into thinking their planned changes for the Scottish regiments are for the good of the Army and for that of the serving soldier. \"They are very much not for the good and will destroy Scotland's regiments by moulding them into a single super regiment which will lead to severe recruitment problems, a loss of local connections to those regiments and a loss to Scotland of an important part of her heritage and, most importantly, her future - the regiments are the envy of armies around the world.\" An alternative blueprint had been put forward by Labour MP Eric Joyce, who proposed going ahead with the merger while preserving the other regiments. For a brief time, there was speculation the prime minister might consider the plan, but that now seems unlikely. Speaking in Scotland last week, Mr Blair said the aim was to preserve tradition but introduce a more effective structure and hinted that a super regiment was likely. He said: \"They don't want to get rid of the history or the traditions of the regiment or the local connections - far from it, all they want to do is make sure they can transfer people easily across regiments and deploy them more flexibly.\" The prime minister said he hoped campaigners' concerns would be taken into account but the need for effective change had to be paramount.\\n</td>\n",
              "      <td>Politics</td>\n",
              "    </tr>\n",
              "    <tr>\n",
              "      <th>2</th>\n",
              "      <td>Howard denies split over ID cards\\n \\n Michael Howard has denied his shadow cabinet was split over its decision to back controversial Labour plans to introduce ID cards.\\n \\n The Tory leader said his front bench team had reached a \"collective view\" after holding a \"good discussion\", but admitted it was \"not an easy issue\". He had decided to support the plans as the police said they would help fight terror, crime and illegal immigration. The Lib Dems have pledged to oppose the bill when it is debated next Monday.\\n \\n Tory sources say senior party figures had argued vociferously against the ID card scheme. Among those reported to have serious reservations over the strategy were senior shadow cabinet members David Davis, Oliver Letwin and Tim Yeo. But Mr Howard denied Mr Yeo, his transport and environment spokesman, said the plans \"stink\". He also said he was confident shadow home secretary Mr Davis would \"set out the position very clearly\" when he stands up to debate the matter next week. Mr Howard said the police had said ID cards could \"help them foil a terror bomb plot in which people could lose their lives\". He added: \"When the police say that you have to take them seriously\".\\n \\n He acknowledged there were \"good libertarian arguments\" against the cards, but said the shadow Cabinet had weighed up all the \"conflicting interests\" before reaching its decision. \"I don't pretend that it is an easy decision but at the end of the day a decision has to be taken.\" He also denied he was afraid of looking \"soft\" on the issue, compared to Labour. The Conservatives announced their support for the government plans on Monday evening.\\n \\n Sources within the party told the BBC Mr Howard had always been in favour of ID cards, and tried to introduce them when he was Home Secretary. But the Tories insisted they would hold ministers to account over the precise purpose of the scheme.\\n \\n They said they would also press Labour over whether objectives could be met and whether the Home Office would be able to deliver them. And they pledged to assess the cost effectiveness of ID cards and whether people's privacy would be properly protected. \"It is important to remember that this bill will take a decade to come into full effect,\" a spokesman said. Lib Dem home affairs spokesman Mark Oaten has branded the ID scheme a waste of money and \"deeply flawed\". He said: \"This has all the signs of Michael Howard overruling colleagues' concerns over ID cards.\"\\n \\n The chairman of the Bar Council, Guy Mansfield QC warned there was a real risk that people on the \"margins of society\" would be driven into the hands of extremists. \"What is going to happen to young Asian men when there has been a bomb gone off somewhere? They are going to be stopped. If they haven't [ID cards] they are going to be detained.\" Tory ex-minister Douglas Hogg said he opposed the plans for ID cards branding them a \"regressive\" step which would intrude into the lives of ordinary citizens without any counterbalancing benefits. He predicted ultimately carrying the cards would become compulsory and that would lead to large numbers of Britain's ethnic minorities being stopped by police.\\n</td>\n",
              "      <td>Politics</td>\n",
              "    </tr>\n",
              "    <tr>\n",
              "      <th>3</th>\n",
              "      <td>Observers to monitor UK election\\n \\n Ministers will invite international observers to check the forthcoming UK general election is fairly run.\\n \\n The move comes amid claims the poll could be marred by electoral fraud. A report by two MPs committees called on Thursday for urgent changes to the electoral registration system to combat vote rigging and boost turnout. But in a written response to Labour MP Gordon Prentice, the government said it would normally invite observers to any UK election.\\n \\n Junior constitutional affairs minister Christopher Leslie said: \"I fully expect us to repeat our previous practice of doing so once the date for the next general election is announced.\" The government has looked at ways of boosting voter turnout, which fell to 59% in the last general election in 2001.\\n \\n But trial all-postal ballots in four English regions last summer were hit by delays and some fraud allegations. Liberal Democrat peer Lord Greaves called last week for international observers at the general election - saying otherwise there could be months of court challenges \"on a scale not seen since the 19th Century\". Thursday's report was drawn up by two committees scrutinising the work of the Office of the Deputy Prime Minister (ODPM) and the Department for Constitutional Affairs (DCA). It said that, with the growth of postal voting, there was a strong case to tighten up fraud protection by requiring voters to register individually, rather than by household. It also said about three million people eligible to vote are not registered to do so.\\n \\n Figures for the 2001 general election suggest 29% of people aged between 18 and 24, and 19% of black voters were not on the electoral roll. Young people in shared accommodation are thought to miss out because no one acts as head of the household to fill in the form. ODPM committee chairman Andrew Bennett said individual voter registration, as opposed to registration by household, should be quickly introduced as it could \"dramatically reduce the chances of fraud\". But his counterpart on the DCA committee, Alan Beith, said it should be delayed \"until measures likely to increase registration have been put in place and proved effective.\" Shadow Constitutional Affairs Secretary Oliver Heald accused the government of \"dragging its feet\" over \"this badly needed measure\". \"It is vital that we move ahead with the Northern Ireland system of individual electoral registration to safeguard the integrity of the Britain's electoral system,\" he said.\\n \\n The report said individual registration should be treated carefully as 12% of voters disappeared from the electoral roll in Northern Ireland when it was introduced in 2002. The report said the government should consider fines for unregistered voters, but accepted many experts said it would be an expensive system that would be hard to enforce. It said incentives to register, such as Â£20 council tax rebate, were likely to be seen as \"gimmicks\" and risked undermining the integrity of the system, MPs said. Instead they called for \"imaginative campaigns\" to boost interest.\\n</td>\n",
              "      <td>Politics</td>\n",
              "    </tr>\n",
              "    <tr>\n",
              "      <th>4</th>\n",
              "      <td>Kilroy names election seat target\\n \\n Ex-chat show host Robert Kilroy-Silk is to contest the Derbyshire seat of Erewash at the next general election.\\n \\n Labour's Elizabeth Blackman won the seat in 1997 and has a 6,932 majority. She says she will fight on her record \"as a hard-working constituency MP\". Mr Kilroy-Silk announced his plans a day after launching his new party, Veritas, the Latin for truth. The East Midlands MEP, who quit the UK Independence Party, wants his new group to \"change the face\" of UK politics. His choice of election constituency quashes speculation that he would stand against Defence Secretary Geoff Hoon in Ashfield, Nottinghamshire. UKIP won 31% of the vote in Erewash in last June's European elections - with Mr Kilroy-Silk among their candidates for the region. Until 1997, Erewash had been held by the Tories since 1970. Ms Blackman said she was proud of the government's achievements in the area. She declined to give her view of Mr Kilroy-Silk at this point.\\n \\n On Thursday, he told a London news conference that Veritas would avoid the old parties' \"lies and spin\". He said \"our country\" was being \"stolen from us\" by mass immigration and promised a \"firm but fair\" policy on immigration. Veritas says it hopes to contest most seats at the forthcoming general election but plans to announce detailed policies on crime, tax, pensions, health and defence over the next few weeks.\\n \\n UKIP leader Roger Knapman says he is glad to see the back of Mr Kilroy-Silk. Labour campaign spokesman Fraser Kemp said Veritas was joining \"an already crowded field on the right of British politics\". Mr Kilroy-Silk was joined in the new venture by one of UKIP's two London Assembly members, Damien Hockney, who is now Veritas' deputy leader.\\n \\n UKIP's chairman Petrina Holdsworth has said the group will just be a parody of the party the men have left. Mr Kilroy-Silk quit UKIP last week after months of tension as he vied unsuccessfully for the leadership of that party. He said he was ashamed to be a member of a UKIP whose leadership had \"gone AWOL\" after the great opportunity offered by its third place at last June's European elections. UKIP's leader, Roger Knapman, has said he is glad to see the back of Mr Kilroy-Silk. \"He has remarkable ability to influence people but, sadly, after the [European] election it became clear that he was more interested in the Robert Kilroy-Silk Party than the UK Independence Party so it was nice knowing him, now 'goodbye',\" he said. UKIP officials also argue Mr Kilroy-Silk has not been \"straightforward\" in attacking the party he once wanted to lead.\\n</td>\n",
              "      <td>Politics</td>\n",
              "    </tr>\n",
              "  </tbody>\n",
              "</table>\n",
              "</div>\n",
              "    <div class=\"colab-df-buttons\">\n",
              "\n",
              "  <div class=\"colab-df-container\">\n",
              "    <button class=\"colab-df-convert\" onclick=\"convertToInteractive('df-20e1f0f3-620c-42d5-8c9c-305ac515ac74')\"\n",
              "            title=\"Convert this dataframe to an interactive table.\"\n",
              "            style=\"display:none;\">\n",
              "\n",
              "  <svg xmlns=\"http://www.w3.org/2000/svg\" height=\"24px\" viewBox=\"0 -960 960 960\">\n",
              "    <path d=\"M120-120v-720h720v720H120Zm60-500h600v-160H180v160Zm220 220h160v-160H400v160Zm0 220h160v-160H400v160ZM180-400h160v-160H180v160Zm440 0h160v-160H620v160ZM180-180h160v-160H180v160Zm440 0h160v-160H620v160Z\"/>\n",
              "  </svg>\n",
              "    </button>\n",
              "\n",
              "  <style>\n",
              "    .colab-df-container {\n",
              "      display:flex;\n",
              "      gap: 12px;\n",
              "    }\n",
              "\n",
              "    .colab-df-convert {\n",
              "      background-color: #E8F0FE;\n",
              "      border: none;\n",
              "      border-radius: 50%;\n",
              "      cursor: pointer;\n",
              "      display: none;\n",
              "      fill: #1967D2;\n",
              "      height: 32px;\n",
              "      padding: 0 0 0 0;\n",
              "      width: 32px;\n",
              "    }\n",
              "\n",
              "    .colab-df-convert:hover {\n",
              "      background-color: #E2EBFA;\n",
              "      box-shadow: 0px 1px 2px rgba(60, 64, 67, 0.3), 0px 1px 3px 1px rgba(60, 64, 67, 0.15);\n",
              "      fill: #174EA6;\n",
              "    }\n",
              "\n",
              "    .colab-df-buttons div {\n",
              "      margin-bottom: 4px;\n",
              "    }\n",
              "\n",
              "    [theme=dark] .colab-df-convert {\n",
              "      background-color: #3B4455;\n",
              "      fill: #D2E3FC;\n",
              "    }\n",
              "\n",
              "    [theme=dark] .colab-df-convert:hover {\n",
              "      background-color: #434B5C;\n",
              "      box-shadow: 0px 1px 3px 1px rgba(0, 0, 0, 0.15);\n",
              "      filter: drop-shadow(0px 1px 2px rgba(0, 0, 0, 0.3));\n",
              "      fill: #FFFFFF;\n",
              "    }\n",
              "  </style>\n",
              "\n",
              "    <script>\n",
              "      const buttonEl =\n",
              "        document.querySelector('#df-20e1f0f3-620c-42d5-8c9c-305ac515ac74 button.colab-df-convert');\n",
              "      buttonEl.style.display =\n",
              "        google.colab.kernel.accessAllowed ? 'block' : 'none';\n",
              "\n",
              "      async function convertToInteractive(key) {\n",
              "        const element = document.querySelector('#df-20e1f0f3-620c-42d5-8c9c-305ac515ac74');\n",
              "        const dataTable =\n",
              "          await google.colab.kernel.invokeFunction('convertToInteractive',\n",
              "                                                    [key], {});\n",
              "        if (!dataTable) return;\n",
              "\n",
              "        const docLinkHtml = 'Like what you see? Visit the ' +\n",
              "          '<a target=\"_blank\" href=https://colab.research.google.com/notebooks/data_table.ipynb>data table notebook</a>'\n",
              "          + ' to learn more about interactive tables.';\n",
              "        element.innerHTML = '';\n",
              "        dataTable['output_type'] = 'display_data';\n",
              "        await google.colab.output.renderOutput(dataTable, element);\n",
              "        const docLink = document.createElement('div');\n",
              "        docLink.innerHTML = docLinkHtml;\n",
              "        element.appendChild(docLink);\n",
              "      }\n",
              "    </script>\n",
              "  </div>\n",
              "\n",
              "\n",
              "<div id=\"df-33a07853-49f3-4d32-906a-897986b96713\">\n",
              "  <button class=\"colab-df-quickchart\" onclick=\"quickchart('df-33a07853-49f3-4d32-906a-897986b96713')\"\n",
              "            title=\"Suggest charts\"\n",
              "            style=\"display:none;\">\n",
              "\n",
              "<svg xmlns=\"http://www.w3.org/2000/svg\" height=\"24px\"viewBox=\"0 0 24 24\"\n",
              "     width=\"24px\">\n",
              "    <g>\n",
              "        <path d=\"M19 3H5c-1.1 0-2 .9-2 2v14c0 1.1.9 2 2 2h14c1.1 0 2-.9 2-2V5c0-1.1-.9-2-2-2zM9 17H7v-7h2v7zm4 0h-2V7h2v10zm4 0h-2v-4h2v4z\"/>\n",
              "    </g>\n",
              "</svg>\n",
              "  </button>\n",
              "\n",
              "<style>\n",
              "  .colab-df-quickchart {\n",
              "      --bg-color: #E8F0FE;\n",
              "      --fill-color: #1967D2;\n",
              "      --hover-bg-color: #E2EBFA;\n",
              "      --hover-fill-color: #174EA6;\n",
              "      --disabled-fill-color: #AAA;\n",
              "      --disabled-bg-color: #DDD;\n",
              "  }\n",
              "\n",
              "  [theme=dark] .colab-df-quickchart {\n",
              "      --bg-color: #3B4455;\n",
              "      --fill-color: #D2E3FC;\n",
              "      --hover-bg-color: #434B5C;\n",
              "      --hover-fill-color: #FFFFFF;\n",
              "      --disabled-bg-color: #3B4455;\n",
              "      --disabled-fill-color: #666;\n",
              "  }\n",
              "\n",
              "  .colab-df-quickchart {\n",
              "    background-color: var(--bg-color);\n",
              "    border: none;\n",
              "    border-radius: 50%;\n",
              "    cursor: pointer;\n",
              "    display: none;\n",
              "    fill: var(--fill-color);\n",
              "    height: 32px;\n",
              "    padding: 0;\n",
              "    width: 32px;\n",
              "  }\n",
              "\n",
              "  .colab-df-quickchart:hover {\n",
              "    background-color: var(--hover-bg-color);\n",
              "    box-shadow: 0 1px 2px rgba(60, 64, 67, 0.3), 0 1px 3px 1px rgba(60, 64, 67, 0.15);\n",
              "    fill: var(--button-hover-fill-color);\n",
              "  }\n",
              "\n",
              "  .colab-df-quickchart-complete:disabled,\n",
              "  .colab-df-quickchart-complete:disabled:hover {\n",
              "    background-color: var(--disabled-bg-color);\n",
              "    fill: var(--disabled-fill-color);\n",
              "    box-shadow: none;\n",
              "  }\n",
              "\n",
              "  .colab-df-spinner {\n",
              "    border: 2px solid var(--fill-color);\n",
              "    border-color: transparent;\n",
              "    border-bottom-color: var(--fill-color);\n",
              "    animation:\n",
              "      spin 1s steps(1) infinite;\n",
              "  }\n",
              "\n",
              "  @keyframes spin {\n",
              "    0% {\n",
              "      border-color: transparent;\n",
              "      border-bottom-color: var(--fill-color);\n",
              "      border-left-color: var(--fill-color);\n",
              "    }\n",
              "    20% {\n",
              "      border-color: transparent;\n",
              "      border-left-color: var(--fill-color);\n",
              "      border-top-color: var(--fill-color);\n",
              "    }\n",
              "    30% {\n",
              "      border-color: transparent;\n",
              "      border-left-color: var(--fill-color);\n",
              "      border-top-color: var(--fill-color);\n",
              "      border-right-color: var(--fill-color);\n",
              "    }\n",
              "    40% {\n",
              "      border-color: transparent;\n",
              "      border-right-color: var(--fill-color);\n",
              "      border-top-color: var(--fill-color);\n",
              "    }\n",
              "    60% {\n",
              "      border-color: transparent;\n",
              "      border-right-color: var(--fill-color);\n",
              "    }\n",
              "    80% {\n",
              "      border-color: transparent;\n",
              "      border-right-color: var(--fill-color);\n",
              "      border-bottom-color: var(--fill-color);\n",
              "    }\n",
              "    90% {\n",
              "      border-color: transparent;\n",
              "      border-bottom-color: var(--fill-color);\n",
              "    }\n",
              "  }\n",
              "</style>\n",
              "\n",
              "  <script>\n",
              "    async function quickchart(key) {\n",
              "      const quickchartButtonEl =\n",
              "        document.querySelector('#' + key + ' button');\n",
              "      quickchartButtonEl.disabled = true;  // To prevent multiple clicks.\n",
              "      quickchartButtonEl.classList.add('colab-df-spinner');\n",
              "      try {\n",
              "        const charts = await google.colab.kernel.invokeFunction(\n",
              "            'suggestCharts', [key], {});\n",
              "      } catch (error) {\n",
              "        console.error('Error during call to suggestCharts:', error);\n",
              "      }\n",
              "      quickchartButtonEl.classList.remove('colab-df-spinner');\n",
              "      quickchartButtonEl.classList.add('colab-df-quickchart-complete');\n",
              "    }\n",
              "    (() => {\n",
              "      let quickchartButtonEl =\n",
              "        document.querySelector('#df-33a07853-49f3-4d32-906a-897986b96713 button');\n",
              "      quickchartButtonEl.style.display =\n",
              "        google.colab.kernel.accessAllowed ? 'block' : 'none';\n",
              "    })();\n",
              "  </script>\n",
              "</div>\n",
              "\n",
              "    </div>\n",
              "  </div>\n"
            ],
            "application/vnd.google.colaboratory.intrinsic+json": {
              "type": "dataframe",
              "variable_name": "clustered_data",
              "summary": "{\n  \"name\": \"clustered_data\",\n  \"rows\": 2127,\n  \"fields\": [\n    {\n      \"column\": \"Text\",\n      \"properties\": {\n        \"dtype\": \"string\",\n        \"num_unique_values\": 2127,\n        \"samples\": [\n          \"Blair congratulates Bush on win\\n \\n Tony Blair has said he looks forward to continuing his strong relationship with George Bush and working with him during his second term as president.\\n \\n Mr Bush's re-election came at a crucial time for a world that was \\\"fractured, divided and uncertain\\\", Mr Blair said. It had to be brought together, he added, saying action was needed on poverty, the Middle East and the conditions on which terrorists prey. Mr Blair said states had to work with the US to fight global terrorism.\\n \\n But there was a need to recognise it would not be defeated by \\\"military might alone but also by demonstrating the strength of our common values\\\" he added. Solving the conflict in the Middle East was the world's single most \\\"pressing political challenge\\\" of the present day, Mr Blair warned. The prime minister also urged Europe and the US to \\\"build anew their alliance\\\".\\n \\n \\\"All of us in positions of leadership, not just President Bush, have a responsibility to rise to this challenge. It is urgent that we do so.\\\" Mr Blair also paid tribute to Democrat John Kerry's campaign, saying he had helped make the presidential election \\\"a true celebration of American democracy\\\". The election of the US president was significant for the world but particularly so for Britain because of its special relationship, he added. Earlier Tory leader Michael Howard sent Mr Bush his \\\"warmest congratulations\\\", saying: \\\"We look to the president to be a unifying force for those all over the world who share our determination to defend freedom.\\\" Liberal Democrat leader Charles Kennedy welcomed the fact there had been a quick conclusion to the election, unlike in 2000.\\n \\n Mr Bush's first task was to \\\"rebuild a sense of domestic purpose\\\" within the US, he said. Mr Kennedy said: \\\"Internationally, it is to be hoped that a second term will see a more sensitive approach to relations with long-standing allies, not least for the global efforts to combat terrorism.\\\" Lib Dem foreign affairs spokesman Menzies Campbell said a win by Mr Kerry would have given Mr Blair the chance of a fresh start, adding it was almost as if there was an \\\"umbilical cord\\\" between Mr Bush and the UK premier.\\n \\n \\\"Europeans must hope that his administration will be much more multilateral in character, and that he will act swiftly to rebuild the Atlantic partnership which is so vital to security. \\\"Iraq will remain an issue of potential division for some time to come.\\\" Even before the result became clear, Mr Blair was being urged to push for action on climate change at his first meeting with whichever candidate won.\\n \\n Liberal Democrat environment spokesman Norman Baker underlined the issue of global warming during a Commons debate on Anglo-American relations on Wednesday. Environment Secretary Margaret Beckett has said the US will act on global warming despite George Bush's refusal to sign up to the Kyoto protocol on carbon emissions. Public opinion would force change, she told BBC news. But Myron Ebell, an adviser on climate change to President Bush, has said there would be no change in the US stance and rejected the threat of climate change. He claimed the US was the only country with independent scientists.\\n\",\n          \"China Aviation seeks rescue deal\\n \\n Scandal-hit jet fuel supplier China Aviation Oil has offered to repay its creditors $220m (\\u00c2\\u00a3117m) of the $550m it lost on trading in oil futures.\\n \\n The firm said it hoped to pay $100m now and another $120m over eight years. With assets of $200m and liabilities totalling $648m, it needs creditors' backing for the offer to avoid going into bankruptcy. The trading scandal is the biggest to hit Singapore since the $1.2bn collapse of Barings Bank in 1995. Chen Jiulin, chief executive of China Aviation Oil (CAO), was arrested by at Changi Airport by Singapore police on 8 December. He was returning from China, where he had headed when CAO announced its trading debacle in late-November. The firm had been betting heavily on a fall in the price of oil during October, but prices rose sharply instead.\\n \\n Among the creditors whose backing CAO needs for its restructuring plan are banking giants such as Barclay's Capital and Sumitomo Mitsui, as well as South Korean firm SK Energy. Of the immediate payment, the firm - China's biggest jet fuel supplier - said it would be paying $30m out of its own resources. The rest would come from its parent company, China Aviation Oil Holding Company in Beijing. The holding company, owned by the Chinese government, holds most of CAO's Singapore-listed shares. It cut its holding from 75% to 60% on 20 October.\\n\",\n          \"Yukos heading back to US courts\\n \\n Russian oil and gas company Yukos is due in a US court on Thursday as it continues to fight for its survival.\\n \\n The firm is in the process of being broken up by Russian authorities in order to pay a $27bn (\\u00c2\\u00a314bn) tax bill. Yukos filed for bankruptcy in the US, hoping to use international business law to halt the forced sale of its key oil production unit, Yuganskneftegas. The unit was however sold for $9.4bn to state oil firm Rosneft but only after the state auction had been disrupted.\\n \\n Yukos lawyers now say the auction violated US bankruptcy law. The company and its main shareholders have vowed to go after any company that buys its assets, using all and every legal means. The company wants damages of $20bn, claiming Yuganskneftegas was sold at less than market value. Judge Letitia Clark will hear different motions, including one from Deutsche Bank to throw out the Chapter 11 bankruptcy filing. The German lender is one of six banks that were barred from providing financing to Gazprom, the Russian state-owned company that was expected to win the auction for Yuganskneftegas. Deutsche Bank, which is also an advisor to Gazprom, has called on the US court to overturn its decision to provide Yukos with bankruptcy protection.\\n \\n Lifting the injunction would remove the uncertainty that surrounds the court case and clarify Deutsche Bank's business position, analysts said.\\n \\n Analysts are not optimistic about Yukos' chances in court. Russian President Vladimir Putin and the country's legal authorities have repeatedly said that the US has no jurisdiction over Yukos and its legal wranglings. On top of that, the firm only has limited assets in the US. Yukos has won small victories, however, and is bullish about its chances in court. \\\"Do we have an ability to influence what happens? We think we do,\\\" said Mike Lake, a Yukos spokesman. \\\"The litigation risks are real,\\\" said Credit Suisse First Boston analyst Vadim Mitroshin The dispute with the Russian authorities is partly driven by President Putin's clampdown on the political ambitions of ex-Yukos boss Mikhail Khodorkovsky. Mr Khodorkovsky is in jail on charges of fraud and tax evasion.\\n\"\n        ],\n        \"semantic_type\": \"\",\n        \"description\": \"\"\n      }\n    },\n    {\n      \"column\": \"Category\",\n      \"properties\": {\n        \"dtype\": \"category\",\n        \"num_unique_values\": 5,\n        \"samples\": [\n          \"Entertainment\",\n          \"Sports\",\n          \"Technology\"\n        ],\n        \"semantic_type\": \"\",\n        \"description\": \"\"\n      }\n    }\n  ]\n}"
            }
          },
          "metadata": {},
          "execution_count": 30
        }
      ]
    },
    {
      "cell_type": "markdown",
      "metadata": {
        "id": "3hm4-zm4j8vb"
      },
      "source": [
        "## **Comparing with Actual Categories**"
      ]
    },
    {
      "cell_type": "code",
      "source": [
        "# loading the actual labels\n",
        "labels = pd.read_csv(\"/content/drive/news_article_labels.csv\")"
      ],
      "metadata": {
        "id": "8FdsQ9OOGSZe"
      },
      "execution_count": 31,
      "outputs": []
    },
    {
      "cell_type": "code",
      "source": [
        "labels.shape"
      ],
      "metadata": {
        "colab": {
          "base_uri": "https://localhost:8080/"
        },
        "id": "GMRasDc_y9G9",
        "outputId": "8240bab2-bc4c-4a72-f294-eff9ee20be54"
      },
      "execution_count": 32,
      "outputs": [
        {
          "output_type": "execute_result",
          "data": {
            "text/plain": [
              "(2127, 1)"
            ]
          },
          "metadata": {},
          "execution_count": 32
        }
      ]
    },
    {
      "cell_type": "code",
      "source": [
        "# checking the unique labels\n",
        "labels['Label'].unique()"
      ],
      "metadata": {
        "colab": {
          "base_uri": "https://localhost:8080/"
        },
        "id": "71GVALsl0CLO",
        "outputId": "ff12a417-324b-42b1-f284-dccbab60710a"
      },
      "execution_count": 33,
      "outputs": [
        {
          "output_type": "execute_result",
          "data": {
            "text/plain": [
              "array(['Politics', 'Sports', 'Technology', 'Entertainment', 'Business'],\n",
              "      dtype=object)"
            ]
          },
          "metadata": {},
          "execution_count": 33
        }
      ]
    },
    {
      "cell_type": "code",
      "source": [
        "# adding the actual categories to our dataframe\n",
        "clustered_data['Actual Category'] = labels['Label'].values"
      ],
      "metadata": {
        "id": "PKS4zyom5kaq"
      },
      "execution_count": 34,
      "outputs": []
    },
    {
      "cell_type": "code",
      "source": [
        "print(classification_report(clustered_data['Actual Category'], clustered_data['Category']))"
      ],
      "metadata": {
        "colab": {
          "base_uri": "https://localhost:8080/"
        },
        "id": "FmJOUJHy5qYr",
        "outputId": "5efef7c1-1be4-4fb0-cd7a-b6bb87be358d"
      },
      "execution_count": 35,
      "outputs": [
        {
          "output_type": "stream",
          "name": "stdout",
          "text": [
            "               precision    recall  f1-score   support\n",
            "\n",
            "     Business       0.96      0.93      0.95       503\n",
            "Entertainment       0.96      0.95      0.95       369\n",
            "     Politics       0.96      0.95      0.95       403\n",
            "       Sports       0.98      0.99      0.99       505\n",
            "   Technology       0.91      0.97      0.93       347\n",
            "\n",
            "     accuracy                           0.96      2127\n",
            "    macro avg       0.95      0.96      0.96      2127\n",
            " weighted avg       0.96      0.96      0.96      2127\n",
            "\n"
          ]
        }
      ]
    },
    {
      "cell_type": "markdown",
      "source": [
        "We were able to categorize the news articles with 96% accuracy\n",
        "\n",
        "- Note that we were able to do so WITHOUT knowing the actual labels for the news articles."
      ],
      "metadata": {
        "id": "_E7KBIF35JzS"
      }
    },
    {
      "cell_type": "markdown",
      "source": [
        "## **Analyzing Incorrect Predictions**"
      ],
      "metadata": {
        "id": "xP5x5M5a6kg1"
      }
    },
    {
      "cell_type": "markdown",
      "source": [
        "Let's check a few cases where our model incorrectly categorized the news articles."
      ],
      "metadata": {
        "id": "YwGLhbn65Y6r"
      }
    },
    {
      "cell_type": "code",
      "source": [
        "# creating a dataframe of incorrect categorizations\n",
        "incorrect_category_data = clustered_data[clustered_data['Actual Category'] != clustered_data['Category']].copy()\n",
        "incorrect_category_data.shape"
      ],
      "metadata": {
        "colab": {
          "base_uri": "https://localhost:8080/"
        },
        "id": "D6hxwjCX5gYL",
        "outputId": "91c8523c-2793-46e7-b7e9-a05fae126f4b"
      },
      "execution_count": 36,
      "outputs": [
        {
          "output_type": "execute_result",
          "data": {
            "text/plain": [
              "(91, 3)"
            ]
          },
          "metadata": {},
          "execution_count": 36
        }
      ]
    },
    {
      "cell_type": "code",
      "source": [
        "incorrect_category_data.head()"
      ],
      "metadata": {
        "colab": {
          "base_uri": "https://localhost:8080/",
          "height": 0
        },
        "id": "wXDidNvI6KWY",
        "outputId": "5f7b6f9f-acef-4eda-a001-28ff872dc27d"
      },
      "execution_count": 37,
      "outputs": [
        {
          "output_type": "execute_result",
          "data": {
            "text/plain": [
              "                                                                                                                                                                                                                                                                                                                                                                                                                                                                                                                                                                                                                                                                                                                                                                                                                                                                                                                                                                                                                                                                                                                                                                                                                                                                                                                                                                                                                                                                                                                                                                                                                                                                                                                                                                                                                                                                                                                                                                                                                                                                                                                                                                                                                                                                                                                                                                                                                                                                                                                                                                                                                                                                                                                                                                                                                                                                                                                                                                                                                                                                                                                                                                                                                                                                                                            Text  \\\n",
              "24   'Hitler' row over Welsh arts cash\\n \\n An artist critical of Welsh arts funding being brought under assembly government control has denied comparing the idea with dictatorships in Russia and Germany.\\n \\n Shani Rhys James is worried that the Arts Council of Wales may be taken over by the Welsh Assembly Government. Culture Minister Alun Pugh said it would be \"crass and ignorant\" to liken a quango review to Hitler's Germany. But Ms James emphasised she had actually said artists needed freedom. The future of the Arts Council of Wales has been in question since it was announced that most Welsh quangos would eventually be abolished.\\n \\n It was announced last July that three Welsh quangos, education and training body Elwa, the Wales Tourist Board and the Welsh Development Agency, would be brought under assembly government control. The Arts Council of Wales may be among the next to come under the assembly government's umbrella. But Ms James, who won the Â£30,000 Jerwood painting prize in 2003, said arts funding should be separate from government. Ms James told BBC Radio Wales: \"It's quite dangerous when you involve politicians because it's not like the health service and it's not like the railways. \"Free expression is absolutely vital in a democratic society. You need distance, you do not need government interference because it could be taken the wrong way.\"\\n \\n But she said reports that she had likened the assembly government to totalitarian regimes were inaccurate.\\n \\n She told Good Morning Wales: \"Just to put the record straight, that business in the paper where it said I likened the government to Bolshevik Russia or Hitler's Germany, the actual quote I gave was: 'It is vital to a civilised society that we allow artists to express themselves without government control'. \"As we know from past European history, i.e. Russia and Germany in the early 20th Century, artists will go underground or leave the country or rather than compromise their expression'. \"Artists need a free voice to express themselves - they reflect a truth through their own art forms.'\" She said the assembly government was not best placed to run the arts in Wales.\\n \\n She added: \"It would be a momentous change and devastating to the arts. It would set the arts scene back 60 years, because I really don't think the government has the expertise. \"If you have the National Assembly taking control, I fear you are going to be going back to the dragons and leeks and the choirs.\\n \\n \"Wales has moved on. It is international now. It is not set back in How Green Was My Valley?\" Responding to Ms James' criticisms, Mr Pugh said: \"The structure of unelected quangos is under review and we have made it clear that further announcements are due shortly. \"Comparing the Welsh Assembly Government to Hitler's Germany is a crass and ignorant response to a real issue about democratic accountability.\" Ms James, whose father was Welsh, was born in Melbourne where her parents worked in the theatre. She moved to Powys nearly 20 years ago where she works from her studio near Llangadfan. She has won a number of arts prizes including the Wales Open in 1989 and the Mostyn Open in 1991.\\n   \n",
              "34                                                                                                                                                                                                                                                                                                                                                                                                                                       Final hunts held as ban looms\\n \\n Hunts in England and Wales have begun on the last day that hunting with dogs is legal, with more due out later.\\n \\n Thousands of supporters are expected to turn out at more than 250 meets, many of which have altered their normal schedules to be out on a Thursday. The ban on hunting with dogs comes into effect from 0001 GMT on Friday. The Countryside Alliance had its latest legal bid to block the ban thwarted on Wednesday when the Appeal Court ruled the Hunting Act was lawful.\\n \\n But the group says hunting will continue in some form after the ban comes in, with hunts expected to test the new law to its limits. Others are expected to defy the ban by continuing to hunt illegally.\\n \\n Anti-hunt organisations, for whom the ban is the culmination of years of campaigning, say they hope most will stay within the law. Mike Hobday, of the League Against Cruel Sports, told BBC News: \"We've long urged them to go drag hunting - to follow an artificial scent - and that is what we hope they do. \"But if they continue to chase foxes, to chase wild mammals around the countryside, that's against the law and we're confident they'll be brought to justice.\" At the headquarters of Quorn hunt in Leicestershire, feelings were running high as hunt enthusiasts prepared for their final legal hunt. BBC correspondent Sarah Mukherjee said hunt supporters were in tears.\\n \\n She said many people did not share the Countryside Alliance's optimism that hunting would be able to continue. Farmer Geoff Brooks, a senior member of the Quorn hunt, told BBC News people's lives \"revolved around hunting\". He described the ban as \"ridiculous\" and \"badly thought out\" but said it would be hard for most people to defy it as they would not want to risk their incomes by getting a criminal record.\\n \\n At the Court of Appeal on Wednesday, the Countryside Alliance failed in its attempt to have the Hunting Act ruled invalid. But it says the ban is unenforceable because the law is unclear and impossible to police.\\n \\n The alliance says hunt supporters will go out and test this law to its limits on Saturday. The League Against Cruel Sports and the RSPCA say they will monitor hunts and assist police in bringing prosecutions. The Association of Chief Police Officers has issued guidance to forces on how to deal with the new rules. A spokesman said: \"Basically, it's not going to be police officers chasing about in cars across fields, it will be based on intelligence and information received as well.\" The decision on how to police individual hunts will be left to local forces, with more officers sent to hunts where disruption is expected. He said police would consider evidence submitted by anti-hunt organisations on its merits.\\n   \n",
              "45                                                                                                                                                                                                                                                                                                                                                                                                                                                                                                                                                                                                                                                                                                                                                                                                                                                                                                                                                                                                                                                                                                                                                                                                                                                                                                                                                                                                                                                                                                                                                                                                                                                                                                                               Drive to 'save' festive holidays\\n \\n Efforts are being made to 'protect' workers' days off on Christmas Day and New Year's Day.\\n \\n Support is being sought for a bill which would ensure that large retailers in Scotland remain closed on Christmas Day and 1 January. The Usdaw trade union said shop workers should be able to enjoy a break with their families. MSP Karen Whitefield wants to ensure only those whose roles are essential are at work over the festive season. In recent years, more stores have been opening on traditional holidays, with some starting their end-of-year sale on Christmas Day or New Year's Day. Ms Whitefield said: \"I have found members of the public to be very supportive when I have been campaigning on the streets.\\n \\n \"The early evidence shows quite clearly that the vast majority of people believe that shop workers should be given these two special days to spend with friends and family.\" Usdaw general secretary John Hannett added: \"Christmas Day and New Year's Day are special days for everyone in Scotland and the fact that shops do not open is an important part of making them special. They are largely collective days of rest. \"We want people to tell Karen, through her consultation, whether they want the special nature of these days to remain, or whether they want them to become like any other trading day, with shops open for business as usual.\" The consultation on a Christmas & New Year's Day Trading Bill has so far attracted almost 500 responses and closes on 7 February.\\n   \n",
              "52                                                                                                                                                                                                                                                                                                                                                                                                                                                                                                                                                                                                                                                                                                                                                                                                                                                                                                                                               Sport betting rules in spotlight\\n \\n A group of MPs and peers has called for a tightening of regulations controlling betting on sport.\\n \\n The Parliamentary Group on Betting and Gaming held a substantial inquiry into betting last year. It followed fears that a massive increase in betting on sport, such as that done using the internet and mobile phones, has led to more cheating. The all-party group recommended 15 ways to protect punters and improve the integrity of sports betting. They include a proposal for raising the maximum jail sentence for gambling cheats above the current two years. Lord Condon, head of the International Cricket Council's anti-corruption unit, who originally made the call for longer prison sentences, said the two-year penalty was \"derisory\". \"You could get a bigger sentence for failing to pay your hotel bill criminally than you could for corruption in major sports. \"Symbolically, a higher penalty, perhaps as the Bill passes through the two Houses, might be appropriate.\"\\n \\n The report recommended the governing bodies of sports have a say in the type of bets offered to punters, and for bookmakers to set up \"audit trails\" - something the new betting exchanges already do - to allow suspicious betting patterns to be traced.\\n \\n Lord Faulkner of Worcester, who chaired the inquiry, said: \"Whilst we accept that the greater part of sports betting is neither corrupt nor unfair to punters, the evidence convinces us that the growth of betting exchanges - because of the facility they provide to bet against a result - has increased the potential for corruption. \"It is important that the government works with sporting administrators to review the difficulties faced by governing bodies in convicting the guilty and penalising them appropriately.\" The panel's aim was to try to define what constitutes cheating, assess how much might be going on and suggest what the government might do to put it right. As well as the growth of internet and mobile phone betting, there has been the creation of betting exchanges which allow punters to fix odds between themselves. Betting exchanges allow punters to back (to win) but also lay (to lose) a horse. This means they can control their odds at winning by placing their money both ways.\\n   \n",
              "123                                                                                                                                                                                                                                                                                                                                                                                                                                                                                                                                                                                                                                                                                                                  EU fraud clampdown urged\\n \\n EU member states are failing to report fraud and irregularities in EU funds on a consistent basis, the UK's public spending watchdog has said.\\n \\n The National Audit Office said although the latest figures showed reported fraud was falling, the EU still had no common definition of fraud. It also expressed concern that, for the 10th year, the European Court of Auditors had qualified the EU accounts. The NAO urged the government to push for improvements in reporting fraud. It said member states needed to be more accountable on how money was spent. The report said: \"Member states still do not report fraud and other irregularities to the European Anti-Fraud Office on a consistent basis.\\n \\n \"As the court has now qualified its opinion on the Community accounts for a decade, it is essential for all the authorities involved to contribute to the strengthening of the audit of EU revenue and expenditure and improving accountability for the financial management and use of EU resources.\" It said there were 922 cases of reported fraud or irregularities in EU funds in the UK in 2003, worth Â£38.5m (52m euros), up from 831 cases worth Â£35.7m in 2002. At the same time, reported fraud throughout the EU dropped from 10,276 cases worth Â£808m to 8,177 cases worth Â£644m. Edward Leigh, chairman of the Commons public accounts committee, said Britain had to set an example when it assumed the EU presidency.\\n \\n \"Any fraud in other member states is potentially fraud against the UK taxpayer, given that we are the second largest net contributor to the Community,\" he said. \"Departments responsible for administering EU funds need to make sure that they're doing everything possible to weed out improper spending. \"The government must take the opportunity afforded by the UK presidency of the EU to press the Commission and other member states to take an equally robust stance against fraud and irregularity, and raise overall standards of financial management.\" A spokesman for the European Anti-Fraud Office said the organisation agreed with the NAO's assessment of fraud reporting. \"The quality of reporting does differ from member state to member state, and there is room for improvement,\" spokesman Jorg Wojahn said. He added that there is generally good co-operation with member states and the anti-fraud office on specific cases of fraud, with the statistics studied by NAO providing a \"good overview for planning strategic ways of detecting fraud\".\\n   \n",
              "\n",
              "          Category Actual Category  \n",
              "24   Entertainment        Politics  \n",
              "34      Technology        Politics  \n",
              "45        Business        Politics  \n",
              "52          Sports        Politics  \n",
              "123       Business        Politics  "
            ],
            "text/html": [
              "\n",
              "  <div id=\"df-7161f58c-a3e3-4c28-8e53-65003d361d5e\" class=\"colab-df-container\">\n",
              "    <div>\n",
              "<style scoped>\n",
              "    .dataframe tbody tr th:only-of-type {\n",
              "        vertical-align: middle;\n",
              "    }\n",
              "\n",
              "    .dataframe tbody tr th {\n",
              "        vertical-align: top;\n",
              "    }\n",
              "\n",
              "    .dataframe thead th {\n",
              "        text-align: right;\n",
              "    }\n",
              "</style>\n",
              "<table border=\"1\" class=\"dataframe\">\n",
              "  <thead>\n",
              "    <tr style=\"text-align: right;\">\n",
              "      <th></th>\n",
              "      <th>Text</th>\n",
              "      <th>Category</th>\n",
              "      <th>Actual Category</th>\n",
              "    </tr>\n",
              "  </thead>\n",
              "  <tbody>\n",
              "    <tr>\n",
              "      <th>24</th>\n",
              "      <td>'Hitler' row over Welsh arts cash\\n \\n An artist critical of Welsh arts funding being brought under assembly government control has denied comparing the idea with dictatorships in Russia and Germany.\\n \\n Shani Rhys James is worried that the Arts Council of Wales may be taken over by the Welsh Assembly Government. Culture Minister Alun Pugh said it would be \"crass and ignorant\" to liken a quango review to Hitler's Germany. But Ms James emphasised she had actually said artists needed freedom. The future of the Arts Council of Wales has been in question since it was announced that most Welsh quangos would eventually be abolished.\\n \\n It was announced last July that three Welsh quangos, education and training body Elwa, the Wales Tourist Board and the Welsh Development Agency, would be brought under assembly government control. The Arts Council of Wales may be among the next to come under the assembly government's umbrella. But Ms James, who won the Â£30,000 Jerwood painting prize in 2003, said arts funding should be separate from government. Ms James told BBC Radio Wales: \"It's quite dangerous when you involve politicians because it's not like the health service and it's not like the railways. \"Free expression is absolutely vital in a democratic society. You need distance, you do not need government interference because it could be taken the wrong way.\"\\n \\n But she said reports that she had likened the assembly government to totalitarian regimes were inaccurate.\\n \\n She told Good Morning Wales: \"Just to put the record straight, that business in the paper where it said I likened the government to Bolshevik Russia or Hitler's Germany, the actual quote I gave was: 'It is vital to a civilised society that we allow artists to express themselves without government control'. \"As we know from past European history, i.e. Russia and Germany in the early 20th Century, artists will go underground or leave the country or rather than compromise their expression'. \"Artists need a free voice to express themselves - they reflect a truth through their own art forms.'\" She said the assembly government was not best placed to run the arts in Wales.\\n \\n She added: \"It would be a momentous change and devastating to the arts. It would set the arts scene back 60 years, because I really don't think the government has the expertise. \"If you have the National Assembly taking control, I fear you are going to be going back to the dragons and leeks and the choirs.\\n \\n \"Wales has moved on. It is international now. It is not set back in How Green Was My Valley?\" Responding to Ms James' criticisms, Mr Pugh said: \"The structure of unelected quangos is under review and we have made it clear that further announcements are due shortly. \"Comparing the Welsh Assembly Government to Hitler's Germany is a crass and ignorant response to a real issue about democratic accountability.\" Ms James, whose father was Welsh, was born in Melbourne where her parents worked in the theatre. She moved to Powys nearly 20 years ago where she works from her studio near Llangadfan. She has won a number of arts prizes including the Wales Open in 1989 and the Mostyn Open in 1991.\\n</td>\n",
              "      <td>Entertainment</td>\n",
              "      <td>Politics</td>\n",
              "    </tr>\n",
              "    <tr>\n",
              "      <th>34</th>\n",
              "      <td>Final hunts held as ban looms\\n \\n Hunts in England and Wales have begun on the last day that hunting with dogs is legal, with more due out later.\\n \\n Thousands of supporters are expected to turn out at more than 250 meets, many of which have altered their normal schedules to be out on a Thursday. The ban on hunting with dogs comes into effect from 0001 GMT on Friday. The Countryside Alliance had its latest legal bid to block the ban thwarted on Wednesday when the Appeal Court ruled the Hunting Act was lawful.\\n \\n But the group says hunting will continue in some form after the ban comes in, with hunts expected to test the new law to its limits. Others are expected to defy the ban by continuing to hunt illegally.\\n \\n Anti-hunt organisations, for whom the ban is the culmination of years of campaigning, say they hope most will stay within the law. Mike Hobday, of the League Against Cruel Sports, told BBC News: \"We've long urged them to go drag hunting - to follow an artificial scent - and that is what we hope they do. \"But if they continue to chase foxes, to chase wild mammals around the countryside, that's against the law and we're confident they'll be brought to justice.\" At the headquarters of Quorn hunt in Leicestershire, feelings were running high as hunt enthusiasts prepared for their final legal hunt. BBC correspondent Sarah Mukherjee said hunt supporters were in tears.\\n \\n She said many people did not share the Countryside Alliance's optimism that hunting would be able to continue. Farmer Geoff Brooks, a senior member of the Quorn hunt, told BBC News people's lives \"revolved around hunting\". He described the ban as \"ridiculous\" and \"badly thought out\" but said it would be hard for most people to defy it as they would not want to risk their incomes by getting a criminal record.\\n \\n At the Court of Appeal on Wednesday, the Countryside Alliance failed in its attempt to have the Hunting Act ruled invalid. But it says the ban is unenforceable because the law is unclear and impossible to police.\\n \\n The alliance says hunt supporters will go out and test this law to its limits on Saturday. The League Against Cruel Sports and the RSPCA say they will monitor hunts and assist police in bringing prosecutions. The Association of Chief Police Officers has issued guidance to forces on how to deal with the new rules. A spokesman said: \"Basically, it's not going to be police officers chasing about in cars across fields, it will be based on intelligence and information received as well.\" The decision on how to police individual hunts will be left to local forces, with more officers sent to hunts where disruption is expected. He said police would consider evidence submitted by anti-hunt organisations on its merits.\\n</td>\n",
              "      <td>Technology</td>\n",
              "      <td>Politics</td>\n",
              "    </tr>\n",
              "    <tr>\n",
              "      <th>45</th>\n",
              "      <td>Drive to 'save' festive holidays\\n \\n Efforts are being made to 'protect' workers' days off on Christmas Day and New Year's Day.\\n \\n Support is being sought for a bill which would ensure that large retailers in Scotland remain closed on Christmas Day and 1 January. The Usdaw trade union said shop workers should be able to enjoy a break with their families. MSP Karen Whitefield wants to ensure only those whose roles are essential are at work over the festive season. In recent years, more stores have been opening on traditional holidays, with some starting their end-of-year sale on Christmas Day or New Year's Day. Ms Whitefield said: \"I have found members of the public to be very supportive when I have been campaigning on the streets.\\n \\n \"The early evidence shows quite clearly that the vast majority of people believe that shop workers should be given these two special days to spend with friends and family.\" Usdaw general secretary John Hannett added: \"Christmas Day and New Year's Day are special days for everyone in Scotland and the fact that shops do not open is an important part of making them special. They are largely collective days of rest. \"We want people to tell Karen, through her consultation, whether they want the special nature of these days to remain, or whether they want them to become like any other trading day, with shops open for business as usual.\" The consultation on a Christmas &amp; New Year's Day Trading Bill has so far attracted almost 500 responses and closes on 7 February.\\n</td>\n",
              "      <td>Business</td>\n",
              "      <td>Politics</td>\n",
              "    </tr>\n",
              "    <tr>\n",
              "      <th>52</th>\n",
              "      <td>Sport betting rules in spotlight\\n \\n A group of MPs and peers has called for a tightening of regulations controlling betting on sport.\\n \\n The Parliamentary Group on Betting and Gaming held a substantial inquiry into betting last year. It followed fears that a massive increase in betting on sport, such as that done using the internet and mobile phones, has led to more cheating. The all-party group recommended 15 ways to protect punters and improve the integrity of sports betting. They include a proposal for raising the maximum jail sentence for gambling cheats above the current two years. Lord Condon, head of the International Cricket Council's anti-corruption unit, who originally made the call for longer prison sentences, said the two-year penalty was \"derisory\". \"You could get a bigger sentence for failing to pay your hotel bill criminally than you could for corruption in major sports. \"Symbolically, a higher penalty, perhaps as the Bill passes through the two Houses, might be appropriate.\"\\n \\n The report recommended the governing bodies of sports have a say in the type of bets offered to punters, and for bookmakers to set up \"audit trails\" - something the new betting exchanges already do - to allow suspicious betting patterns to be traced.\\n \\n Lord Faulkner of Worcester, who chaired the inquiry, said: \"Whilst we accept that the greater part of sports betting is neither corrupt nor unfair to punters, the evidence convinces us that the growth of betting exchanges - because of the facility they provide to bet against a result - has increased the potential for corruption. \"It is important that the government works with sporting administrators to review the difficulties faced by governing bodies in convicting the guilty and penalising them appropriately.\" The panel's aim was to try to define what constitutes cheating, assess how much might be going on and suggest what the government might do to put it right. As well as the growth of internet and mobile phone betting, there has been the creation of betting exchanges which allow punters to fix odds between themselves. Betting exchanges allow punters to back (to win) but also lay (to lose) a horse. This means they can control their odds at winning by placing their money both ways.\\n</td>\n",
              "      <td>Sports</td>\n",
              "      <td>Politics</td>\n",
              "    </tr>\n",
              "    <tr>\n",
              "      <th>123</th>\n",
              "      <td>EU fraud clampdown urged\\n \\n EU member states are failing to report fraud and irregularities in EU funds on a consistent basis, the UK's public spending watchdog has said.\\n \\n The National Audit Office said although the latest figures showed reported fraud was falling, the EU still had no common definition of fraud. It also expressed concern that, for the 10th year, the European Court of Auditors had qualified the EU accounts. The NAO urged the government to push for improvements in reporting fraud. It said member states needed to be more accountable on how money was spent. The report said: \"Member states still do not report fraud and other irregularities to the European Anti-Fraud Office on a consistent basis.\\n \\n \"As the court has now qualified its opinion on the Community accounts for a decade, it is essential for all the authorities involved to contribute to the strengthening of the audit of EU revenue and expenditure and improving accountability for the financial management and use of EU resources.\" It said there were 922 cases of reported fraud or irregularities in EU funds in the UK in 2003, worth Â£38.5m (52m euros), up from 831 cases worth Â£35.7m in 2002. At the same time, reported fraud throughout the EU dropped from 10,276 cases worth Â£808m to 8,177 cases worth Â£644m. Edward Leigh, chairman of the Commons public accounts committee, said Britain had to set an example when it assumed the EU presidency.\\n \\n \"Any fraud in other member states is potentially fraud against the UK taxpayer, given that we are the second largest net contributor to the Community,\" he said. \"Departments responsible for administering EU funds need to make sure that they're doing everything possible to weed out improper spending. \"The government must take the opportunity afforded by the UK presidency of the EU to press the Commission and other member states to take an equally robust stance against fraud and irregularity, and raise overall standards of financial management.\" A spokesman for the European Anti-Fraud Office said the organisation agreed with the NAO's assessment of fraud reporting. \"The quality of reporting does differ from member state to member state, and there is room for improvement,\" spokesman Jorg Wojahn said. He added that there is generally good co-operation with member states and the anti-fraud office on specific cases of fraud, with the statistics studied by NAO providing a \"good overview for planning strategic ways of detecting fraud\".\\n</td>\n",
              "      <td>Business</td>\n",
              "      <td>Politics</td>\n",
              "    </tr>\n",
              "  </tbody>\n",
              "</table>\n",
              "</div>\n",
              "    <div class=\"colab-df-buttons\">\n",
              "\n",
              "  <div class=\"colab-df-container\">\n",
              "    <button class=\"colab-df-convert\" onclick=\"convertToInteractive('df-7161f58c-a3e3-4c28-8e53-65003d361d5e')\"\n",
              "            title=\"Convert this dataframe to an interactive table.\"\n",
              "            style=\"display:none;\">\n",
              "\n",
              "  <svg xmlns=\"http://www.w3.org/2000/svg\" height=\"24px\" viewBox=\"0 -960 960 960\">\n",
              "    <path d=\"M120-120v-720h720v720H120Zm60-500h600v-160H180v160Zm220 220h160v-160H400v160Zm0 220h160v-160H400v160ZM180-400h160v-160H180v160Zm440 0h160v-160H620v160ZM180-180h160v-160H180v160Zm440 0h160v-160H620v160Z\"/>\n",
              "  </svg>\n",
              "    </button>\n",
              "\n",
              "  <style>\n",
              "    .colab-df-container {\n",
              "      display:flex;\n",
              "      gap: 12px;\n",
              "    }\n",
              "\n",
              "    .colab-df-convert {\n",
              "      background-color: #E8F0FE;\n",
              "      border: none;\n",
              "      border-radius: 50%;\n",
              "      cursor: pointer;\n",
              "      display: none;\n",
              "      fill: #1967D2;\n",
              "      height: 32px;\n",
              "      padding: 0 0 0 0;\n",
              "      width: 32px;\n",
              "    }\n",
              "\n",
              "    .colab-df-convert:hover {\n",
              "      background-color: #E2EBFA;\n",
              "      box-shadow: 0px 1px 2px rgba(60, 64, 67, 0.3), 0px 1px 3px 1px rgba(60, 64, 67, 0.15);\n",
              "      fill: #174EA6;\n",
              "    }\n",
              "\n",
              "    .colab-df-buttons div {\n",
              "      margin-bottom: 4px;\n",
              "    }\n",
              "\n",
              "    [theme=dark] .colab-df-convert {\n",
              "      background-color: #3B4455;\n",
              "      fill: #D2E3FC;\n",
              "    }\n",
              "\n",
              "    [theme=dark] .colab-df-convert:hover {\n",
              "      background-color: #434B5C;\n",
              "      box-shadow: 0px 1px 3px 1px rgba(0, 0, 0, 0.15);\n",
              "      filter: drop-shadow(0px 1px 2px rgba(0, 0, 0, 0.3));\n",
              "      fill: #FFFFFF;\n",
              "    }\n",
              "  </style>\n",
              "\n",
              "    <script>\n",
              "      const buttonEl =\n",
              "        document.querySelector('#df-7161f58c-a3e3-4c28-8e53-65003d361d5e button.colab-df-convert');\n",
              "      buttonEl.style.display =\n",
              "        google.colab.kernel.accessAllowed ? 'block' : 'none';\n",
              "\n",
              "      async function convertToInteractive(key) {\n",
              "        const element = document.querySelector('#df-7161f58c-a3e3-4c28-8e53-65003d361d5e');\n",
              "        const dataTable =\n",
              "          await google.colab.kernel.invokeFunction('convertToInteractive',\n",
              "                                                    [key], {});\n",
              "        if (!dataTable) return;\n",
              "\n",
              "        const docLinkHtml = 'Like what you see? Visit the ' +\n",
              "          '<a target=\"_blank\" href=https://colab.research.google.com/notebooks/data_table.ipynb>data table notebook</a>'\n",
              "          + ' to learn more about interactive tables.';\n",
              "        element.innerHTML = '';\n",
              "        dataTable['output_type'] = 'display_data';\n",
              "        await google.colab.output.renderOutput(dataTable, element);\n",
              "        const docLink = document.createElement('div');\n",
              "        docLink.innerHTML = docLinkHtml;\n",
              "        element.appendChild(docLink);\n",
              "      }\n",
              "    </script>\n",
              "  </div>\n",
              "\n",
              "\n",
              "<div id=\"df-0e0ce16b-4936-451a-b840-6fb68a60d54f\">\n",
              "  <button class=\"colab-df-quickchart\" onclick=\"quickchart('df-0e0ce16b-4936-451a-b840-6fb68a60d54f')\"\n",
              "            title=\"Suggest charts\"\n",
              "            style=\"display:none;\">\n",
              "\n",
              "<svg xmlns=\"http://www.w3.org/2000/svg\" height=\"24px\"viewBox=\"0 0 24 24\"\n",
              "     width=\"24px\">\n",
              "    <g>\n",
              "        <path d=\"M19 3H5c-1.1 0-2 .9-2 2v14c0 1.1.9 2 2 2h14c1.1 0 2-.9 2-2V5c0-1.1-.9-2-2-2zM9 17H7v-7h2v7zm4 0h-2V7h2v10zm4 0h-2v-4h2v4z\"/>\n",
              "    </g>\n",
              "</svg>\n",
              "  </button>\n",
              "\n",
              "<style>\n",
              "  .colab-df-quickchart {\n",
              "      --bg-color: #E8F0FE;\n",
              "      --fill-color: #1967D2;\n",
              "      --hover-bg-color: #E2EBFA;\n",
              "      --hover-fill-color: #174EA6;\n",
              "      --disabled-fill-color: #AAA;\n",
              "      --disabled-bg-color: #DDD;\n",
              "  }\n",
              "\n",
              "  [theme=dark] .colab-df-quickchart {\n",
              "      --bg-color: #3B4455;\n",
              "      --fill-color: #D2E3FC;\n",
              "      --hover-bg-color: #434B5C;\n",
              "      --hover-fill-color: #FFFFFF;\n",
              "      --disabled-bg-color: #3B4455;\n",
              "      --disabled-fill-color: #666;\n",
              "  }\n",
              "\n",
              "  .colab-df-quickchart {\n",
              "    background-color: var(--bg-color);\n",
              "    border: none;\n",
              "    border-radius: 50%;\n",
              "    cursor: pointer;\n",
              "    display: none;\n",
              "    fill: var(--fill-color);\n",
              "    height: 32px;\n",
              "    padding: 0;\n",
              "    width: 32px;\n",
              "  }\n",
              "\n",
              "  .colab-df-quickchart:hover {\n",
              "    background-color: var(--hover-bg-color);\n",
              "    box-shadow: 0 1px 2px rgba(60, 64, 67, 0.3), 0 1px 3px 1px rgba(60, 64, 67, 0.15);\n",
              "    fill: var(--button-hover-fill-color);\n",
              "  }\n",
              "\n",
              "  .colab-df-quickchart-complete:disabled,\n",
              "  .colab-df-quickchart-complete:disabled:hover {\n",
              "    background-color: var(--disabled-bg-color);\n",
              "    fill: var(--disabled-fill-color);\n",
              "    box-shadow: none;\n",
              "  }\n",
              "\n",
              "  .colab-df-spinner {\n",
              "    border: 2px solid var(--fill-color);\n",
              "    border-color: transparent;\n",
              "    border-bottom-color: var(--fill-color);\n",
              "    animation:\n",
              "      spin 1s steps(1) infinite;\n",
              "  }\n",
              "\n",
              "  @keyframes spin {\n",
              "    0% {\n",
              "      border-color: transparent;\n",
              "      border-bottom-color: var(--fill-color);\n",
              "      border-left-color: var(--fill-color);\n",
              "    }\n",
              "    20% {\n",
              "      border-color: transparent;\n",
              "      border-left-color: var(--fill-color);\n",
              "      border-top-color: var(--fill-color);\n",
              "    }\n",
              "    30% {\n",
              "      border-color: transparent;\n",
              "      border-left-color: var(--fill-color);\n",
              "      border-top-color: var(--fill-color);\n",
              "      border-right-color: var(--fill-color);\n",
              "    }\n",
              "    40% {\n",
              "      border-color: transparent;\n",
              "      border-right-color: var(--fill-color);\n",
              "      border-top-color: var(--fill-color);\n",
              "    }\n",
              "    60% {\n",
              "      border-color: transparent;\n",
              "      border-right-color: var(--fill-color);\n",
              "    }\n",
              "    80% {\n",
              "      border-color: transparent;\n",
              "      border-right-color: var(--fill-color);\n",
              "      border-bottom-color: var(--fill-color);\n",
              "    }\n",
              "    90% {\n",
              "      border-color: transparent;\n",
              "      border-bottom-color: var(--fill-color);\n",
              "    }\n",
              "  }\n",
              "</style>\n",
              "\n",
              "  <script>\n",
              "    async function quickchart(key) {\n",
              "      const quickchartButtonEl =\n",
              "        document.querySelector('#' + key + ' button');\n",
              "      quickchartButtonEl.disabled = true;  // To prevent multiple clicks.\n",
              "      quickchartButtonEl.classList.add('colab-df-spinner');\n",
              "      try {\n",
              "        const charts = await google.colab.kernel.invokeFunction(\n",
              "            'suggestCharts', [key], {});\n",
              "      } catch (error) {\n",
              "        console.error('Error during call to suggestCharts:', error);\n",
              "      }\n",
              "      quickchartButtonEl.classList.remove('colab-df-spinner');\n",
              "      quickchartButtonEl.classList.add('colab-df-quickchart-complete');\n",
              "    }\n",
              "    (() => {\n",
              "      let quickchartButtonEl =\n",
              "        document.querySelector('#df-0e0ce16b-4936-451a-b840-6fb68a60d54f button');\n",
              "      quickchartButtonEl.style.display =\n",
              "        google.colab.kernel.accessAllowed ? 'block' : 'none';\n",
              "    })();\n",
              "  </script>\n",
              "</div>\n",
              "\n",
              "    </div>\n",
              "  </div>\n"
            ],
            "application/vnd.google.colaboratory.intrinsic+json": {
              "type": "dataframe",
              "variable_name": "incorrect_category_data",
              "summary": "{\n  \"name\": \"incorrect_category_data\",\n  \"rows\": 91,\n  \"fields\": [\n    {\n      \"column\": \"Text\",\n      \"properties\": {\n        \"dtype\": \"string\",\n        \"num_unique_values\": 91,\n        \"samples\": [\n          \"Wal-Mart is sued over rude lyrics\\n \\n The parents of a 13-year-old girl are suing US supermarket giant Wal-Mart over a CD by rock group Evanescence that contains swear words.\\n \\n The lawsuit, filed in Washington County, alleges Wal-Mart deceived customers by not putting warning labels on the cover. Trevin Skeens alleges Wal-Mart knew of the offending word because it had censored it on its music sales website. Wal-Mart said it was investigating the claims but had no plans to pull the CD. Wal-Mart has a policy of not stocking CDs which carry parental advisory labels. Mr Skeens said he bought the Anywhere But Home CD for his daughter and was shocked to hear the swearing when it was played in their car.\\n \\n \\\"I don't want any other families to get this, expecting it to be clean. It needs to be removed from the shelves to prevent other children from hearing it,\\\" said Mr Skeens of Brownsville. The lawsuit seeks to force Wal-Mart to censor the music or remove it from its stores in Maryland. It also seeks damages of up to $74,500 (\\u00c2\\u00a338,660) for every customer who bought the CD at Maryland Wal-Marts, and also naming record label Wind-Up Records and distributor BMG Entertainment in the legal action. \\\"While Wal-Mart sets high standards, it would not be possible to eliminate every image, word or topic that an individual might find objectionable,\\\" Wal-Mart spokesman Guy Whitcomb told the Herald-Mail of Hagerstown.\\n\",\n          \"Campbell to be Lions consultant\\n \\n Former government communications chief Alastair Campbell will act as a media consultant to Sir Clive Woodward's 2005 Lions on their tour to New Zealand.\\n \\n Campbell, who left Downing Street earlier this year, will advise on media strategy before and during the tour. \\\"I hope I can contribute to the planning and preparation, and to ensuring the media and public get the most out of the tour itself,\\\" he said. \\\"I am also looking forward to going out for the later stages of the tour.\\\" Woodward's decision to call in Prime Minister Tony Blair's former spin doctor springs from the deterioration in media relations on the last Lions tour of Australia in 2001, when New Zealander Graham Henry was the head coach. The furore surrounding the newspaper diaries of Matt Dawson and Austin Healey was compounded by other disillusioned players venting their frustration through the media. \\\"The Lions is a massive media event,\\\" said Woodward, who will be the head coach. \\\"There will be a huge level of interest from the travelling media, the fans that will go out in their thousands and the New Zealand public. \\\"We need to have the strategy and processes in place to deal with the pressures that will bring. \\\"[Alastair] will act as an advisor both in the build up to and on the tour itself. His role is to work closely with not only myself but (tour manager) Bill Beaumont, (media manager) Louisa Cheetham and (team manager) Louise Ramsay.\\\" Campbell is due to resume working for the government in the new year in the build-up to an anticipated May general election. The Lions leave for New Zealand on 24 May, with the first Test match against the All Blacks in Christchurch on 25 June.\\n\",\n          \"UK TV channel rapped for CSI ad\\n \\n TV channel Five has been criticised for sending \\\"offensive\\\" and \\\"threatening\\\" advertising material to viewers for a new show about murder scene scientists.\\n \\n Five mailed thousands of fake dossiers including photos of murder victims and an e-mail suggesting the recipient was being stalked by a serial killer. Following complaints, the Advertising Standards Authority contacted Five to cease promotion of crime show CSI:NY. Five admitted it had sent out 55,000 promotion packs but had now stopped. The promotion material was sent in brown envelope of the type used by investigators in the series, a spin-off from the highly successful CSI: Crime Scene Investigation series, which also runs on Five. The pack also features pictures of forensic evidence from a crime scene and a wanted poster, which did have a CSI:NY logo printed in large at the bottom.\\n \\n Five said it had received 100 complaints but that it had been surprised at the reaction because it was \\\"obvious this material is promoting a drama\\\". A Five spokesman said: \\\"In light of the efforts we have made to make the nature of the contents so transparent we are surprised a very small minority of recipients have mistaken it as anything else. \\\"Everyone who was sent this promotion has expressed an interest in receiving details about this particular genre of programming on various websites. \\\"We have also received emails and calls from recipients praising the originality and imagination of the campaign.\\\"\\n\"\n        ],\n        \"semantic_type\": \"\",\n        \"description\": \"\"\n      }\n    },\n    {\n      \"column\": \"Category\",\n      \"properties\": {\n        \"dtype\": \"category\",\n        \"num_unique_values\": 5,\n        \"samples\": [\n          \"Technology\",\n          \"Politics\",\n          \"Business\"\n        ],\n        \"semantic_type\": \"\",\n        \"description\": \"\"\n      }\n    },\n    {\n      \"column\": \"Actual Category\",\n      \"properties\": {\n        \"dtype\": \"category\",\n        \"num_unique_values\": 5,\n        \"samples\": [\n          \"Sports\",\n          \"Business\",\n          \"Technology\"\n        ],\n        \"semantic_type\": \"\",\n        \"description\": \"\"\n      }\n    }\n  ]\n}"
            }
          },
          "metadata": {},
          "execution_count": 37
        }
      ]
    },
    {
      "cell_type": "code",
      "source": [
        "idx = 24\n",
        "\n",
        "print('Distance from Actual Category')\n",
        "print(cdist(embedding_matrix[idx].reshape(1,-1), kmeans.cluster_centers_[[2]], \"euclidean\")[0,0])\n",
        "\n",
        "print('Distance from Predicted Category')\n",
        "print(cdist(embedding_matrix[idx].reshape(1,-1), kmeans.cluster_centers_[[3]], \"euclidean\")[0,0])"
      ],
      "metadata": {
        "colab": {
          "base_uri": "https://localhost:8080/"
        },
        "id": "ik58-0BV9LTQ",
        "outputId": "fcec9b39-0f9e-40e5-a266-41a91ac48159"
      },
      "execution_count": 38,
      "outputs": [
        {
          "output_type": "stream",
          "name": "stdout",
          "text": [
            "Distance from Actual Category\n",
            "0.9545187438410898\n",
            "Distance from Predicted Category\n",
            "1.0357046646132566\n"
          ]
        }
      ]
    },
    {
      "cell_type": "markdown",
      "source": [
        "We see that the distance of the particular news article from the cluster centers of the actual and predicted categories is almost similar."
      ],
      "metadata": {
        "id": "5U6ZfbaB9Xev"
      }
    },
    {
      "cell_type": "code",
      "source": [
        "idx = 45\n",
        "\n",
        "print('Distance from Actual Category')\n",
        "print(cdist(embedding_matrix[idx].reshape(1,-1), kmeans.cluster_centers_[[2]], \"euclidean\")[0,0])\n",
        "\n",
        "print('Distance from Predicted Category')\n",
        "print(cdist(embedding_matrix[idx].reshape(1,-1), kmeans.cluster_centers_[[4]], \"euclidean\")[0,0])"
      ],
      "metadata": {
        "colab": {
          "base_uri": "https://localhost:8080/"
        },
        "id": "h0pO4Fui8GvX",
        "outputId": "04b349b7-f44c-4c52-af37-9fb1504706ec"
      },
      "execution_count": 39,
      "outputs": [
        {
          "output_type": "stream",
          "name": "stdout",
          "text": [
            "Distance from Actual Category\n",
            "1.019115680375396\n",
            "Distance from Predicted Category\n",
            "1.0080197524127197\n"
          ]
        }
      ]
    },
    {
      "cell_type": "markdown",
      "source": [
        "We see that the distance of the particular news article from the cluster centers of the actual and predicted categories is almost similar."
      ],
      "metadata": {
        "id": "efuxIYIf9xK1"
      }
    },
    {
      "cell_type": "markdown",
      "source": [
        "Based on this, we can say that a better approach of categorizing these news articles would be to assign more than one category to these news article."
      ],
      "metadata": {
        "id": "Oqf6MjBN9zZw"
      }
    },
    {
      "cell_type": "markdown",
      "metadata": {
        "id": "wH77U4ukBiCe"
      },
      "source": [
        "## **Conclusion**"
      ]
    },
    {
      "cell_type": "markdown",
      "source": [
        "We did the following in the case study:\n",
        "\n",
        "1. Encoded the dataset using the ***all-MiniLM-L6-v2*** transformer model to generate embeddings of 384 dimensions\n",
        "\n",
        "2. Queried the dataset to find news articles similar to the query text we passed\n",
        "\n",
        "3. Categorized the news articles using K-Means Clustering on the transformer encodings\n",
        "\n",
        "4. Compared the predicted categories of the news articles to the actual categories\n",
        "\n",
        "5. Analyzed the incorrect predictions to understand where the model went wrong"
      ],
      "metadata": {
        "id": "t0DuBIcvRsuR"
      }
    },
    {
      "cell_type": "markdown",
      "source": [
        "- Our model can correctly categorize 96% of the news articles.\n",
        "\n",
        "- As mentioned, one can try tagging news articles with more than one category for better categorization.\n",
        "\n",
        "    - One can find the cluster centers to which the news article is the closest and assign one or more categories accordingly\n",
        "\n",
        "- Another approach that can be tried out would be fine-tuning the model to this particular data with category labels (one or more than one) to try and improve the overall performance.\n",
        "\n",
        "- In addition, the startup can use other transformer models to generate summaries of the news articles, which can provide a gist of the news content."
      ],
      "metadata": {
        "id": "v1PZyy_HABht"
      }
    },
    {
      "cell_type": "markdown",
      "source": [
        "<font size=5 color='blue'>Power Ahead!</font>\n",
        "___"
      ],
      "metadata": {
        "id": "SCju1K05iWCn"
      }
    }
  ],
  "metadata": {
    "accelerator": "GPU",
    "colab": {
      "gpuType": "T4",
      "provenance": [],
      "collapsed_sections": [
        "MjncuDf2qugI",
        "x9VSf2D_F5iU",
        "MzSKXh2LsOvd",
        "saFx1pbT_zTP",
        "svwbW6qDUB_B",
        "N-PA0a0AUnrR",
        "vvlzvKeqAH-i",
        "cIH4md8nAL4v",
        "xu_WH-DElvdg",
        "NuWYF7W_AQx_",
        "EBuO6NvsAT1k",
        "i8MHLoYFk4cj",
        "fYtRRwpJKTxz",
        "51ITQezWi9VE",
        "Lll4MLfzKfBa",
        "-WmQe5LKivez",
        "7Dda9VmGGDXR",
        "3hm4-zm4j8vb",
        "xP5x5M5a6kg1",
        "wH77U4ukBiCe"
      ]
    },
    "kernelspec": {
      "display_name": "Python 3 (ipykernel)",
      "language": "python",
      "name": "python3"
    },
    "language_info": {
      "codemirror_mode": {
        "name": "ipython",
        "version": 3
      },
      "file_extension": ".py",
      "mimetype": "text/x-python",
      "name": "python",
      "nbconvert_exporter": "python",
      "pygments_lexer": "ipython3",
      "version": "3.11.5"
    },
    "widgets": {
      "application/vnd.jupyter.widget-state+json": {
        "7bdcea32df7044a98cb49008933f7087": {
          "model_module": "@jupyter-widgets/controls",
          "model_name": "HBoxModel",
          "model_module_version": "1.5.0",
          "state": {
            "_dom_classes": [],
            "_model_module": "@jupyter-widgets/controls",
            "_model_module_version": "1.5.0",
            "_model_name": "HBoxModel",
            "_view_count": null,
            "_view_module": "@jupyter-widgets/controls",
            "_view_module_version": "1.5.0",
            "_view_name": "HBoxView",
            "box_style": "",
            "children": [
              "IPY_MODEL_dde0dc5c430f4ab787258d068dcbab4c",
              "IPY_MODEL_25eac164274442f69b09d190cfb54460",
              "IPY_MODEL_3523d69bcbba4a9a830d89cdd236b04d"
            ],
            "layout": "IPY_MODEL_7a7dd30f01e1487c82e70a5dcedceb0e"
          }
        },
        "dde0dc5c430f4ab787258d068dcbab4c": {
          "model_module": "@jupyter-widgets/controls",
          "model_name": "HTMLModel",
          "model_module_version": "1.5.0",
          "state": {
            "_dom_classes": [],
            "_model_module": "@jupyter-widgets/controls",
            "_model_module_version": "1.5.0",
            "_model_name": "HTMLModel",
            "_view_count": null,
            "_view_module": "@jupyter-widgets/controls",
            "_view_module_version": "1.5.0",
            "_view_name": "HTMLView",
            "description": "",
            "description_tooltip": null,
            "layout": "IPY_MODEL_4c4d91765197419e9cd6a53a5a29593d",
            "placeholder": "​",
            "style": "IPY_MODEL_2ea26c6333c744b59323af5512f10803",
            "value": "Batches: 100%"
          }
        },
        "25eac164274442f69b09d190cfb54460": {
          "model_module": "@jupyter-widgets/controls",
          "model_name": "FloatProgressModel",
          "model_module_version": "1.5.0",
          "state": {
            "_dom_classes": [],
            "_model_module": "@jupyter-widgets/controls",
            "_model_module_version": "1.5.0",
            "_model_name": "FloatProgressModel",
            "_view_count": null,
            "_view_module": "@jupyter-widgets/controls",
            "_view_module_version": "1.5.0",
            "_view_name": "ProgressView",
            "bar_style": "success",
            "description": "",
            "description_tooltip": null,
            "layout": "IPY_MODEL_30a817ed4adf4c45b4f4f87d4ca1ac1a",
            "max": 67,
            "min": 0,
            "orientation": "horizontal",
            "style": "IPY_MODEL_7cf7843e11454c81b9440edf781d96ec",
            "value": 67
          }
        },
        "3523d69bcbba4a9a830d89cdd236b04d": {
          "model_module": "@jupyter-widgets/controls",
          "model_name": "HTMLModel",
          "model_module_version": "1.5.0",
          "state": {
            "_dom_classes": [],
            "_model_module": "@jupyter-widgets/controls",
            "_model_module_version": "1.5.0",
            "_model_name": "HTMLModel",
            "_view_count": null,
            "_view_module": "@jupyter-widgets/controls",
            "_view_module_version": "1.5.0",
            "_view_name": "HTMLView",
            "description": "",
            "description_tooltip": null,
            "layout": "IPY_MODEL_90a94761d6a6473a96d25ba522dc207e",
            "placeholder": "​",
            "style": "IPY_MODEL_1e3cc8592f0a4330af936c34a75a7afa",
            "value": " 67/67 [00:13&lt;00:00, 11.08it/s]"
          }
        },
        "7a7dd30f01e1487c82e70a5dcedceb0e": {
          "model_module": "@jupyter-widgets/base",
          "model_name": "LayoutModel",
          "model_module_version": "1.2.0",
          "state": {
            "_model_module": "@jupyter-widgets/base",
            "_model_module_version": "1.2.0",
            "_model_name": "LayoutModel",
            "_view_count": null,
            "_view_module": "@jupyter-widgets/base",
            "_view_module_version": "1.2.0",
            "_view_name": "LayoutView",
            "align_content": null,
            "align_items": null,
            "align_self": null,
            "border": null,
            "bottom": null,
            "display": null,
            "flex": null,
            "flex_flow": null,
            "grid_area": null,
            "grid_auto_columns": null,
            "grid_auto_flow": null,
            "grid_auto_rows": null,
            "grid_column": null,
            "grid_gap": null,
            "grid_row": null,
            "grid_template_areas": null,
            "grid_template_columns": null,
            "grid_template_rows": null,
            "height": null,
            "justify_content": null,
            "justify_items": null,
            "left": null,
            "margin": null,
            "max_height": null,
            "max_width": null,
            "min_height": null,
            "min_width": null,
            "object_fit": null,
            "object_position": null,
            "order": null,
            "overflow": null,
            "overflow_x": null,
            "overflow_y": null,
            "padding": null,
            "right": null,
            "top": null,
            "visibility": null,
            "width": null
          }
        },
        "4c4d91765197419e9cd6a53a5a29593d": {
          "model_module": "@jupyter-widgets/base",
          "model_name": "LayoutModel",
          "model_module_version": "1.2.0",
          "state": {
            "_model_module": "@jupyter-widgets/base",
            "_model_module_version": "1.2.0",
            "_model_name": "LayoutModel",
            "_view_count": null,
            "_view_module": "@jupyter-widgets/base",
            "_view_module_version": "1.2.0",
            "_view_name": "LayoutView",
            "align_content": null,
            "align_items": null,
            "align_self": null,
            "border": null,
            "bottom": null,
            "display": null,
            "flex": null,
            "flex_flow": null,
            "grid_area": null,
            "grid_auto_columns": null,
            "grid_auto_flow": null,
            "grid_auto_rows": null,
            "grid_column": null,
            "grid_gap": null,
            "grid_row": null,
            "grid_template_areas": null,
            "grid_template_columns": null,
            "grid_template_rows": null,
            "height": null,
            "justify_content": null,
            "justify_items": null,
            "left": null,
            "margin": null,
            "max_height": null,
            "max_width": null,
            "min_height": null,
            "min_width": null,
            "object_fit": null,
            "object_position": null,
            "order": null,
            "overflow": null,
            "overflow_x": null,
            "overflow_y": null,
            "padding": null,
            "right": null,
            "top": null,
            "visibility": null,
            "width": null
          }
        },
        "2ea26c6333c744b59323af5512f10803": {
          "model_module": "@jupyter-widgets/controls",
          "model_name": "DescriptionStyleModel",
          "model_module_version": "1.5.0",
          "state": {
            "_model_module": "@jupyter-widgets/controls",
            "_model_module_version": "1.5.0",
            "_model_name": "DescriptionStyleModel",
            "_view_count": null,
            "_view_module": "@jupyter-widgets/base",
            "_view_module_version": "1.2.0",
            "_view_name": "StyleView",
            "description_width": ""
          }
        },
        "30a817ed4adf4c45b4f4f87d4ca1ac1a": {
          "model_module": "@jupyter-widgets/base",
          "model_name": "LayoutModel",
          "model_module_version": "1.2.0",
          "state": {
            "_model_module": "@jupyter-widgets/base",
            "_model_module_version": "1.2.0",
            "_model_name": "LayoutModel",
            "_view_count": null,
            "_view_module": "@jupyter-widgets/base",
            "_view_module_version": "1.2.0",
            "_view_name": "LayoutView",
            "align_content": null,
            "align_items": null,
            "align_self": null,
            "border": null,
            "bottom": null,
            "display": null,
            "flex": null,
            "flex_flow": null,
            "grid_area": null,
            "grid_auto_columns": null,
            "grid_auto_flow": null,
            "grid_auto_rows": null,
            "grid_column": null,
            "grid_gap": null,
            "grid_row": null,
            "grid_template_areas": null,
            "grid_template_columns": null,
            "grid_template_rows": null,
            "height": null,
            "justify_content": null,
            "justify_items": null,
            "left": null,
            "margin": null,
            "max_height": null,
            "max_width": null,
            "min_height": null,
            "min_width": null,
            "object_fit": null,
            "object_position": null,
            "order": null,
            "overflow": null,
            "overflow_x": null,
            "overflow_y": null,
            "padding": null,
            "right": null,
            "top": null,
            "visibility": null,
            "width": null
          }
        },
        "7cf7843e11454c81b9440edf781d96ec": {
          "model_module": "@jupyter-widgets/controls",
          "model_name": "ProgressStyleModel",
          "model_module_version": "1.5.0",
          "state": {
            "_model_module": "@jupyter-widgets/controls",
            "_model_module_version": "1.5.0",
            "_model_name": "ProgressStyleModel",
            "_view_count": null,
            "_view_module": "@jupyter-widgets/base",
            "_view_module_version": "1.2.0",
            "_view_name": "StyleView",
            "bar_color": null,
            "description_width": ""
          }
        },
        "90a94761d6a6473a96d25ba522dc207e": {
          "model_module": "@jupyter-widgets/base",
          "model_name": "LayoutModel",
          "model_module_version": "1.2.0",
          "state": {
            "_model_module": "@jupyter-widgets/base",
            "_model_module_version": "1.2.0",
            "_model_name": "LayoutModel",
            "_view_count": null,
            "_view_module": "@jupyter-widgets/base",
            "_view_module_version": "1.2.0",
            "_view_name": "LayoutView",
            "align_content": null,
            "align_items": null,
            "align_self": null,
            "border": null,
            "bottom": null,
            "display": null,
            "flex": null,
            "flex_flow": null,
            "grid_area": null,
            "grid_auto_columns": null,
            "grid_auto_flow": null,
            "grid_auto_rows": null,
            "grid_column": null,
            "grid_gap": null,
            "grid_row": null,
            "grid_template_areas": null,
            "grid_template_columns": null,
            "grid_template_rows": null,
            "height": null,
            "justify_content": null,
            "justify_items": null,
            "left": null,
            "margin": null,
            "max_height": null,
            "max_width": null,
            "min_height": null,
            "min_width": null,
            "object_fit": null,
            "object_position": null,
            "order": null,
            "overflow": null,
            "overflow_x": null,
            "overflow_y": null,
            "padding": null,
            "right": null,
            "top": null,
            "visibility": null,
            "width": null
          }
        },
        "1e3cc8592f0a4330af936c34a75a7afa": {
          "model_module": "@jupyter-widgets/controls",
          "model_name": "DescriptionStyleModel",
          "model_module_version": "1.5.0",
          "state": {
            "_model_module": "@jupyter-widgets/controls",
            "_model_module_version": "1.5.0",
            "_model_name": "DescriptionStyleModel",
            "_view_count": null,
            "_view_module": "@jupyter-widgets/base",
            "_view_module_version": "1.2.0",
            "_view_name": "StyleView",
            "description_width": ""
          }
        }
      }
    }
  },
  "nbformat": 4,
  "nbformat_minor": 0
}